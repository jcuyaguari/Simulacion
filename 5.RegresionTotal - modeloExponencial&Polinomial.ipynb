{
 "cells": [
  {
   "cell_type": "markdown",
   "metadata": {},
   "source": [
    "### UNIVERSIDAD POLITECNICA SALESIANA\n",
    "#### Alumno: Juan Cañar.\n",
    "#### Docente: Ing. Diego Quisi\n"
   ]
  },
  {
   "cell_type": "markdown",
   "metadata": {},
   "source": [
    "# Covid-19 infección en Ecuador. Modelos matemáticos y predicciones\n",
    "Una comparación de modelos, lineal, polilnomico,logísticos y exponenciales aplicados a la infección por el virus Covid-19\n",
    "\n",
    "Se realiza un análisis matemático simple del crecimiento de la infección en Python y dos modelos para comprender mejor la evolución de la infección.\n",
    "\n",
    "Se crea modelos de series temporales del número total de personas infectadas hasta la fecha (es decir, las personas realmente infectadas más las personas que han sido infectadas). Estos modelos tienen parámetros , que se estimarán por ajuste de curva."
   ]
  },
  {
   "cell_type": "code",
   "execution_count": 2,
   "metadata": {},
   "outputs": [],
   "source": [
    "# Importar las librerias para el analasis\n",
    "import pandas as pd\n",
    "import numpy as np\n",
    "from datetime import datetime,timedelta\n",
    "from sklearn.metrics import mean_squared_error\n",
    "from scipy.optimize import curve_fit\n",
    "from scipy.optimize import fsolve\n",
    "from sklearn import linear_model\n",
    "import matplotlib.pyplot as plt\n",
    "%matplotlib inline\n",
    "from xml.dom import minidom"
   ]
  },
  {
   "cell_type": "code",
   "execution_count": 3,
   "metadata": {},
   "outputs": [
    {
     "data": {
      "text/html": [
       "<div>\n",
       "<style scoped>\n",
       "    .dataframe tbody tr th:only-of-type {\n",
       "        vertical-align: middle;\n",
       "    }\n",
       "\n",
       "    .dataframe tbody tr th {\n",
       "        vertical-align: top;\n",
       "    }\n",
       "\n",
       "    .dataframe thead th {\n",
       "        text-align: right;\n",
       "    }\n",
       "</style>\n",
       "<table border=\"1\" class=\"dataframe\">\n",
       "  <thead>\n",
       "    <tr style=\"text-align: right;\">\n",
       "      <th></th>\n",
       "      <th>iso_code</th>\n",
       "      <th>continent</th>\n",
       "      <th>location</th>\n",
       "      <th>date</th>\n",
       "      <th>total_cases</th>\n",
       "      <th>new_cases</th>\n",
       "      <th>new_cases_smoothed</th>\n",
       "      <th>total_deaths</th>\n",
       "      <th>new_deaths</th>\n",
       "      <th>new_deaths_smoothed</th>\n",
       "      <th>...</th>\n",
       "      <th>gdp_per_capita</th>\n",
       "      <th>extreme_poverty</th>\n",
       "      <th>cardiovasc_death_rate</th>\n",
       "      <th>diabetes_prevalence</th>\n",
       "      <th>female_smokers</th>\n",
       "      <th>male_smokers</th>\n",
       "      <th>handwashing_facilities</th>\n",
       "      <th>hospital_beds_per_thousand</th>\n",
       "      <th>life_expectancy</th>\n",
       "      <th>human_development_index</th>\n",
       "    </tr>\n",
       "  </thead>\n",
       "  <tbody>\n",
       "    <tr>\n",
       "      <th>0</th>\n",
       "      <td>ECU</td>\n",
       "      <td>South America</td>\n",
       "      <td>Ecuador</td>\n",
       "      <td>2019-12-31</td>\n",
       "      <td>1.0</td>\n",
       "      <td>0.0</td>\n",
       "      <td>1.000</td>\n",
       "      <td>1.0</td>\n",
       "      <td>0.0</td>\n",
       "      <td>1.000</td>\n",
       "      <td>...</td>\n",
       "      <td>10581.936</td>\n",
       "      <td>3.6</td>\n",
       "      <td>140.448</td>\n",
       "      <td>5.55</td>\n",
       "      <td>2.0</td>\n",
       "      <td>12.3</td>\n",
       "      <td>80.635</td>\n",
       "      <td>1.5</td>\n",
       "      <td>77.01</td>\n",
       "      <td>0.752</td>\n",
       "    </tr>\n",
       "    <tr>\n",
       "      <th>1</th>\n",
       "      <td>ECU</td>\n",
       "      <td>South America</td>\n",
       "      <td>Ecuador</td>\n",
       "      <td>2020-01-01</td>\n",
       "      <td>1.0</td>\n",
       "      <td>0.0</td>\n",
       "      <td>1.000</td>\n",
       "      <td>1.0</td>\n",
       "      <td>0.0</td>\n",
       "      <td>1.000</td>\n",
       "      <td>...</td>\n",
       "      <td>10581.936</td>\n",
       "      <td>3.6</td>\n",
       "      <td>140.448</td>\n",
       "      <td>5.55</td>\n",
       "      <td>2.0</td>\n",
       "      <td>12.3</td>\n",
       "      <td>80.635</td>\n",
       "      <td>1.5</td>\n",
       "      <td>77.01</td>\n",
       "      <td>0.752</td>\n",
       "    </tr>\n",
       "    <tr>\n",
       "      <th>2</th>\n",
       "      <td>ECU</td>\n",
       "      <td>South America</td>\n",
       "      <td>Ecuador</td>\n",
       "      <td>2020-01-02</td>\n",
       "      <td>1.0</td>\n",
       "      <td>0.0</td>\n",
       "      <td>1.000</td>\n",
       "      <td>1.0</td>\n",
       "      <td>0.0</td>\n",
       "      <td>1.000</td>\n",
       "      <td>...</td>\n",
       "      <td>10581.936</td>\n",
       "      <td>3.6</td>\n",
       "      <td>140.448</td>\n",
       "      <td>5.55</td>\n",
       "      <td>2.0</td>\n",
       "      <td>12.3</td>\n",
       "      <td>80.635</td>\n",
       "      <td>1.5</td>\n",
       "      <td>77.01</td>\n",
       "      <td>0.752</td>\n",
       "    </tr>\n",
       "    <tr>\n",
       "      <th>3</th>\n",
       "      <td>ECU</td>\n",
       "      <td>South America</td>\n",
       "      <td>Ecuador</td>\n",
       "      <td>2020-01-03</td>\n",
       "      <td>1.0</td>\n",
       "      <td>0.0</td>\n",
       "      <td>1.000</td>\n",
       "      <td>1.0</td>\n",
       "      <td>0.0</td>\n",
       "      <td>1.000</td>\n",
       "      <td>...</td>\n",
       "      <td>10581.936</td>\n",
       "      <td>3.6</td>\n",
       "      <td>140.448</td>\n",
       "      <td>5.55</td>\n",
       "      <td>2.0</td>\n",
       "      <td>12.3</td>\n",
       "      <td>80.635</td>\n",
       "      <td>1.5</td>\n",
       "      <td>77.01</td>\n",
       "      <td>0.752</td>\n",
       "    </tr>\n",
       "    <tr>\n",
       "      <th>4</th>\n",
       "      <td>ECU</td>\n",
       "      <td>South America</td>\n",
       "      <td>Ecuador</td>\n",
       "      <td>2020-01-04</td>\n",
       "      <td>1.0</td>\n",
       "      <td>0.0</td>\n",
       "      <td>1.000</td>\n",
       "      <td>1.0</td>\n",
       "      <td>0.0</td>\n",
       "      <td>1.000</td>\n",
       "      <td>...</td>\n",
       "      <td>10581.936</td>\n",
       "      <td>3.6</td>\n",
       "      <td>140.448</td>\n",
       "      <td>5.55</td>\n",
       "      <td>2.0</td>\n",
       "      <td>12.3</td>\n",
       "      <td>80.635</td>\n",
       "      <td>1.5</td>\n",
       "      <td>77.01</td>\n",
       "      <td>0.752</td>\n",
       "    </tr>\n",
       "    <tr>\n",
       "      <th>...</th>\n",
       "      <td>...</td>\n",
       "      <td>...</td>\n",
       "      <td>...</td>\n",
       "      <td>...</td>\n",
       "      <td>...</td>\n",
       "      <td>...</td>\n",
       "      <td>...</td>\n",
       "      <td>...</td>\n",
       "      <td>...</td>\n",
       "      <td>...</td>\n",
       "      <td>...</td>\n",
       "      <td>...</td>\n",
       "      <td>...</td>\n",
       "      <td>...</td>\n",
       "      <td>...</td>\n",
       "      <td>...</td>\n",
       "      <td>...</td>\n",
       "      <td>...</td>\n",
       "      <td>...</td>\n",
       "      <td>...</td>\n",
       "      <td>...</td>\n",
       "    </tr>\n",
       "    <tr>\n",
       "      <th>305</th>\n",
       "      <td>ECU</td>\n",
       "      <td>South America</td>\n",
       "      <td>Ecuador</td>\n",
       "      <td>2020-10-31</td>\n",
       "      <td>167147.0</td>\n",
       "      <td>845.0</td>\n",
       "      <td>1268.143</td>\n",
       "      <td>12632.0</td>\n",
       "      <td>10.0</td>\n",
       "      <td>14.857</td>\n",
       "      <td>...</td>\n",
       "      <td>10581.936</td>\n",
       "      <td>3.6</td>\n",
       "      <td>140.448</td>\n",
       "      <td>5.55</td>\n",
       "      <td>2.0</td>\n",
       "      <td>12.3</td>\n",
       "      <td>80.635</td>\n",
       "      <td>1.5</td>\n",
       "      <td>77.01</td>\n",
       "      <td>0.752</td>\n",
       "    </tr>\n",
       "    <tr>\n",
       "      <th>306</th>\n",
       "      <td>ECU</td>\n",
       "      <td>South America</td>\n",
       "      <td>Ecuador</td>\n",
       "      <td>2020-11-01</td>\n",
       "      <td>168192.0</td>\n",
       "      <td>1045.0</td>\n",
       "      <td>1225.429</td>\n",
       "      <td>12670.0</td>\n",
       "      <td>38.0</td>\n",
       "      <td>18.286</td>\n",
       "      <td>...</td>\n",
       "      <td>10581.936</td>\n",
       "      <td>3.6</td>\n",
       "      <td>140.448</td>\n",
       "      <td>5.55</td>\n",
       "      <td>2.0</td>\n",
       "      <td>12.3</td>\n",
       "      <td>80.635</td>\n",
       "      <td>1.5</td>\n",
       "      <td>77.01</td>\n",
       "      <td>0.752</td>\n",
       "    </tr>\n",
       "    <tr>\n",
       "      <th>307</th>\n",
       "      <td>ECU</td>\n",
       "      <td>South America</td>\n",
       "      <td>Ecuador</td>\n",
       "      <td>2020-11-02</td>\n",
       "      <td>169194.0</td>\n",
       "      <td>1002.0</td>\n",
       "      <td>1079.857</td>\n",
       "      <td>12684.0</td>\n",
       "      <td>14.0</td>\n",
       "      <td>18.714</td>\n",
       "      <td>...</td>\n",
       "      <td>10581.936</td>\n",
       "      <td>3.6</td>\n",
       "      <td>140.448</td>\n",
       "      <td>5.55</td>\n",
       "      <td>2.0</td>\n",
       "      <td>12.3</td>\n",
       "      <td>80.635</td>\n",
       "      <td>1.5</td>\n",
       "      <td>77.01</td>\n",
       "      <td>0.752</td>\n",
       "    </tr>\n",
       "    <tr>\n",
       "      <th>308</th>\n",
       "      <td>ECU</td>\n",
       "      <td>South America</td>\n",
       "      <td>Ecuador</td>\n",
       "      <td>2020-11-03</td>\n",
       "      <td>169562.0</td>\n",
       "      <td>368.0</td>\n",
       "      <td>1054.857</td>\n",
       "      <td>12692.0</td>\n",
       "      <td>8.0</td>\n",
       "      <td>17.000</td>\n",
       "      <td>...</td>\n",
       "      <td>10581.936</td>\n",
       "      <td>3.6</td>\n",
       "      <td>140.448</td>\n",
       "      <td>5.55</td>\n",
       "      <td>2.0</td>\n",
       "      <td>12.3</td>\n",
       "      <td>80.635</td>\n",
       "      <td>1.5</td>\n",
       "      <td>77.01</td>\n",
       "      <td>0.752</td>\n",
       "    </tr>\n",
       "    <tr>\n",
       "      <th>309</th>\n",
       "      <td>ECU</td>\n",
       "      <td>South America</td>\n",
       "      <td>Ecuador</td>\n",
       "      <td>2020-11-04</td>\n",
       "      <td>170110.0</td>\n",
       "      <td>548.0</td>\n",
       "      <td>988.286</td>\n",
       "      <td>12698.0</td>\n",
       "      <td>6.0</td>\n",
       "      <td>15.714</td>\n",
       "      <td>...</td>\n",
       "      <td>10581.936</td>\n",
       "      <td>3.6</td>\n",
       "      <td>140.448</td>\n",
       "      <td>5.55</td>\n",
       "      <td>2.0</td>\n",
       "      <td>12.3</td>\n",
       "      <td>80.635</td>\n",
       "      <td>1.5</td>\n",
       "      <td>77.01</td>\n",
       "      <td>0.752</td>\n",
       "    </tr>\n",
       "  </tbody>\n",
       "</table>\n",
       "<p>310 rows × 49 columns</p>\n",
       "</div>"
      ],
      "text/plain": [
       "    iso_code      continent location        date  total_cases  new_cases  \\\n",
       "0        ECU  South America  Ecuador  2019-12-31          1.0        0.0   \n",
       "1        ECU  South America  Ecuador  2020-01-01          1.0        0.0   \n",
       "2        ECU  South America  Ecuador  2020-01-02          1.0        0.0   \n",
       "3        ECU  South America  Ecuador  2020-01-03          1.0        0.0   \n",
       "4        ECU  South America  Ecuador  2020-01-04          1.0        0.0   \n",
       "..       ...            ...      ...         ...          ...        ...   \n",
       "305      ECU  South America  Ecuador  2020-10-31     167147.0      845.0   \n",
       "306      ECU  South America  Ecuador  2020-11-01     168192.0     1045.0   \n",
       "307      ECU  South America  Ecuador  2020-11-02     169194.0     1002.0   \n",
       "308      ECU  South America  Ecuador  2020-11-03     169562.0      368.0   \n",
       "309      ECU  South America  Ecuador  2020-11-04     170110.0      548.0   \n",
       "\n",
       "     new_cases_smoothed  total_deaths  new_deaths  new_deaths_smoothed  ...  \\\n",
       "0                 1.000           1.0         0.0                1.000  ...   \n",
       "1                 1.000           1.0         0.0                1.000  ...   \n",
       "2                 1.000           1.0         0.0                1.000  ...   \n",
       "3                 1.000           1.0         0.0                1.000  ...   \n",
       "4                 1.000           1.0         0.0                1.000  ...   \n",
       "..                  ...           ...         ...                  ...  ...   \n",
       "305            1268.143       12632.0        10.0               14.857  ...   \n",
       "306            1225.429       12670.0        38.0               18.286  ...   \n",
       "307            1079.857       12684.0        14.0               18.714  ...   \n",
       "308            1054.857       12692.0         8.0               17.000  ...   \n",
       "309             988.286       12698.0         6.0               15.714  ...   \n",
       "\n",
       "     gdp_per_capita  extreme_poverty  cardiovasc_death_rate  \\\n",
       "0         10581.936              3.6                140.448   \n",
       "1         10581.936              3.6                140.448   \n",
       "2         10581.936              3.6                140.448   \n",
       "3         10581.936              3.6                140.448   \n",
       "4         10581.936              3.6                140.448   \n",
       "..              ...              ...                    ...   \n",
       "305       10581.936              3.6                140.448   \n",
       "306       10581.936              3.6                140.448   \n",
       "307       10581.936              3.6                140.448   \n",
       "308       10581.936              3.6                140.448   \n",
       "309       10581.936              3.6                140.448   \n",
       "\n",
       "     diabetes_prevalence  female_smokers  male_smokers  \\\n",
       "0                   5.55             2.0          12.3   \n",
       "1                   5.55             2.0          12.3   \n",
       "2                   5.55             2.0          12.3   \n",
       "3                   5.55             2.0          12.3   \n",
       "4                   5.55             2.0          12.3   \n",
       "..                   ...             ...           ...   \n",
       "305                 5.55             2.0          12.3   \n",
       "306                 5.55             2.0          12.3   \n",
       "307                 5.55             2.0          12.3   \n",
       "308                 5.55             2.0          12.3   \n",
       "309                 5.55             2.0          12.3   \n",
       "\n",
       "     handwashing_facilities  hospital_beds_per_thousand  life_expectancy  \\\n",
       "0                    80.635                         1.5            77.01   \n",
       "1                    80.635                         1.5            77.01   \n",
       "2                    80.635                         1.5            77.01   \n",
       "3                    80.635                         1.5            77.01   \n",
       "4                    80.635                         1.5            77.01   \n",
       "..                      ...                         ...              ...   \n",
       "305                  80.635                         1.5            77.01   \n",
       "306                  80.635                         1.5            77.01   \n",
       "307                  80.635                         1.5            77.01   \n",
       "308                  80.635                         1.5            77.01   \n",
       "309                  80.635                         1.5            77.01   \n",
       "\n",
       "     human_development_index  \n",
       "0                      0.752  \n",
       "1                      0.752  \n",
       "2                      0.752  \n",
       "3                      0.752  \n",
       "4                      0.752  \n",
       "..                       ...  \n",
       "305                    0.752  \n",
       "306                    0.752  \n",
       "307                    0.752  \n",
       "308                    0.752  \n",
       "309                    0.752  \n",
       "\n",
       "[310 rows x 49 columns]"
      ]
     },
     "execution_count": 3,
     "metadata": {},
     "output_type": "execute_result"
    }
   ],
   "source": [
    "# Actualizar los datos (URL) \n",
    "#datos tomados de https://www.google.com/covid19/mobility/\n",
    "#https://github.com/owid/covid-19-data/tree/master/public/data\n",
    "#url = 'Libro1.xlsx'\n",
    "url = 'owid-covid-data.csv'\n",
    "df = pd.read_csv(url)\n",
    "df= df.fillna(1)\n",
    "df"
   ]
  },
  {
   "cell_type": "markdown",
   "metadata": {},
   "source": [
    "Imprimos los resultados y agregamos el numero del dia\n"
   ]
  },
  {
   "cell_type": "code",
   "execution_count": 4,
   "metadata": {},
   "outputs": [
    {
     "data": {
      "text/html": [
       "<div>\n",
       "<style scoped>\n",
       "    .dataframe tbody tr th:only-of-type {\n",
       "        vertical-align: middle;\n",
       "    }\n",
       "\n",
       "    .dataframe tbody tr th {\n",
       "        vertical-align: top;\n",
       "    }\n",
       "\n",
       "    .dataframe thead th {\n",
       "        text-align: right;\n",
       "    }\n",
       "</style>\n",
       "<table border=\"1\" class=\"dataframe\">\n",
       "  <thead>\n",
       "    <tr style=\"text-align: right;\">\n",
       "      <th></th>\n",
       "      <th>date</th>\n",
       "      <th>total_cases</th>\n",
       "      <th>iso_code</th>\n",
       "    </tr>\n",
       "  </thead>\n",
       "  <tbody>\n",
       "    <tr>\n",
       "      <th>0</th>\n",
       "      <td>1</td>\n",
       "      <td>1.0</td>\n",
       "      <td>ECU</td>\n",
       "    </tr>\n",
       "    <tr>\n",
       "      <th>1</th>\n",
       "      <td>2</td>\n",
       "      <td>1.0</td>\n",
       "      <td>ECU</td>\n",
       "    </tr>\n",
       "    <tr>\n",
       "      <th>2</th>\n",
       "      <td>3</td>\n",
       "      <td>1.0</td>\n",
       "      <td>ECU</td>\n",
       "    </tr>\n",
       "    <tr>\n",
       "      <th>3</th>\n",
       "      <td>4</td>\n",
       "      <td>1.0</td>\n",
       "      <td>ECU</td>\n",
       "    </tr>\n",
       "    <tr>\n",
       "      <th>4</th>\n",
       "      <td>5</td>\n",
       "      <td>1.0</td>\n",
       "      <td>ECU</td>\n",
       "    </tr>\n",
       "    <tr>\n",
       "      <th>...</th>\n",
       "      <td>...</td>\n",
       "      <td>...</td>\n",
       "      <td>...</td>\n",
       "    </tr>\n",
       "    <tr>\n",
       "      <th>305</th>\n",
       "      <td>306</td>\n",
       "      <td>167147.0</td>\n",
       "      <td>ECU</td>\n",
       "    </tr>\n",
       "    <tr>\n",
       "      <th>306</th>\n",
       "      <td>307</td>\n",
       "      <td>168192.0</td>\n",
       "      <td>ECU</td>\n",
       "    </tr>\n",
       "    <tr>\n",
       "      <th>307</th>\n",
       "      <td>308</td>\n",
       "      <td>169194.0</td>\n",
       "      <td>ECU</td>\n",
       "    </tr>\n",
       "    <tr>\n",
       "      <th>308</th>\n",
       "      <td>309</td>\n",
       "      <td>169562.0</td>\n",
       "      <td>ECU</td>\n",
       "    </tr>\n",
       "    <tr>\n",
       "      <th>309</th>\n",
       "      <td>310</td>\n",
       "      <td>170110.0</td>\n",
       "      <td>ECU</td>\n",
       "    </tr>\n",
       "  </tbody>\n",
       "</table>\n",
       "<p>310 rows × 3 columns</p>\n",
       "</div>"
      ],
      "text/plain": [
       "     date  total_cases iso_code\n",
       "0       1          1.0      ECU\n",
       "1       2          1.0      ECU\n",
       "2       3          1.0      ECU\n",
       "3       4          1.0      ECU\n",
       "4       5          1.0      ECU\n",
       "..    ...          ...      ...\n",
       "305   306     167147.0      ECU\n",
       "306   307     168192.0      ECU\n",
       "307   308     169194.0      ECU\n",
       "308   309     169562.0      ECU\n",
       "309   310     170110.0      ECU\n",
       "\n",
       "[310 rows x 3 columns]"
      ]
     },
     "execution_count": 4,
     "metadata": {},
     "output_type": "execute_result"
    }
   ],
   "source": [
    "df = df[df['location'].isin(['Ecuador'])] #Filtro la Informacion solo para Ecuador\n",
    "df = df.loc[:,['date','total_cases','iso_code']] #Selecciono las columnas de analasis\n",
    "# Expresar las fechas en numero de dias desde el 01 Enero\n",
    "FMT = '%Y-%m-%d'\n",
    "date = df['date']\n",
    "df['date'] = date.map(lambda x : (datetime.strptime(x, FMT) - datetime.strptime(\"2019-12-30\", FMT)).days)\n",
    "\n",
    "df\n",
    "#data[~data.isin([np.nan, np.inf, -np.inf]).any(1)]"
   ]
  },
  {
   "cell_type": "code",
   "execution_count": 5,
   "metadata": {},
   "outputs": [
    {
     "data": {
      "text/plain": [
       "<matplotlib.axes._subplots.AxesSubplot at 0x20d95904a48>"
      ]
     },
     "execution_count": 5,
     "metadata": {},
     "output_type": "execute_result"
    },
    {
     "data": {
      "image/png": "[encoded data removed]",
      "text/plain": [
       "<Figure size 432x288 with 1 Axes>"
      ]
     },
     "metadata": {
      "needs_background": "light"
     },
     "output_type": "display_data"
    }
   ],
   "source": [
    " df.plot(x ='date', y='total_cases')\n",
    "#df[~df.isin([np.nan, np.inf, -np.inf]).any(1)]\n",
    "#df['Ecuador']=df['Ecuador'].fillna(0) #Reemplaza con ceros \n",
    "#df = df.replace(np.nan, 1)\n",
    "#df.describe()"
   ]
  },
  {
   "cell_type": "markdown",
   "metadata": {},
   "source": [
    "Ahora podemos analizar los cuatro modelos que tomaré en el examen, que son la función lineal, polinomica,logística y la función exponencial . Cada modelo tiene tres parámetros , que se estimarán mediante un cálculo de ajuste de curva en los datos históricos.\n",
    "\n",
    "## EL modelo lineal\n",
    "\n",
    "La regresión lineal es un algoritmo de aprendizaje supervisado que se utiliza en Machine Learning y en estadística. En su versión más sencilla, lo que haremos es «dibujar una recta» que nos indicará la tendencia de un conjunto de datos continuos.\n",
    "\n",
    "Recordemos rápidamente la fórmula de la recta:\n",
    "\n",
    "Y = mX + b\n",
    "\n",
    "Donde Y es el resultado, X es la variable, m la pendiente (o coeficiente) de la recta y b la constante o también conocida como el «punto de corte con el eje Y» en la gráfica (cuando X=0)\n",
    "Ejemplo\n",
    "\n",
    "\n",
    "Recordemos que los algoritmos de Machine Learning Supervisados, aprenden por sí mismos y -en este caso- a obtener automáticamente esa «recta» que buscamos con la tendencia de predicción. Para hacerlo se mide el error con respecto a los puntos de entrada y el valor «Y» de salida real.\n",
    "\n"
   ]
  },
  {
   "cell_type": "code",
   "execution_count": 6,
   "metadata": {},
   "outputs": [
    {
     "name": "stdout",
     "output_type": "stream",
     "text": [
      "[1, 2, 3, 4, 5, 6, 7, 8, 9, 10, 11, 12, 13, 14, 15, 16, 17, 18, 19, 20, 21, 22, 23, 24, 25, 26, 27, 28, 29, 30, 31, 32, 33, 34, 35, 36, 37, 38, 39, 40, 41, 42, 43, 44, 45, 46, 47, 48, 49, 50, 51, 52, 53, 54, 55, 56, 57, 58, 59, 60, 61, 62, 63, 64, 65, 66, 67, 68, 69, 70, 71, 72, 73, 74, 75, 76, 77, 78, 79, 80, 81, 82, 83, 84, 85, 86, 87, 88, 89, 90, 91, 92, 93, 94, 95, 96, 97, 98, 99, 100, 101, 102, 103, 104, 105, 106, 107, 108, 109, 110, 111, 112, 113, 114, 115, 116, 117, 118, 119, 120, 121, 122, 123, 124, 125, 126, 127, 128, 129, 130, 131, 132, 133, 134, 135, 136, 137, 138, 139, 140, 141, 142, 143, 144, 145, 146, 147, 148, 149, 150, 151, 152, 153, 154, 155, 156, 157, 158, 159, 160, 161, 162, 163, 164, 165, 166, 167, 168, 169, 170, 171, 172, 173, 174, 175, 176, 177, 178, 179, 180, 181, 182, 183, 184, 185, 186, 187, 188, 189, 190, 191, 192, 193, 194, 195, 196, 197, 198, 199, 200, 201, 202, 203, 204, 205, 206, 207, 208, 209, 210, 211, 212, 213, 214, 215, 216, 217, 218, 219, 220, 221, 222, 223, 224, 225, 226, 227, 228, 229, 230, 231, 232, 233, 234, 235, 236, 237, 238, 239, 240, 241, 242, 243, 244, 245, 246, 247, 248, 249, 250, 251, 252, 253, 254, 255, 256, 257, 258, 259, 260, 261, 262, 263, 264, 265, 266, 267, 268, 269, 270, 271, 272, 273, 274, 275, 276, 277, 278, 279, 280, 281, 282, 283, 284, 285, 286, 287, 288, 289, 290, 291, 292, 293, 294, 295, 296, 297, 298, 299, 300, 301, 302, 303, 304, 305, 306, 307, 308, 309, 310]\n",
      "Coefficients: \n",
      " [582.45641984]\n",
      "Independent term: \n",
      " -35705.066833698686\n"
     ]
    }
   ],
   "source": [
    "x = list(df.iloc [:, 0]) # Fecha\n",
    "y = list(df.iloc [:, 1]) # Numero de casos\n",
    "# Creamos el objeto de Regresión Lineal\n",
    "regr = linear_model.LinearRegression()\n",
    "print(x)\n",
    "# Entrenamos nuestro modelo\n",
    "regr.fit(np.array(x).reshape(-1, 1) ,y)\n",
    "\n",
    "# Veamos los coeficienetes obtenidos, En nuestro caso, serán la Tangente\n",
    "print('Coefficients: \\n', regr.coef_)\n",
    "# Este es el valor donde corta el eje Y (en X=0)\n",
    "print('Independent term: \\n', regr.intercept_)\n",
    "# Error Cuadrado Medio"
   ]
  },
  {
   "cell_type": "markdown",
   "metadata": {},
   "source": [
    "De la ecuación de la recta y = mX + b nuestra pendiente «m» es el coeficiente y el término independiente «b»\n"
   ]
  },
  {
   "cell_type": "code",
   "execution_count": 9,
   "metadata": {},
   "outputs": [
    {
     "name": "stdout",
     "output_type": "stream",
     "text": [
      "ESCRIBA NUMERO DE DIAS: 20\n",
      "Para el dia 20 hay estos casos:  -24055\n"
     ]
    }
   ],
   "source": [
    "#Vamos a comprobar:\n",
    "# Quiero predecir cuántos \"Casos\" voy a obtener por en el dia 100,\n",
    "# según nuestro modelo, hacemos:\n",
    "cantidad = int(input(\"ESCRIBA NUMERO DE DIAS: \"))\n",
    "y_prediccion = regr.predict([[cantidad]])\n",
    "print('Para el dia',cantidad ,'hay estos casos: ',int(y_prediccion))"
   ]
  },
  {
   "cell_type": "code",
   "execution_count": 10,
   "metadata": {},
   "outputs": [
    {
     "data": {
      "image/png": "[encoded data removed]",
      "text/plain": [
       "<Figure size 432x288 with 1 Axes>"
      ]
     },
     "metadata": {
      "needs_background": "light"
     },
     "output_type": "display_data"
    }
   ],
   "source": [
    "#Graficar\n",
    "plt.scatter(x, y)\n",
    "x_real = np.array(range(0, 50))\n",
    "#print(x_real)\n",
    "plt.plot(x_real, regr.predict(x_real.reshape(-1, 1)), color='red')\n",
    "plt.show()\n"
   ]
  },
  {
   "attachments": {
    "image.png": {
     "image/png": "[encoded data removed]"
    }
   },
   "cell_type": "markdown",
   "metadata": {},
   "source": [
    "\n",
    "## El modelo logistico\n",
    "\n",
    "El modelo logístico se ha utilizado ampliamente para describir el crecimiento de una población. Una infección puede describirse como el crecimiento de la población de un agente patógeno, por lo que un modelo logístico parece razonable .\n",
    "La expresión más genérica de una función logística es:\n",
    "\n",
    "![image.png](attachment:image.png)\n",
    "\n",
    "En esta fórmula, tenemos la variable x que es el tiempo y tres parámetros: a, b, c .\n",
    "\n",
    "- a se refiere a la velocidad de infección\n",
    "- b es el día en que ocurrieron las infecciones máximas\n",
    "- c es el número total de personas infectadas registradas al final de la infección\n",
    " \n"
   ]
  },
  {
   "attachments": {
    "image.png": {
     "image/png": "[encoded data removed]"
    }
   },
   "cell_type": "markdown",
   "metadata": {},
   "source": [
    "A continuacion se puede apreciar un ejemplo de regresion logistica\n",
    "![image.png](attachment:image.png)"
   ]
  },
  {
   "cell_type": "markdown",
   "metadata": {},
   "source": [
    "Definamos la función en Python y realicemos elprocedimiento de ajuste de curva utilizado para el crecimiento logístico."
   ]
  },
  {
   "cell_type": "code",
   "execution_count": 11,
   "metadata": {
    "scrolled": false
   },
   "outputs": [
    {
     "name": "stdout",
     "output_type": "stream",
     "text": [
      "(array([-143165.45891415,   41701.64700227]), array([[ 1.07640081e+08, -2.17684167e+07],\n",
      "       [-2.17684167e+07,  4.58399227e+06]]))\n"
     ]
    }
   ],
   "source": [
    "def modelo_logistico(x,a,b):\n",
    "    res= a+b*np.log(x)\n",
    "    return res\n",
    "\n",
    "exp_fit = curve_fit(modelo_logistico,x,y) #Extraemos los valores de los paramatros\n",
    "print(exp_fit)"
   ]
  },
  {
   "cell_type": "markdown",
   "metadata": {},
   "source": [
    "## Graficas"
   ]
  },
  {
   "cell_type": "code",
   "execution_count": 12,
   "metadata": {},
   "outputs": [
    {
     "data": {
      "image/png": "[encoded data removed]",
      "text/plain": [
       "<Figure size 504x504 with 1 Axes>"
      ]
     },
     "metadata": {
      "needs_background": "light"
     },
     "output_type": "display_data"
    }
   ],
   "source": [
    "pred_x = list(range(min(x),max(x)+10)) # Predecir 50 dias mas\n",
    "plt.rcParams['figure.figsize'] = [7, 7]\n",
    "plt.rc('font', size=14)\n",
    "# Real data\n",
    "plt.scatter(x,y,label=\"Datos Reales\",color=\"red\")\n",
    "# Predicted exponential curve\n",
    "plt.plot(pred_x, [modelo_logistico(i,exp_fit[0][0],exp_fit[0][1]) for i in pred_x], label=\"Modelo Logistico\" )\n",
    "plt.legend()\n",
    "plt.xlabel(\"Desde el 1 Enero 2020\")\n",
    "plt.ylabel(\"Total de personas infectadas\")\n",
    "plt.ylim((min(y)*0.9,max(y)*3.1)) # Definir los limites de Y\n",
    "plt.show()"
   ]
  },
  {
   "attachments": {
    "image.png": {
     "image/png": "[encoded data removed]"
    }
   },
   "cell_type": "markdown",
   "metadata": {},
   "source": [
    "## Modelo exponencial\n",
    "\n",
    "Mientras que el modelo logístico describe un crecimiento de infección que se detendrá en el futuro, el modelo exponencial describe un crecimiento de infección imparable . Por ejemplo, si un paciente infecta a 2 pacientes por día, después de 1 día tendremos 2 infecciones, 4 después de 2 días, 8 después de 3 y así sucesivamente.\n",
    "![image.png](attachment:image.png)"
   ]
  },
  {
   "attachments": {
    "image.png": {
     "image/png": "[encoded data removed]"
    }
   },
   "cell_type": "markdown",
   "metadata": {},
   "source": [
    "A continuacion se tiene un ejemplo de regresion exponencial\n",
    "![image.png](attachment:image.png)"
   ]
  },
  {
   "cell_type": "code",
   "execution_count": 13,
   "metadata": {
    "scrolled": false
   },
   "outputs": [
    {
     "name": "stdout",
     "output_type": "stream",
     "text": [
      "[0.04550896 1.01078624]\n"
     ]
    }
   ],
   "source": [
    "curve_fit = np.polyfit((x),np.log(y), deg=1)\n",
    "print(curve_fit)"
   ]
  },
  {
   "cell_type": "code",
   "execution_count": 14,
   "metadata": {},
   "outputs": [
    {
     "data": {
      "image/png": "[encoded data removed]",
      "text/plain": [
       "<Figure size 504x504 with 1 Axes>"
      ]
     },
     "metadata": {
      "needs_background": "light"
     },
     "output_type": "display_data"
    }
   ],
   "source": [
    "pred_x = np.array(list(range(min(x),max(x)+5)))\n",
    "yx = np.exp(curve_fit[1]) * np.exp(curve_fit[0]*pred_x)\n",
    "plt.plot(x,y,'o')\n",
    "plt.plot(pred_x,yx,color=\"black\")\n",
    "plt.grid(True)"
   ]
  },
  {
   "attachments": {
    "image.png": {
     "image/png": "[encoded data removed]"
    }
   },
   "cell_type": "markdown",
   "metadata": {},
   "source": [
    "\n",
    "## Modelo polinomial\n",
    "Predicción de una variable de respuesta cuantitativa a partir de una variable predictora cuantitativa, donde la relación se modela como una función polinomial de orden n (esto significa que pueden tener de diferentes exponenciales o grados y se debe ir probando)  \n",
    "\n",
    "Se puede tener una ecuacion con diferentes grados\n",
    "\n",
    "y = a0 + a1x + a2x^2 + a3x^3 + … + anx^n + ε\n",
    "\n",
    "Ejemplo de una regresion polinomica de grado 4.\n",
    "![image.png](attachment:image.png)\n"
   ]
  },
  {
   "cell_type": "markdown",
   "metadata": {},
   "source": [
    "## Deber:\n",
    "## Implementar el modelo Polinomial"
   ]
  },
  {
   "cell_type": "code",
   "execution_count": 16,
   "metadata": {},
   "outputs": [
    {
     "name": "stdout",
     "output_type": "stream",
     "text": [
      "----------------RESPUESTA OBTENIDA en 7 DIAS------------\n",
      "Se hace cuenta desde el dia(30) y se suma 7 dias, PREDICCION: 2668.0 contagiados\n"
     ]
    },
    {
     "data": {
      "image/png": "[encoded data removed]",
      "text/plain": [
       "<Figure size 504x504 with 1 Axes>"
      ]
     },
     "metadata": {
      "needs_background": "light"
     },
     "output_type": "display_data"
    }
   ],
   "source": [
    "from sklearn.linear_model import LinearRegression \n",
    "from sklearn.preprocessing import PolynomialFeatures \n",
    "\n",
    "pf = PolynomialFeatures(degree = 4)\n",
    "X = pf.fit_transform(np.array(x).reshape(-1, 1))\n",
    "regresion_lineal = LinearRegression()\n",
    "regresion_lineal.fit(X, y) \n",
    "pred_x = list(range(0,max(x)+50))\n",
    "\n",
    "puntos = pf.fit_transform(np.array(pred_x).reshape(-1, 1))\n",
    "prediccion_entrenamiento = regresion_lineal.predict(puntos)\n",
    "respuesta =  round(-(prediccion_entrenamiento[37]))\n",
    "print('----------------RESPUESTA OBTENIDA en 7 DIAS------------')\n",
    "print ('Se hace cuenta desde el dia(30) y se suma 7 dias, PREDICCION:',respuesta, 'contagiados')\n",
    "plt.plot(pred_x, prediccion_entrenamiento, color='green')\n",
    "plt.scatter(x,y,label=\"Datos Reales\",color=\"red\")\n",
    "plt.xlabel(\"Fecha convertida en dias\")\n",
    "plt.ylabel(\"Total de personas infectadas\")\n",
    "plt.plot(37,prediccion_entrenamiento[37], 'o')\n",
    "plt.show()"
   ]
  },
  {
   "cell_type": "markdown",
   "metadata": {},
   "source": [
    "\n",
    "## Conclusiones\n",
    "---\n",
    "Como conclusion se puede decir que estos modelos matematicos son herramientas que nos ayudan a simular o predecir en un futuro los eventos que pasaran, aunque cabe recalcar que estos modelos son bastante subjetivos, lo que podria no acertar en su totalidad los eventos, pero si nos podria dar una referencia intermedia para poder tener un concepto claro, de como va ha afectarnos o que probabilidades existen de incremento o decremento.\n",
    "\n",
    "---\n",
    "## Criterio personal (politico, economico y  social de la situacion)\n",
    "\n",
    "El ambito politico frente al covid juega un papel muy importante, ya que un buen manejo de los recursos del pais, puede dar una pronta respuesta a la pandemia mediante un buen manejo de entidades de salud y una buena planificacion, esto de cierta forma ayudaria a reducir los contagios y a manejar de mejor manera, ya que en pleno rebrote fuimos uno de los paises latinoamericanos mas afectado y con un alto indice de mortalidad como consecuencia del mal manejo y de la descarada corrupcion que existe, en cuanto a lo economico, es una etapa bastante dificil para el pais y su comunidad, debido a que la tasa de subempleo incrementa y tambien existen reduccion en la nomida de empleados, lo que trae consigo como consecuencia, que las personas no tengan dinero para mantenerse, tampoco puden acceder a la canasta basica, que desencadena en varios factores tales como desnutricion, enfermedades, personas sin hogar por la falta de posibilidades economicas, otros buscan obtener ingresos mediante microemprendimientos, para aliviar de cierta forma este problema, y en lo social haciendo referencia a puntos mencionados anteriormente se puede decir que afecta a todas las personas, en distintos ambitos tales como empleo, ingresos, comercios, salud, vivieda."
   ]
  },
  {
   "cell_type": "markdown",
   "metadata": {},
   "source": [
    "# Referencias\n",
    "\n",
    "- https://www.researchgate.net/publication/340092755_Infeccion_del_Covid-19_en_Colombia_Una_comparacion_de_modelos_logisticos_y_exponenciales_aplicados_a_la_infeccion_por_el_virus_en_Colombia\n",
    "\n",
    "- https://www.aprendemachinelearning.com/regresion-lineal-en-espanol-con-python/\n",
    "\n",
    "- https://ourworldindata.org/coronavirus-data\n",
    "\n",
    "- https://github.com/owid/covid-19-data/blob/master/public/data/owid-covid-codebook.csv"
   ]
  }
 ],
 "metadata": {
  "kernelspec": {
   "display_name": "Python 3",
   "language": "python",
   "name": "python3"
  },
  "language_info": {
   "codemirror_mode": {
    "name": "ipython",
    "version": 3
   },
   "file_extension": ".py",
   "mimetype": "text/x-python",
   "name": "python",
   "nbconvert_exporter": "python",
   "pygments_lexer": "ipython3",
   "version": "3.7.6"
  }
 },
 "nbformat": 4,
 "nbformat_minor": 2
}
