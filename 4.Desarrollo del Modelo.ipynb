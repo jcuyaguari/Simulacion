{
 "cells": [
  {
   "cell_type": "markdown",
   "metadata": {},
   "source": [
    "# <center>Universidad Politécnica Salesiana</center>\n",
    "\n",
    "**Nombre**:Juan Canar\n",
    "\n",
    "**Docente** Ing. Diego Quisi."
   ]
  },
  {
   "cell_type": "markdown",
   "metadata": {},
   "source": [
    "### <center>Desarrollo del Modelo </center> "
   ]
  },
  {
   "cell_type": "markdown",
   "metadata": {},
   "source": [
    "-**Formulación del Problema**\n",
    ". - Determina el objeto de la simulación. Se deben especificar claramente estos elementos:\n",
    "\n",
    "- Resultados que se esperan del simulador\n",
    "Se espera que aplicando los modelos matematicos de simulacion(**modelo lineal y modelo logistico**), estos nos ayuden a aproximarnos mas sobre estadisticas en los proximos meses sobre el covid.\n",
    "- Plan de experimentación\n",
    "Se establece como plan, realizar una recopilacion de la informacacion desde un csv, y luego en un cuaderno de python hacer los respectivos simulaciones.\n",
    "- Variables de interés\n",
    "Las variables de interes son el total que obtendremos en el calculo del modelo lineal y el modelo logistico, estas presentan un calculo que nos serviria para tener una idea proxima de eventos a ocurrir en la pandemia.\n",
    "- Tipo de perturbaciones a estudiar\n",
    "El desconocimiento de librerias para poder llevar a cabo el analisis y las variaciones de datos que no son exactos.\n",
    "- Tratamiento estadístico de los resultados\n",
    "Para ver de mejor manera estos valores se mandaran a graficar.\n",
    "- Complejidad del interfaz del simulador\n",
    "No contiene como tal una interfaz pero, se deden presentar conocimeintos basicos en python."
   ]
  },
  {
   "cell_type": "markdown",
   "metadata": {},
   "source": [
    "**Definición del sistema . -** El sistema que se simulará debe estar definido perfectamente. Se debe establecer donde estará la frontera de interacción entre el sistema a estudiar y el medioambiente."
   ]
  },
  {
   "cell_type": "code",
   "execution_count": 28,
   "metadata": {},
   "outputs": [],
   "source": [
    "# Importar las librerias para el analasis\n",
    "import pandas as pd\n",
    "import numpy as np\n",
    "from datetime import datetime,timedelta\n",
    "from sklearn.metrics import mean_squared_error\n",
    "from scipy.optimize import curve_fit\n",
    "from scipy.optimize import fsolve\n",
    "from sklearn import linear_model\n",
    "import matplotlib.pyplot as plt\n",
    "%matplotlib inline\n",
    "from xml.dom import minidom\n",
    "from datetime import datetime\n",
    "instanteInicial = datetime.now()"
   ]
  },
  {
   "cell_type": "markdown",
   "metadata": {},
   "source": [
    "**Formulación del modelo . -** En esta etapa se capturan los aspectos relevantes del sistema real. Estos aspectos dependen de la formulación del problema."
   ]
  },
  {
   "cell_type": "markdown",
   "metadata": {},
   "source": [
    "Se analizara datos como las muestras tomadas a cada paciente, estas muestras son por cada paciente que llega con sintomas o personas que se realizan dicha prueba, tambien se tiene los datos probables que existen de muertes confirmadas, pruebas rezagadas, muestras pcr, etc\n"
   ]
  },
  {
   "cell_type": "markdown",
   "metadata": {},
   "source": [
    "**Colección de datos . -** La naturaleza y la cantidad de datos se determinan por la formulación del problema y del modelo. Pueden ser obtenidos de registros históricos, experimentos en laboratorio o mediciones realizadas en el sistema real.\n"
   ]
  },
  {
   "cell_type": "code",
   "execution_count": 27,
   "metadata": {},
   "outputs": [
    {
     "data": {
      "text/html": [
       "<div>\n",
       "<style scoped>\n",
       "    .dataframe tbody tr th:only-of-type {\n",
       "        vertical-align: middle;\n",
       "    }\n",
       "\n",
       "    .dataframe tbody tr th {\n",
       "        vertical-align: top;\n",
       "    }\n",
       "\n",
       "    .dataframe thead th {\n",
       "        text-align: right;\n",
       "    }\n",
       "</style>\n",
       "<table border=\"1\" class=\"dataframe\">\n",
       "  <thead>\n",
       "    <tr style=\"text-align: right;\">\n",
       "      <th></th>\n",
       "      <th>muestras</th>\n",
       "      <th>muestras_pcr</th>\n",
       "      <th>muestras_pcr_nuevas</th>\n",
       "      <th>pruebas_rezagadas</th>\n",
       "      <th>muertes_confirmadas</th>\n",
       "      <th>muertes_probables</th>\n",
       "      <th>muertes</th>\n",
       "      <th>muertes_nuevas</th>\n",
       "      <th>positivas</th>\n",
       "      <th>positivas_pcr</th>\n",
       "      <th>...</th>\n",
       "      <th>defunciones_2017</th>\n",
       "      <th>defunciones_2017_nuevas</th>\n",
       "      <th>defunciones_2016</th>\n",
       "      <th>defunciones_2016_nuevas</th>\n",
       "      <th>defunciones_2015</th>\n",
       "      <th>defunciones_2015_nuevas</th>\n",
       "      <th>hospitalizadas_altas</th>\n",
       "      <th>hospitalizadas_estables</th>\n",
       "      <th>hospitalizadas_pronostico_reservadas</th>\n",
       "      <th>created_at</th>\n",
       "    </tr>\n",
       "  </thead>\n",
       "  <tbody>\n",
       "    <tr>\n",
       "      <th>0</th>\n",
       "      <td>129</td>\n",
       "      <td>129</td>\n",
       "      <td>0</td>\n",
       "      <td>106</td>\n",
       "      <td>1</td>\n",
       "      <td>0</td>\n",
       "      <td>1</td>\n",
       "      <td>0</td>\n",
       "      <td>23</td>\n",
       "      <td>23</td>\n",
       "      <td>...</td>\n",
       "      <td>14506</td>\n",
       "      <td>217</td>\n",
       "      <td>13643</td>\n",
       "      <td>212</td>\n",
       "      <td>12866</td>\n",
       "      <td>167</td>\n",
       "      <td>0</td>\n",
       "      <td>0</td>\n",
       "      <td>1</td>\n",
       "      <td>13/03/2020</td>\n",
       "    </tr>\n",
       "    <tr>\n",
       "      <th>1</th>\n",
       "      <td>206</td>\n",
       "      <td>206</td>\n",
       "      <td>77</td>\n",
       "      <td>178</td>\n",
       "      <td>2</td>\n",
       "      <td>0</td>\n",
       "      <td>2</td>\n",
       "      <td>1</td>\n",
       "      <td>28</td>\n",
       "      <td>28</td>\n",
       "      <td>...</td>\n",
       "      <td>14718</td>\n",
       "      <td>212</td>\n",
       "      <td>13848</td>\n",
       "      <td>205</td>\n",
       "      <td>13047</td>\n",
       "      <td>181</td>\n",
       "      <td>0</td>\n",
       "      <td>7</td>\n",
       "      <td>3</td>\n",
       "      <td>14/03/2020</td>\n",
       "    </tr>\n",
       "    <tr>\n",
       "      <th>2</th>\n",
       "      <td>273</td>\n",
       "      <td>273</td>\n",
       "      <td>67</td>\n",
       "      <td>236</td>\n",
       "      <td>2</td>\n",
       "      <td>0</td>\n",
       "      <td>2</td>\n",
       "      <td>0</td>\n",
       "      <td>37</td>\n",
       "      <td>37</td>\n",
       "      <td>...</td>\n",
       "      <td>14926</td>\n",
       "      <td>208</td>\n",
       "      <td>14048</td>\n",
       "      <td>200</td>\n",
       "      <td>13228</td>\n",
       "      <td>181</td>\n",
       "      <td>0</td>\n",
       "      <td>7</td>\n",
       "      <td>2</td>\n",
       "      <td>15/03/2020</td>\n",
       "    </tr>\n",
       "    <tr>\n",
       "      <th>3</th>\n",
       "      <td>354</td>\n",
       "      <td>354</td>\n",
       "      <td>81</td>\n",
       "      <td>296</td>\n",
       "      <td>2</td>\n",
       "      <td>0</td>\n",
       "      <td>2</td>\n",
       "      <td>0</td>\n",
       "      <td>58</td>\n",
       "      <td>58</td>\n",
       "      <td>...</td>\n",
       "      <td>15164</td>\n",
       "      <td>238</td>\n",
       "      <td>14238</td>\n",
       "      <td>190</td>\n",
       "      <td>13388</td>\n",
       "      <td>160</td>\n",
       "      <td>0</td>\n",
       "      <td>9</td>\n",
       "      <td>5</td>\n",
       "      <td>16/03/2020</td>\n",
       "    </tr>\n",
       "    <tr>\n",
       "      <th>4</th>\n",
       "      <td>762</td>\n",
       "      <td>762</td>\n",
       "      <td>408</td>\n",
       "      <td>651</td>\n",
       "      <td>2</td>\n",
       "      <td>0</td>\n",
       "      <td>2</td>\n",
       "      <td>0</td>\n",
       "      <td>111</td>\n",
       "      <td>111</td>\n",
       "      <td>...</td>\n",
       "      <td>15347</td>\n",
       "      <td>183</td>\n",
       "      <td>14412</td>\n",
       "      <td>174</td>\n",
       "      <td>13550</td>\n",
       "      <td>162</td>\n",
       "      <td>0</td>\n",
       "      <td>9</td>\n",
       "      <td>5</td>\n",
       "      <td>17/03/2020</td>\n",
       "    </tr>\n",
       "    <tr>\n",
       "      <th>...</th>\n",
       "      <td>...</td>\n",
       "      <td>...</td>\n",
       "      <td>...</td>\n",
       "      <td>...</td>\n",
       "      <td>...</td>\n",
       "      <td>...</td>\n",
       "      <td>...</td>\n",
       "      <td>...</td>\n",
       "      <td>...</td>\n",
       "      <td>...</td>\n",
       "      <td>...</td>\n",
       "      <td>...</td>\n",
       "      <td>...</td>\n",
       "      <td>...</td>\n",
       "      <td>...</td>\n",
       "      <td>...</td>\n",
       "      <td>...</td>\n",
       "      <td>...</td>\n",
       "      <td>...</td>\n",
       "      <td>...</td>\n",
       "      <td>...</td>\n",
       "    </tr>\n",
       "    <tr>\n",
       "      <th>231</th>\n",
       "      <td>562074</td>\n",
       "      <td>541502</td>\n",
       "      <td>3709</td>\n",
       "      <td>53605</td>\n",
       "      <td>8321</td>\n",
       "      <td>4311</td>\n",
       "      <td>12632</td>\n",
       "      <td>10</td>\n",
       "      <td>176103</td>\n",
       "      <td>167147</td>\n",
       "      <td>...</td>\n",
       "      <td>58331</td>\n",
       "      <td>215</td>\n",
       "      <td>56492</td>\n",
       "      <td>182</td>\n",
       "      <td>54286</td>\n",
       "      <td>144</td>\n",
       "      <td>21260</td>\n",
       "      <td>498</td>\n",
       "      <td>355</td>\n",
       "      <td>30/10/2020</td>\n",
       "    </tr>\n",
       "    <tr>\n",
       "      <th>232</th>\n",
       "      <td>567080</td>\n",
       "      <td>546508</td>\n",
       "      <td>5006</td>\n",
       "      <td>53176</td>\n",
       "      <td>8357</td>\n",
       "      <td>4313</td>\n",
       "      <td>12670</td>\n",
       "      <td>38</td>\n",
       "      <td>177148</td>\n",
       "      <td>168192</td>\n",
       "      <td>...</td>\n",
       "      <td>58503</td>\n",
       "      <td>172</td>\n",
       "      <td>56653</td>\n",
       "      <td>161</td>\n",
       "      <td>54471</td>\n",
       "      <td>185</td>\n",
       "      <td>21349</td>\n",
       "      <td>520</td>\n",
       "      <td>348</td>\n",
       "      <td>31/10/2020</td>\n",
       "    </tr>\n",
       "    <tr>\n",
       "      <th>233</th>\n",
       "      <td>569362</td>\n",
       "      <td>548790</td>\n",
       "      <td>2282</td>\n",
       "      <td>51707</td>\n",
       "      <td>8371</td>\n",
       "      <td>4313</td>\n",
       "      <td>12684</td>\n",
       "      <td>14</td>\n",
       "      <td>178150</td>\n",
       "      <td>169194</td>\n",
       "      <td>...</td>\n",
       "      <td>58668</td>\n",
       "      <td>165</td>\n",
       "      <td>56836</td>\n",
       "      <td>183</td>\n",
       "      <td>54618</td>\n",
       "      <td>147</td>\n",
       "      <td>21423</td>\n",
       "      <td>531</td>\n",
       "      <td>342</td>\n",
       "      <td>01/11/2020</td>\n",
       "    </tr>\n",
       "    <tr>\n",
       "      <th>234</th>\n",
       "      <td>569798</td>\n",
       "      <td>549226</td>\n",
       "      <td>436</td>\n",
       "      <td>50815</td>\n",
       "      <td>8380</td>\n",
       "      <td>4312</td>\n",
       "      <td>12692</td>\n",
       "      <td>8</td>\n",
       "      <td>178518</td>\n",
       "      <td>169562</td>\n",
       "      <td>...</td>\n",
       "      <td>58844</td>\n",
       "      <td>176</td>\n",
       "      <td>57009</td>\n",
       "      <td>173</td>\n",
       "      <td>54777</td>\n",
       "      <td>159</td>\n",
       "      <td>21476</td>\n",
       "      <td>520</td>\n",
       "      <td>342</td>\n",
       "      <td>02/11/2020</td>\n",
       "    </tr>\n",
       "    <tr>\n",
       "      <th>235</th>\n",
       "      <td>570515</td>\n",
       "      <td>549943</td>\n",
       "      <td>717</td>\n",
       "      <td>49712</td>\n",
       "      <td>8386</td>\n",
       "      <td>4312</td>\n",
       "      <td>12698</td>\n",
       "      <td>6</td>\n",
       "      <td>179066</td>\n",
       "      <td>170110</td>\n",
       "      <td>...</td>\n",
       "      <td>59024</td>\n",
       "      <td>180</td>\n",
       "      <td>57218</td>\n",
       "      <td>209</td>\n",
       "      <td>54948</td>\n",
       "      <td>171</td>\n",
       "      <td>21516</td>\n",
       "      <td>512</td>\n",
       "      <td>342</td>\n",
       "      <td>03/11/2020</td>\n",
       "    </tr>\n",
       "  </tbody>\n",
       "</table>\n",
       "<p>236 rows × 32 columns</p>\n",
       "</div>"
      ],
      "text/plain": [
       "     muestras  muestras_pcr  muestras_pcr_nuevas  pruebas_rezagadas  \\\n",
       "0         129           129                    0                106   \n",
       "1         206           206                   77                178   \n",
       "2         273           273                   67                236   \n",
       "3         354           354                   81                296   \n",
       "4         762           762                  408                651   \n",
       "..        ...           ...                  ...                ...   \n",
       "231    562074        541502                 3709              53605   \n",
       "232    567080        546508                 5006              53176   \n",
       "233    569362        548790                 2282              51707   \n",
       "234    569798        549226                  436              50815   \n",
       "235    570515        549943                  717              49712   \n",
       "\n",
       "     muertes_confirmadas  muertes_probables  muertes  muertes_nuevas  \\\n",
       "0                      1                  0        1               0   \n",
       "1                      2                  0        2               1   \n",
       "2                      2                  0        2               0   \n",
       "3                      2                  0        2               0   \n",
       "4                      2                  0        2               0   \n",
       "..                   ...                ...      ...             ...   \n",
       "231                 8321               4311    12632              10   \n",
       "232                 8357               4313    12670              38   \n",
       "233                 8371               4313    12684              14   \n",
       "234                 8380               4312    12692               8   \n",
       "235                 8386               4312    12698               6   \n",
       "\n",
       "     positivas  positivas_pcr  ...  defunciones_2017  defunciones_2017_nuevas  \\\n",
       "0           23             23  ...             14506                      217   \n",
       "1           28             28  ...             14718                      212   \n",
       "2           37             37  ...             14926                      208   \n",
       "3           58             58  ...             15164                      238   \n",
       "4          111            111  ...             15347                      183   \n",
       "..         ...            ...  ...               ...                      ...   \n",
       "231     176103         167147  ...             58331                      215   \n",
       "232     177148         168192  ...             58503                      172   \n",
       "233     178150         169194  ...             58668                      165   \n",
       "234     178518         169562  ...             58844                      176   \n",
       "235     179066         170110  ...             59024                      180   \n",
       "\n",
       "     defunciones_2016  defunciones_2016_nuevas  defunciones_2015  \\\n",
       "0               13643                      212             12866   \n",
       "1               13848                      205             13047   \n",
       "2               14048                      200             13228   \n",
       "3               14238                      190             13388   \n",
       "4               14412                      174             13550   \n",
       "..                ...                      ...               ...   \n",
       "231             56492                      182             54286   \n",
       "232             56653                      161             54471   \n",
       "233             56836                      183             54618   \n",
       "234             57009                      173             54777   \n",
       "235             57218                      209             54948   \n",
       "\n",
       "     defunciones_2015_nuevas  hospitalizadas_altas  hospitalizadas_estables  \\\n",
       "0                        167                     0                        0   \n",
       "1                        181                     0                        7   \n",
       "2                        181                     0                        7   \n",
       "3                        160                     0                        9   \n",
       "4                        162                     0                        9   \n",
       "..                       ...                   ...                      ...   \n",
       "231                      144                 21260                      498   \n",
       "232                      185                 21349                      520   \n",
       "233                      147                 21423                      531   \n",
       "234                      159                 21476                      520   \n",
       "235                      171                 21516                      512   \n",
       "\n",
       "     hospitalizadas_pronostico_reservadas  created_at  \n",
       "0                                       1  13/03/2020  \n",
       "1                                       3  14/03/2020  \n",
       "2                                       2  15/03/2020  \n",
       "3                                       5  16/03/2020  \n",
       "4                                       5  17/03/2020  \n",
       "..                                    ...         ...  \n",
       "231                                   355  30/10/2020  \n",
       "232                                   348  31/10/2020  \n",
       "233                                   342  01/11/2020  \n",
       "234                                   342  02/11/2020  \n",
       "235                                   342  03/11/2020  \n",
       "\n",
       "[236 rows x 32 columns]"
      ]
     },
     "execution_count": 27,
     "metadata": {},
     "output_type": "execute_result"
    }
   ],
   "source": [
    "# Actualizar los datos (URL)\n",
    "url = 'ecuacovid.csv'\n",
    "df = pd.read_csv(url)\n",
    "df = df.fillna(0)\n",
    "df\n"
   ]
  },
  {
   "cell_type": "markdown",
   "metadata": {},
   "source": [
    "**Implementación del modelo en el ordenador . -** Se implementa el modelo a través de un lenguaje de programación/simulación."
   ]
  },
  {
   "cell_type": "code",
   "execution_count": 33,
   "metadata": {},
   "outputs": [
    {
     "data": {
      "text/plain": [
       "<matplotlib.axes._subplots.AxesSubplot at 0x1ef7b41bc08>"
      ]
     },
     "execution_count": 33,
     "metadata": {},
     "output_type": "execute_result"
    },
    {
     "data": {
      "image/png": "[encoded data removed]",
      "text/plain": [
       "<Figure size 432x288 with 1 Axes>"
      ]
     },
     "metadata": {
      "needs_background": "light"
     },
     "output_type": "display_data"
    }
   ],
   "source": [
    "df = df.loc[:,['muestras','positivas']]\n",
    "FMT = '%Y-%m-%d'\n",
    "#date = df['muestras']\n",
    "df\n",
    "df.plot(x ='muestras', y='positivas')"
   ]
  },
  {
   "cell_type": "markdown",
   "metadata": {},
   "source": [
    "#### Modelo lineal"
   ]
  },
  {
   "cell_type": "code",
   "execution_count": 24,
   "metadata": {},
   "outputs": [
    {
     "name": "stdout",
     "output_type": "stream",
     "text": [
      "Coefficients: \n",
      " [0.31872296]\n",
      "Independent term: \n",
      " 4093.072591469696\n"
     ]
    }
   ],
   "source": [
    "x = list(df.iloc [:, 0]) # Fecha\n",
    "y = list(df.iloc [:, 1]) # Numero de casos\n",
    "# Creamos el objeto de Regresión Lineal\n",
    "regr = linear_model.LinearRegression()\n",
    " \n",
    "# Entrenamos nuestro modelo\n",
    "regr.fit(np.array(x).reshape(-1, 1) ,y)\n",
    "#pdb.set_trace()\n",
    "# Veamos los coeficienetes obtenidos, En nuestro caso, serán la Tangente\n",
    "print('Coefficients: \\n', regr.coef_)\n",
    "# Este es el valor donde corta el eje Y (en X=0)\n",
    "print('Independent term: \\n', regr.intercept_)\n",
    "# Error Cuadrado Medio"
   ]
  },
  {
   "cell_type": "code",
   "execution_count": 35,
   "metadata": {},
   "outputs": [
    {
     "name": "stdout",
     "output_type": "stream",
     "text": [
      "4124\n"
     ]
    }
   ],
   "source": [
    "#Vamos a comprobar:\n",
    "# Quiero predecir cuántos \"Casos\" voy a obtener por en el dia 100,\n",
    "# según nuestro modelo, hacemos:\n",
    "y_prediccion = regr.predict([[100]])\n",
    "print(int(y_prediccion))"
   ]
  },
  {
   "cell_type": "code",
   "execution_count": 39,
   "metadata": {},
   "outputs": [
    {
     "name": "stdout",
     "output_type": "stream",
     "text": [
      "Predicción a 7 días sumando desde el ultimo día en x(30): 4104.865341020039 contagiados\n"
     ]
    },
    {
     "data": {
      "image/png": "[encoded data removed]",
      "text/plain": [
       "<Figure size 432x288 with 1 Axes>"
      ]
     },
     "metadata": {
      "needs_background": "light"
     },
     "output_type": "display_data"
    }
   ],
   "source": [
    "plt.scatter(x, y)\n",
    "x_real = np.array(range(0,100))\n",
    "#print(x_real)\n",
    "puntos=regr.predict(x_real.reshape(-1, 1))\n",
    "plt.plot(x_real,puntos, color='red')\n",
    "plt.plot(37,puntos[37],'oy')\n",
    "print ('Predicción a 7 días sumando desde el ultimo día en x(30):', puntos[37], 'contagiados')\n",
    "plt.show()"
   ]
  },
  {
   "cell_type": "markdown",
   "metadata": {},
   "source": [
    "#### Modelo logistico"
   ]
  },
  {
   "cell_type": "code",
   "execution_count": 40,
   "metadata": {},
   "outputs": [
    {
     "name": "stdout",
     "output_type": "stream",
     "text": [
      "(array([-244702.08796256,   27326.51286535]), array([[ 2.43827803e+08, -2.05065445e+07],\n",
      "       [-2.05065445e+07,  1.75679864e+06]]))\n"
     ]
    }
   ],
   "source": [
    "def modelo_logistico(x,a,b):\n",
    "    return a+b*np.log(x)\n",
    "\n",
    "exp_fit = curve_fit(modelo_logistico,x,y) #Extraemos los valores de los paramatros\n",
    "print(exp_fit)\n"
   ]
  },
  {
   "cell_type": "code",
   "execution_count": 41,
   "metadata": {},
   "outputs": [
    {
     "name": "stdout",
     "output_type": "stream",
     "text": [
      "Predicción a 7 días sumando desde el ultimo día en x(30): -145299.54296997195 contagiados\n"
     ]
    },
    {
     "data": {
      "image/png": "[encoded data removed]",
      "text/plain": [
       "<Figure size 720x432 with 1 Axes>"
      ]
     },
     "metadata": {
      "needs_background": "light"
     },
     "output_type": "display_data"
    }
   ],
   "source": [
    "pred_x = list(range(1,100)) # Predecir 50 dias mas\n",
    "plt.rcParams['figure.figsize'] = [10, 6]\n",
    "plt.rc('font', size=14)\n",
    "# Real data\n",
    "pdb.set_trace()\n",
    "plt.scatter(x,y,label=\"Datos Reales\",color=\"red\")\n",
    "# Predicted exponential curve\n",
    "puntos=[modelo_logistico(i,exp_fit[0][0],exp_fit[0][1]) for i in pred_x]\n",
    "plt.plot(pred_x,puntos , label=\"Modelo Logistico\" )\n",
    "plt.legend()\n",
    "plt.xlabel(\"16/3/2020\")\n",
    "plt.ylabel(\"Total de personas infectadas\")\n",
    "plt.ylim((0,max(y)*2.1))\n",
    "plt.xlim((min(x),max(x)*1.5)) # Definir los limites de Y\n",
    "plt.plot(37,puntos[37],'oy')\n",
    "print ('Predicción a 7 días sumando desde el ultimo día en x(30):', puntos[37], 'contagiados')\n",
    "plt.show()"
   ]
  },
  {
   "cell_type": "markdown",
   "metadata": {},
   "source": [
    "**Verificación . -** En esta etapa se verifica que no se hayan cometido errores durante la implementación del modelo. Se usan herramientas de ejecución por pasos (debugging)."
   ]
  },
  {
   "attachments": {
    "image.png": {
     "image/png": "[encoded data removed]"
    }
   },
   "cell_type": "markdown",
   "metadata": {},
   "source": [
    "![image.png](attachment:image.png)"
   ]
  },
  {
   "cell_type": "code",
   "execution_count": 8,
   "metadata": {},
   "outputs": [
    {
     "name": "stdout",
     "output_type": "stream",
     "text": [
      "--Call--\n",
      "> c:\\users\\juan\\anaconda3\\lib\\site-packages\\ipython\\core\\displayhook.py(252)__call__()\n",
      "-> def __call__(self, result=None):\n",
      "(Pdb) n\n",
      "> c:\\users\\juan\\anaconda3\\lib\\site-packages\\ipython\\core\\displayhook.py(258)__call__()\n",
      "-> self.check_for_underscore()\n",
      "(Pdb) n\n",
      "> c:\\users\\juan\\anaconda3\\lib\\site-packages\\ipython\\core\\displayhook.py(259)__call__()\n",
      "-> if result is not None and not self.quiet():\n",
      "(Pdb) n\n",
      "--Return--\n",
      "> c:\\users\\juan\\anaconda3\\lib\\site-packages\\ipython\\core\\displayhook.py(259)__call__()->None\n",
      "-> if result is not None and not self.quiet():\n",
      "(Pdb) n\n",
      "--Return--\n",
      "> <ipython-input-8-b11baede6ec9>(2)<module>()->None\n",
      "-> pdb.set_trace()\n",
      "(Pdb) n\n",
      "> c:\\users\\juan\\anaconda3\\lib\\site-packages\\ipython\\core\\interactiveshell.py(3334)run_code()\n",
      "-> sys.excepthook = old_excepthook\n",
      "(Pdb) n\n",
      "> c:\\users\\juan\\anaconda3\\lib\\site-packages\\ipython\\core\\interactiveshell.py(3350)run_code()\n",
      "-> outflag = False\n",
      "(Pdb) n\n",
      "> c:\\users\\juan\\anaconda3\\lib\\site-packages\\ipython\\core\\interactiveshell.py(3351)run_code()\n",
      "-> return outflag\n",
      "(Pdb) n\n",
      "Internal StopIteration: False\n",
      "> c:\\users\\juan\\anaconda3\\lib\\site-packages\\ipython\\core\\interactiveshell.py(3254)run_ast_nodes()\n",
      "-> if (await self.run_code(code, result,  async_=asy)):\n",
      "(Pdb) b\n",
      "(Pdb) b\n",
      "(Pdb) p\n",
      "*** SyntaxError: unexpected EOF while parsing\n",
      "(Pdb) p\n",
      "*** SyntaxError: unexpected EOF while parsing\n",
      "(Pdb) c\n"
     ]
    }
   ],
   "source": [
    "import pdb\n",
    "pdb.set_trace()"
   ]
  },
  {
   "cell_type": "markdown",
   "metadata": {},
   "source": [
    "**Diseño de experimentos . -** Se especifica las características de los experimentos a realizar: tiempo de arranque, tiempo de simulación y número de simulaciones. No se debe incluir la elaboración del conjunto de alternativas a probar para seleccionar la mejor, ya que esto es tarea de la optimización."
   ]
  },
  {
   "cell_type": "markdown",
   "metadata": {},
   "source": [
    "Para el diseño de los experimentos, se aplica dos modelos el lineal y el modelo logistico, estos modelos, nos ayudan a determinar tiempos y simular en este caso cuantos casos positivos tendriamos en x cantidad de dias.\n",
    "Para medir el  tiempo de simulación y número de simulaciones y tiempo de arranque se hace uso de "
   ]
  },
  {
   "cell_type": "code",
   "execution_count": 21,
   "metadata": {},
   "outputs": [
    {
     "name": "stdout",
     "output_type": "stream",
     "text": [
      "Fecha:  11/06/2020, 12:50:49\n",
      "Tiempo en segundos-->  136\n",
      "Se realizo un total de 5 simulaciones\n"
     ]
    }
   ],
   "source": [
    "#Modelo lineal y modelo logistico\n",
    "import time\n",
    "\n",
    "named_tuple = time.localtime() # get struct_time\n",
    "time_string = time.strftime(\"%m/%d/%Y, %H:%M:%S\", named_tuple)\n",
    "\n",
    "print('Fecha: ',time_string)\n",
    "\n",
    "# al final de la partida\n",
    "instanteFinal = datetime.now()\n",
    "tiempo = instanteFinal - instanteInicial # Devuelve un objeto timedelta\n",
    "segundos = tiempo.seconds\n",
    "print('Tiempo en segundos--> ',segundos)\n",
    "print('Se realizo un total de 5 simulaciones')"
   ]
  },
  {
   "cell_type": "markdown",
   "metadata": {},
   "source": [
    "**Experimentación . -** En esta etapa se realizan simulaciones de acuerdo al diseño previo. Se recolectan y procesan los resultados."
   ]
  },
  {
   "cell_type": "code",
   "execution_count": 25,
   "metadata": {},
   "outputs": [
    {
     "name": "stdout",
     "output_type": "stream",
     "text": [
      "Predicción a 7 días sumando desde el ultimo día en x(30): 4104.865341020039 contagiados\n"
     ]
    },
    {
     "data": {
      "image/png": "[encoded data removed]",
      "text/plain": [
       "<Figure size 432x288 with 1 Axes>"
      ]
     },
     "metadata": {
      "needs_background": "light"
     },
     "output_type": "display_data"
    }
   ],
   "source": [
    "df = df.loc[:,['muestras','positivas']]\n",
    "FMT = '%Y-%m-%d'\n",
    "#date = df['muestras']\n",
    "df\n",
    "df.plot(x ='muestras', y='positivas')\n",
    "\n",
    "plt.scatter(x, y)\n",
    "x_real = np.array(range(0,100))\n",
    "#print(x_real)\n",
    "puntos=regr.predict(x_real.reshape(-1, 1))\n",
    "plt.plot(x_real,puntos, color='red')\n",
    "plt.plot(37,puntos[37],'oy')\n",
    "print ('Predicción a 7 días sumando desde el ultimo día en x(30):', puntos[37], 'contagiados')\n",
    "plt.show()"
   ]
  },
  {
   "cell_type": "markdown",
   "metadata": {},
   "source": [
    "**Interpretación . -** Se analiza la sensibilidad del modelo con respecto a los parámetros con mayor incertidumbre."
   ]
  },
  {
   "cell_type": "markdown",
   "metadata": {},
   "source": [
    "La aplicacion del modelo lineal y logistico de puede ver que, que son modelos que se ajustan a la prediccion pero en si es algo bastante subjetivo, debido a que los datos pueden variar, pero estos datos estan basados en un archivo csv, el cual contiene datos estadisticos de casos posivitos de covid, tambien posee totales de contagios, de pruebas pcr, total de muertes, etc."
   ]
  },
  {
   "cell_type": "markdown",
   "metadata": {},
   "source": [
    "**Implementación . -** Se entrega la solución al cliente y se lo capacita en su uso.\n",
    "\n",
    "Como se puede evidenciar, se ha ido aplicando los pasos para realizar un ejemplo de analisis de casos por covid, estos casos estan analizados aplicando dos algoritmos el de regresion lineal, y el modelo logistico, para dicho analisis se a tomado en cuenta un conjunto de datos que sirve para \n",
    "\n",
    "**Documentación . -** Elaboración de documentación técnica y manuales de uso.\n",
    "En el presente documento se encuentra detallado los pasos seguidos y como de debe ir implementando los metodos para realizar los calculos.\n"
   ]
  },
  {
   "cell_type": "markdown",
   "metadata": {},
   "source": [
    "#### Conclusiones:"
   ]
  },
  {
   "cell_type": "markdown",
   "metadata": {},
   "source": [
    "Como conclusion se puede decir que estos modelos matematicos son herramientas que nos ayudan a simular o predecir en un futuro los eventos que pasaran, aunque cabe recalcar que estos modelos son bastante subjetivos, lo que podria no acertar en su totalidad los datos o ventos a darse, pero si nos podria dar una referencia intermedia para poder tener un concepto claro, de como va ha afectarnos o que probabilidades existen de incremento o decremento, del covid."
   ]
  },
  {
   "cell_type": "markdown",
   "metadata": {},
   "source": [
    "Dataset disponible en:\n",
    "https://github.com/andrab/ecuacovid"
   ]
  }
 ],
 "metadata": {
  "kernelspec": {
   "display_name": "Python 3",
   "language": "python",
   "name": "python3"
  },
  "language_info": {
   "codemirror_mode": {
    "name": "ipython",
    "version": 3
   },
   "file_extension": ".py",
   "mimetype": "text/x-python",
   "name": "python",
   "nbconvert_exporter": "python",
   "pygments_lexer": "ipython3",
   "version": "3.7.6"
  }
 },
 "nbformat": 4,
 "nbformat_minor": 4
}
