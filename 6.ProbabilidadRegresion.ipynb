{
 "cells": [
  {
   "cell_type": "markdown",
   "metadata": {},
   "source": [
    "### UNIVERSIDAD POLITECNICA SALESIANA\n",
    "#### Alumno: Juan Cañar.\n",
    "#### Docente: Ing. Diego Quisi"
   ]
  },
  {
   "cell_type": "markdown",
   "metadata": {},
   "source": [
    "# Covid-19 infección en Ecuador. Modelos probabilisticos\n",
    "Implementacion de un modelo probabilistico de infección por el virus Covid-19\n",
    "\n",
    "Se realiza un análisis probabilistico simple del crecimiento de la infección en Python y el modelos para comprender mejor la evolución de la infección.\n",
    "\n",
    "Se crea modelos de series temporales del número total de personas infectadas hasta la fecha (es decir, las personas realmente infectadas más las personas que han sido infectadas). Estos modelos tienen parámetros , que se estimarán por ajuste de probabilidad."
   ]
  },
  {
   "cell_type": "code",
   "execution_count": 1,
   "metadata": {},
   "outputs": [],
   "source": [
    "# Importar las librerias para el analasis\n",
    "import pandas as pd\n",
    "import numpy as np\n",
    "from scipy.integrate import solve_ivp\n",
    "from scipy.optimize import minimize\n",
    "from scipy.integrate import odeint\n",
    "from datetime import datetime,timedelta\n",
    "from sklearn.metrics import mean_squared_error\n",
    "from scipy.optimize import curve_fit\n",
    "from scipy.optimize import fsolve\n",
    "from sklearn import linear_model\n",
    "import matplotlib.pyplot as plt\n",
    "%matplotlib inline"
   ]
  },
  {
   "cell_type": "code",
   "execution_count": 2,
   "metadata": {},
   "outputs": [
    {
     "data": {
      "text/html": [
       "<div>\n",
       "<style scoped>\n",
       "    .dataframe tbody tr th:only-of-type {\n",
       "        vertical-align: middle;\n",
       "    }\n",
       "\n",
       "    .dataframe tbody tr th {\n",
       "        vertical-align: top;\n",
       "    }\n",
       "\n",
       "    .dataframe thead th {\n",
       "        text-align: right;\n",
       "    }\n",
       "</style>\n",
       "<table border=\"1\" class=\"dataframe\">\n",
       "  <thead>\n",
       "    <tr style=\"text-align: right;\">\n",
       "      <th></th>\n",
       "      <th>date</th>\n",
       "      <th>World</th>\n",
       "      <th>Afghanistan</th>\n",
       "      <th>Albania</th>\n",
       "      <th>Algeria</th>\n",
       "      <th>Andorra</th>\n",
       "      <th>Angola</th>\n",
       "      <th>Anguilla</th>\n",
       "      <th>Antigua and Barbuda</th>\n",
       "      <th>Argentina</th>\n",
       "      <th>...</th>\n",
       "      <th>Uzbekistan</th>\n",
       "      <th>Vanuatu</th>\n",
       "      <th>Vatican</th>\n",
       "      <th>Venezuela</th>\n",
       "      <th>Vietnam</th>\n",
       "      <th>Wallis and Futuna</th>\n",
       "      <th>Western Sahara</th>\n",
       "      <th>Yemen</th>\n",
       "      <th>Zambia</th>\n",
       "      <th>Zimbabwe</th>\n",
       "    </tr>\n",
       "  </thead>\n",
       "  <tbody>\n",
       "    <tr>\n",
       "      <th>0</th>\n",
       "      <td>2019-12-31</td>\n",
       "      <td>27</td>\n",
       "      <td>0.0</td>\n",
       "      <td>NaN</td>\n",
       "      <td>0.0</td>\n",
       "      <td>NaN</td>\n",
       "      <td>NaN</td>\n",
       "      <td>NaN</td>\n",
       "      <td>NaN</td>\n",
       "      <td>NaN</td>\n",
       "      <td>...</td>\n",
       "      <td>NaN</td>\n",
       "      <td>NaN</td>\n",
       "      <td>NaN</td>\n",
       "      <td>NaN</td>\n",
       "      <td>0.0</td>\n",
       "      <td>NaN</td>\n",
       "      <td>NaN</td>\n",
       "      <td>NaN</td>\n",
       "      <td>NaN</td>\n",
       "      <td>NaN</td>\n",
       "    </tr>\n",
       "    <tr>\n",
       "      <th>1</th>\n",
       "      <td>2020-01-01</td>\n",
       "      <td>0</td>\n",
       "      <td>0.0</td>\n",
       "      <td>NaN</td>\n",
       "      <td>0.0</td>\n",
       "      <td>NaN</td>\n",
       "      <td>NaN</td>\n",
       "      <td>NaN</td>\n",
       "      <td>NaN</td>\n",
       "      <td>NaN</td>\n",
       "      <td>...</td>\n",
       "      <td>NaN</td>\n",
       "      <td>NaN</td>\n",
       "      <td>NaN</td>\n",
       "      <td>NaN</td>\n",
       "      <td>0.0</td>\n",
       "      <td>NaN</td>\n",
       "      <td>NaN</td>\n",
       "      <td>NaN</td>\n",
       "      <td>NaN</td>\n",
       "      <td>NaN</td>\n",
       "    </tr>\n",
       "    <tr>\n",
       "      <th>2</th>\n",
       "      <td>2020-01-02</td>\n",
       "      <td>0</td>\n",
       "      <td>0.0</td>\n",
       "      <td>NaN</td>\n",
       "      <td>0.0</td>\n",
       "      <td>NaN</td>\n",
       "      <td>NaN</td>\n",
       "      <td>NaN</td>\n",
       "      <td>NaN</td>\n",
       "      <td>NaN</td>\n",
       "      <td>...</td>\n",
       "      <td>NaN</td>\n",
       "      <td>NaN</td>\n",
       "      <td>NaN</td>\n",
       "      <td>NaN</td>\n",
       "      <td>0.0</td>\n",
       "      <td>NaN</td>\n",
       "      <td>NaN</td>\n",
       "      <td>NaN</td>\n",
       "      <td>NaN</td>\n",
       "      <td>NaN</td>\n",
       "    </tr>\n",
       "    <tr>\n",
       "      <th>3</th>\n",
       "      <td>2020-01-03</td>\n",
       "      <td>17</td>\n",
       "      <td>0.0</td>\n",
       "      <td>NaN</td>\n",
       "      <td>0.0</td>\n",
       "      <td>NaN</td>\n",
       "      <td>NaN</td>\n",
       "      <td>NaN</td>\n",
       "      <td>NaN</td>\n",
       "      <td>NaN</td>\n",
       "      <td>...</td>\n",
       "      <td>NaN</td>\n",
       "      <td>NaN</td>\n",
       "      <td>NaN</td>\n",
       "      <td>NaN</td>\n",
       "      <td>0.0</td>\n",
       "      <td>NaN</td>\n",
       "      <td>NaN</td>\n",
       "      <td>NaN</td>\n",
       "      <td>NaN</td>\n",
       "      <td>NaN</td>\n",
       "    </tr>\n",
       "    <tr>\n",
       "      <th>4</th>\n",
       "      <td>2020-01-04</td>\n",
       "      <td>0</td>\n",
       "      <td>0.0</td>\n",
       "      <td>NaN</td>\n",
       "      <td>0.0</td>\n",
       "      <td>NaN</td>\n",
       "      <td>NaN</td>\n",
       "      <td>NaN</td>\n",
       "      <td>NaN</td>\n",
       "      <td>NaN</td>\n",
       "      <td>...</td>\n",
       "      <td>NaN</td>\n",
       "      <td>NaN</td>\n",
       "      <td>NaN</td>\n",
       "      <td>NaN</td>\n",
       "      <td>0.0</td>\n",
       "      <td>NaN</td>\n",
       "      <td>NaN</td>\n",
       "      <td>NaN</td>\n",
       "      <td>NaN</td>\n",
       "      <td>NaN</td>\n",
       "    </tr>\n",
       "    <tr>\n",
       "      <th>...</th>\n",
       "      <td>...</td>\n",
       "      <td>...</td>\n",
       "      <td>...</td>\n",
       "      <td>...</td>\n",
       "      <td>...</td>\n",
       "      <td>...</td>\n",
       "      <td>...</td>\n",
       "      <td>...</td>\n",
       "      <td>...</td>\n",
       "      <td>...</td>\n",
       "      <td>...</td>\n",
       "      <td>...</td>\n",
       "      <td>...</td>\n",
       "      <td>...</td>\n",
       "      <td>...</td>\n",
       "      <td>...</td>\n",
       "      <td>...</td>\n",
       "      <td>...</td>\n",
       "      <td>...</td>\n",
       "      <td>...</td>\n",
       "      <td>...</td>\n",
       "    </tr>\n",
       "    <tr>\n",
       "      <th>319</th>\n",
       "      <td>2020-11-14</td>\n",
       "      <td>634423</td>\n",
       "      <td>66.0</td>\n",
       "      <td>490.0</td>\n",
       "      <td>867.0</td>\n",
       "      <td>109.0</td>\n",
       "      <td>104.0</td>\n",
       "      <td>0.0</td>\n",
       "      <td>2.0</td>\n",
       "      <td>11859.0</td>\n",
       "      <td>...</td>\n",
       "      <td>63.0</td>\n",
       "      <td>0.0</td>\n",
       "      <td>0.0</td>\n",
       "      <td>0.0</td>\n",
       "      <td>3.0</td>\n",
       "      <td>0.0</td>\n",
       "      <td>0.0</td>\n",
       "      <td>2.0</td>\n",
       "      <td>57.0</td>\n",
       "      <td>69.0</td>\n",
       "    </tr>\n",
       "    <tr>\n",
       "      <th>320</th>\n",
       "      <td>2020-11-15</td>\n",
       "      <td>597736</td>\n",
       "      <td>205.0</td>\n",
       "      <td>532.0</td>\n",
       "      <td>844.0</td>\n",
       "      <td>0.0</td>\n",
       "      <td>171.0</td>\n",
       "      <td>0.0</td>\n",
       "      <td>1.0</td>\n",
       "      <td>8468.0</td>\n",
       "      <td>...</td>\n",
       "      <td>0.0</td>\n",
       "      <td>0.0</td>\n",
       "      <td>0.0</td>\n",
       "      <td>301.0</td>\n",
       "      <td>9.0</td>\n",
       "      <td>0.0</td>\n",
       "      <td>0.0</td>\n",
       "      <td>0.0</td>\n",
       "      <td>4.0</td>\n",
       "      <td>21.0</td>\n",
       "    </tr>\n",
       "    <tr>\n",
       "      <th>321</th>\n",
       "      <td>2020-11-16</td>\n",
       "      <td>504453</td>\n",
       "      <td>163.0</td>\n",
       "      <td>597.0</td>\n",
       "      <td>860.0</td>\n",
       "      <td>147.0</td>\n",
       "      <td>146.0</td>\n",
       "      <td>0.0</td>\n",
       "      <td>0.0</td>\n",
       "      <td>5645.0</td>\n",
       "      <td>...</td>\n",
       "      <td>563.0</td>\n",
       "      <td>0.0</td>\n",
       "      <td>0.0</td>\n",
       "      <td>911.0</td>\n",
       "      <td>16.0</td>\n",
       "      <td>0.0</td>\n",
       "      <td>0.0</td>\n",
       "      <td>0.0</td>\n",
       "      <td>26.0</td>\n",
       "      <td>0.0</td>\n",
       "    </tr>\n",
       "    <tr>\n",
       "      <th>322</th>\n",
       "      <td>2020-11-17</td>\n",
       "      <td>554913</td>\n",
       "      <td>65.0</td>\n",
       "      <td>602.0</td>\n",
       "      <td>910.0</td>\n",
       "      <td>42.0</td>\n",
       "      <td>77.0</td>\n",
       "      <td>0.0</td>\n",
       "      <td>0.0</td>\n",
       "      <td>7895.0</td>\n",
       "      <td>...</td>\n",
       "      <td>201.0</td>\n",
       "      <td>0.0</td>\n",
       "      <td>0.0</td>\n",
       "      <td>387.0</td>\n",
       "      <td>2.0</td>\n",
       "      <td>0.0</td>\n",
       "      <td>0.0</td>\n",
       "      <td>0.0</td>\n",
       "      <td>64.0</td>\n",
       "      <td>111.0</td>\n",
       "    </tr>\n",
       "    <tr>\n",
       "      <th>323</th>\n",
       "      <td>2020-11-18</td>\n",
       "      <td>560504</td>\n",
       "      <td>383.0</td>\n",
       "      <td>694.0</td>\n",
       "      <td>1002.0</td>\n",
       "      <td>37.0</td>\n",
       "      <td>164.0</td>\n",
       "      <td>0.0</td>\n",
       "      <td>0.0</td>\n",
       "      <td>10634.0</td>\n",
       "      <td>...</td>\n",
       "      <td>204.0</td>\n",
       "      <td>0.0</td>\n",
       "      <td>0.0</td>\n",
       "      <td>311.0</td>\n",
       "      <td>5.0</td>\n",
       "      <td>0.0</td>\n",
       "      <td>0.0</td>\n",
       "      <td>0.0</td>\n",
       "      <td>56.0</td>\n",
       "      <td>48.0</td>\n",
       "    </tr>\n",
       "  </tbody>\n",
       "</table>\n",
       "<p>324 rows × 216 columns</p>\n",
       "</div>"
      ],
      "text/plain": [
       "           date   World  Afghanistan  Albania  Algeria  Andorra  Angola  \\\n",
       "0    2019-12-31      27          0.0      NaN      0.0      NaN     NaN   \n",
       "1    2020-01-01       0          0.0      NaN      0.0      NaN     NaN   \n",
       "2    2020-01-02       0          0.0      NaN      0.0      NaN     NaN   \n",
       "3    2020-01-03      17          0.0      NaN      0.0      NaN     NaN   \n",
       "4    2020-01-04       0          0.0      NaN      0.0      NaN     NaN   \n",
       "..          ...     ...          ...      ...      ...      ...     ...   \n",
       "319  2020-11-14  634423         66.0    490.0    867.0    109.0   104.0   \n",
       "320  2020-11-15  597736        205.0    532.0    844.0      0.0   171.0   \n",
       "321  2020-11-16  504453        163.0    597.0    860.0    147.0   146.0   \n",
       "322  2020-11-17  554913         65.0    602.0    910.0     42.0    77.0   \n",
       "323  2020-11-18  560504        383.0    694.0   1002.0     37.0   164.0   \n",
       "\n",
       "     Anguilla  Antigua and Barbuda  Argentina  ...  Uzbekistan  Vanuatu  \\\n",
       "0         NaN                  NaN        NaN  ...         NaN      NaN   \n",
       "1         NaN                  NaN        NaN  ...         NaN      NaN   \n",
       "2         NaN                  NaN        NaN  ...         NaN      NaN   \n",
       "3         NaN                  NaN        NaN  ...         NaN      NaN   \n",
       "4         NaN                  NaN        NaN  ...         NaN      NaN   \n",
       "..        ...                  ...        ...  ...         ...      ...   \n",
       "319       0.0                  2.0    11859.0  ...        63.0      0.0   \n",
       "320       0.0                  1.0     8468.0  ...         0.0      0.0   \n",
       "321       0.0                  0.0     5645.0  ...       563.0      0.0   \n",
       "322       0.0                  0.0     7895.0  ...       201.0      0.0   \n",
       "323       0.0                  0.0    10634.0  ...       204.0      0.0   \n",
       "\n",
       "     Vatican  Venezuela  Vietnam  Wallis and Futuna  Western Sahara  Yemen  \\\n",
       "0        NaN        NaN      0.0                NaN             NaN    NaN   \n",
       "1        NaN        NaN      0.0                NaN             NaN    NaN   \n",
       "2        NaN        NaN      0.0                NaN             NaN    NaN   \n",
       "3        NaN        NaN      0.0                NaN             NaN    NaN   \n",
       "4        NaN        NaN      0.0                NaN             NaN    NaN   \n",
       "..       ...        ...      ...                ...             ...    ...   \n",
       "319      0.0        0.0      3.0                0.0             0.0    2.0   \n",
       "320      0.0      301.0      9.0                0.0             0.0    0.0   \n",
       "321      0.0      911.0     16.0                0.0             0.0    0.0   \n",
       "322      0.0      387.0      2.0                0.0             0.0    0.0   \n",
       "323      0.0      311.0      5.0                0.0             0.0    0.0   \n",
       "\n",
       "     Zambia  Zimbabwe  \n",
       "0       NaN       NaN  \n",
       "1       NaN       NaN  \n",
       "2       NaN       NaN  \n",
       "3       NaN       NaN  \n",
       "4       NaN       NaN  \n",
       "..      ...       ...  \n",
       "319    57.0      69.0  \n",
       "320     4.0      21.0  \n",
       "321    26.0       0.0  \n",
       "322    64.0     111.0  \n",
       "323    56.0      48.0  \n",
       "\n",
       "[324 rows x 216 columns]"
      ]
     },
     "execution_count": 2,
     "metadata": {},
     "output_type": "execute_result"
    }
   ],
   "source": [
    "# Actualizar los datos (URL)\n",
    "url = 'https://covid.ourworldindata.org/data/ecdc/new_cases.csv'\n",
    "df = pd.read_csv(url)\n",
    "df"
   ]
  },
  {
   "cell_type": "markdown",
   "metadata": {},
   "source": [
    "Imprimos los resultados y agregamos el numero del dia\n"
   ]
  },
  {
   "cell_type": "code",
   "execution_count": 3,
   "metadata": {},
   "outputs": [
    {
     "data": {
      "text/html": [
       "<div>\n",
       "<style scoped>\n",
       "    .dataframe tbody tr th:only-of-type {\n",
       "        vertical-align: middle;\n",
       "    }\n",
       "\n",
       "    .dataframe tbody tr th {\n",
       "        vertical-align: top;\n",
       "    }\n",
       "\n",
       "    .dataframe thead th {\n",
       "        text-align: right;\n",
       "    }\n",
       "</style>\n",
       "<table border=\"1\" class=\"dataframe\">\n",
       "  <thead>\n",
       "    <tr style=\"text-align: right;\">\n",
       "      <th></th>\n",
       "      <th>date</th>\n",
       "      <th>Ecuador</th>\n",
       "    </tr>\n",
       "  </thead>\n",
       "  <tbody>\n",
       "    <tr>\n",
       "      <th>0</th>\n",
       "      <td>-1</td>\n",
       "      <td>0.0</td>\n",
       "    </tr>\n",
       "    <tr>\n",
       "      <th>1</th>\n",
       "      <td>0</td>\n",
       "      <td>0.0</td>\n",
       "    </tr>\n",
       "    <tr>\n",
       "      <th>2</th>\n",
       "      <td>1</td>\n",
       "      <td>0.0</td>\n",
       "    </tr>\n",
       "    <tr>\n",
       "      <th>3</th>\n",
       "      <td>2</td>\n",
       "      <td>0.0</td>\n",
       "    </tr>\n",
       "    <tr>\n",
       "      <th>4</th>\n",
       "      <td>3</td>\n",
       "      <td>0.0</td>\n",
       "    </tr>\n",
       "    <tr>\n",
       "      <th>...</th>\n",
       "      <td>...</td>\n",
       "      <td>...</td>\n",
       "    </tr>\n",
       "    <tr>\n",
       "      <th>319</th>\n",
       "      <td>318</td>\n",
       "      <td>1161.0</td>\n",
       "    </tr>\n",
       "    <tr>\n",
       "      <th>320</th>\n",
       "      <td>319</td>\n",
       "      <td>953.0</td>\n",
       "    </tr>\n",
       "    <tr>\n",
       "      <th>321</th>\n",
       "      <td>320</td>\n",
       "      <td>668.0</td>\n",
       "    </tr>\n",
       "    <tr>\n",
       "      <th>322</th>\n",
       "      <td>321</td>\n",
       "      <td>381.0</td>\n",
       "    </tr>\n",
       "    <tr>\n",
       "      <th>323</th>\n",
       "      <td>322</td>\n",
       "      <td>428.0</td>\n",
       "    </tr>\n",
       "  </tbody>\n",
       "</table>\n",
       "<p>324 rows × 2 columns</p>\n",
       "</div>"
      ],
      "text/plain": [
       "     date  Ecuador\n",
       "0      -1      0.0\n",
       "1       0      0.0\n",
       "2       1      0.0\n",
       "3       2      0.0\n",
       "4       3      0.0\n",
       "..    ...      ...\n",
       "319   318   1161.0\n",
       "320   319    953.0\n",
       "321   320    668.0\n",
       "322   321    381.0\n",
       "323   322    428.0\n",
       "\n",
       "[324 rows x 2 columns]"
      ]
     },
     "execution_count": 3,
     "metadata": {},
     "output_type": "execute_result"
    }
   ],
   "source": [
    "df = df.loc[:,['date','Ecuador']] #Selecciono las columnas de analasis\n",
    "# Expresar las fechas en numero de dias desde el 01 Enero\n",
    "FMT = '%Y-%m-%d'\n",
    "date = df['date']\n",
    "df['date'] = date.map(lambda x : (datetime.strptime(x, FMT) - datetime.strptime(\"2020-01-01\", FMT)).days)\n",
    "df"
   ]
  },
  {
   "cell_type": "code",
   "execution_count": 4,
   "metadata": {},
   "outputs": [
    {
     "data": {
      "text/plain": [
       "<matplotlib.axes._subplots.AxesSubplot at 0x1ba64432708>"
      ]
     },
     "execution_count": 4,
     "metadata": {},
     "output_type": "execute_result"
    },
    {
     "data": {
      "image/png": "[encoded data removed]",
      "text/plain": [
       "<Figure size 432x288 with 1 Axes>"
      ]
     },
     "metadata": {
      "needs_background": "light"
     },
     "output_type": "display_data"
    }
   ],
   "source": [
    "df.plot(x ='date', y='Ecuador')"
   ]
  },
  {
   "cell_type": "markdown",
   "metadata": {},
   "source": [
    "Ahora podemos analizar un modelo probabilisto para el examen.\n",
    "\n",
    "## El modelo basado en probabilidad\n",
    "\n",
    "Para realizar un estimacion del factor de crecimiento de los casos de Covid 19 en Ecuador calculamos la mediana, con esto obtenemo el valor medio de crecimiento de un conjunto de datos, con esto podemos obtener un factor de crecimiento o taza de crecimiento de los nuevos casos.\n",
    "\n"
   ]
  },
  {
   "cell_type": "code",
   "execution_count": 6,
   "metadata": {},
   "outputs": [
    {
     "name": "stdout",
     "output_type": "stream",
     "text": [
      "MEDIANA : --> 663.0\n",
      "MEDIA : --> 701.953488372093\n"
     ]
    }
   ],
   "source": [
    "filtro = df[\"Ecuador\"][61:] # Filtro los datos que se empezo a tener casos\n",
    "#Obtenemos la mediana\n",
    "media = filtro.mean()\n",
    "mediana = filtro.median()\n",
    "print('MEDIANA : -->',mediana)\n",
    "print('MEDIA : -->',media)"
   ]
  },
  {
   "cell_type": "markdown",
   "metadata": {},
   "source": [
    "De la ecuación de la recta y = mX + b nuestra pendiente «m» es el coeficiente y el término independiente «b»\n"
   ]
  },
  {
   "cell_type": "code",
   "execution_count": 45,
   "metadata": {},
   "outputs": [
    {
     "name": "stdout",
     "output_type": "stream",
     "text": [
      "181767\n"
     ]
    }
   ],
   "source": [
    "#Vamos a comprobar:\n",
    "# según la media y la mediana podemos obtener la taza de crecieminto y predicir su comportamiento.\n",
    "# Cargamos los datos de total de casos\n",
    "url = 'https://covid.ourworldindata.org/data/ecdc/total_cases.csv'\n",
    "df_t = pd.read_csv(url)\n",
    "df_t = df_t.replace(np.nan, 0)\n",
    "FMT = '%Y-%m-%d'\n",
    "date = df_t['date']\n",
    "df_t['date'] = date.map(lambda x : (datetime.strptime(x, FMT) - datetime.strptime(\"2020-01-01\", FMT)).days)\n",
    "df_t = df_t.loc[:,['date','Ecuador']] #Selecciono las columnas de analasis\n",
    "#df_t = df_t[df_t['date'] > 59]\n",
    "#df_t['Ecuador'] = df['Ecuador'].fillna(0)\n",
    "y = list(df_t.iloc [:, 1]) # Total casos\n",
    "x = list(df_t.iloc [:, 0]) # Dias\n",
    "#Realizamos un ejemplo de prediccion\n",
    "prediccion_siguiente = int(y[-1] + mediana)\n",
    "print(prediccion_siguiente)"
   ]
  },
  {
   "cell_type": "code",
   "execution_count": 46,
   "metadata": {},
   "outputs": [
    {
     "data": {
      "image/png": "[encoded data removed]",
      "text/plain": [
       "<Figure size 432x288 with 1 Axes>"
      ]
     },
     "metadata": {
      "needs_background": "light"
     },
     "output_type": "display_data"
    }
   ],
   "source": [
    "# Quiero predecir cuántos \"Casos\" voy a obtener de aqui a 10 dias.\n",
    "for i in range(x[-1], x[-1]+10):\n",
    "    x.append(i)\n",
    "    y.append(int(y[-1] + mediana))\n",
    "plt.plot(x[61:], y[61:])\n",
    "plt.show()"
   ]
  },
  {
   "cell_type": "markdown",
   "metadata": {},
   "source": [
    "# Practica - DEBER \n",
    "\n",
    "1. Comparar el modelo de predicion matematico vs probabilidad.\n",
    "2. Generar el SIR en base al modelo de probabilidad y obtener beta y gamma con una semana de prediccion.\n",
    "3. Retroceder un semana y comparar el modelo matematico vs probabilidad vs reales. Solo cargan los datos para generar los modelos menos 7 dias.\n",
    "\n",
    "Puntos extras: Investigas sobre la correlacion de variables y aplicar el calculo en base a los datos del Ecuador."
   ]
  },
  {
   "cell_type": "markdown",
   "metadata": {},
   "source": [
    "**1. Comparar el modelo de predicion matematico vs probabilidad.**\n",
    "\n",
    "---\n",
    "#### Modelo probabilístico"
   ]
  },
  {
   "cell_type": "code",
   "execution_count": 47,
   "metadata": {},
   "outputs": [
    {
     "data": {
      "text/plain": [
       "[<matplotlib.lines.Line2D at 0x1ba66a3ca88>]"
      ]
     },
     "execution_count": 47,
     "metadata": {},
     "output_type": "execute_result"
    },
    {
     "data": {
      "image/png": "[encoded data removed]",
      "text/plain": [
       "<Figure size 1080x360 with 1 Axes>"
      ]
     },
     "metadata": {
      "needs_background": "light"
     },
     "output_type": "display_data"
    }
   ],
   "source": [
    "# Implementar\n",
    "#                             1. Comparar el modelo de predicción matemático vs probabilístico:\n",
    "# Modelo probabilístico\n",
    "fig = plt.figure(figsize=(15,5))\n",
    "ax = fig.add_subplot(111, axisbelow=True)\n",
    "ax.plot(x[:len(x)-9], y[:len(x)-9],'b', alpha=1, lw = 2, label = 'Datos reales')\n",
    "ax.plot(x[len(x)-10:], y[len(x)-10:],'r', alpha=1, lw = 2, label = 'Modelo probabilístico (predicción)')\n",
    "ax.set_xlabel('Tiempo en dias')\n",
    "ax.set_ylabel('Numero de Personas')\n",
    "ax.set_title(\"Modelo probabilístico\")\n",
    "ax.legend()\n",
    "ax.grid()\n",
    "x_matematico = x[:]\n",
    "y_matematico = y[:]\n",
    "ax.plot(x[len(x)-10:], y[len(x)-10:],'r', alpha=1, lw = 2, label = 'Modelo probabilístico (predicción)')"
   ]
  },
  {
   "cell_type": "code",
   "execution_count": 48,
   "metadata": {},
   "outputs": [
    {
     "name": "stdout",
     "output_type": "stream",
     "text": [
      "________________________________________________\n",
      "---------MODELO PROBABILISTICO---------\n",
      "TOTAL DE CASOS + MEDIANA:  188397\n",
      "TOT, FECHA ACTUAL:  180295.0\n",
      "________________________________________________\n",
      "SE ESTIMA PARA LA SEMANA SIGUIENTE: 192382 CONTAGIOS \n"
     ]
    }
   ],
   "source": [
    "prediccion_siguiente = int(y[-1] + mediana)\n",
    "print('________________________________________________')\n",
    "print('---------MODELO PROBABILISTICO---------')\n",
    "print('TOTAL DE CASOS + MEDIANA: ',prediccion_siguiente)\n",
    "print('TOT, FECHA ACTUAL: ',y[321])\n",
    "for i in range(x[-1], x[-1]+7):\n",
    "    x.append(i)\n",
    "    y.append(int(y[-1] + mediana))\n",
    "print('________________________________________________')\n",
    "print('SE ESTIMA PARA LA SEMANA SIGUIENTE:',y[-1]+7, 'CONTAGIOS ')#Se suma 7 dias"
   ]
  },
  {
   "cell_type": "markdown",
   "metadata": {},
   "source": [
    "---\n",
    "#### Modelo polinomial"
   ]
  },
  {
   "cell_type": "code",
   "execution_count": 71,
   "metadata": {},
   "outputs": [
    {
     "name": "stdout",
     "output_type": "stream",
     "text": [
      "______________________________________________________________\n",
      "RESULTADOS: \n",
      "Dato actual: 91922 contagiados\n"
     ]
    },
    {
     "data": {
      "image/png": "[encoded data removed]",
      "text/plain": [
       "<Figure size 432x288 with 1 Axes>"
      ]
     },
     "metadata": {
      "needs_background": "light"
     },
     "output_type": "display_data"
    }
   ],
   "source": [
    "#Implementar\n",
    "from sklearn.linear_model import LinearRegression \n",
    "from sklearn.preprocessing import PolynomialFeatures \n",
    "pf = PolynomialFeatures(degree = 4)    \n",
    "X = pf.fit_transform(np.array(x).reshape(-1, 1))\n",
    "\n",
    "regresion_lineal = LinearRegression()\n",
    "\n",
    "regresion_lineal.fit(X, y) \n",
    "pred_x = list(range(0,max(x)+100))\n",
    "\n",
    "puntos = pf.fit_transform(np.array(pred_x).reshape(-1, 1))\n",
    "prediccion_entrenamiento = regresion_lineal.predict(puntos)\n",
    "print('______________________________________________________________')\n",
    "print('RESULTADOS: ')\n",
    "print ('Dato actual:', int(prediccion_entrenamiento[222]), 'contagiados')\n",
    "#print( x)\n",
    "\n",
    "plt.plot(pred_x, prediccion_entrenamiento, color='green')\n",
    "plt.scatter(x,y,label=\"Datos Reales\",color=\"red\")\n",
    "plt.ylim((-300,max(y)*7.9))\n",
    "plt.xlim((min(x)*0.9,max(x)*1.5))\n",
    "plt.ylabel(\"Total de personas infectadas\")\n",
    "plt.plot(222,prediccion_entrenamiento[222], 'oy')\n",
    "plt.show()"
   ]
  },
  {
   "cell_type": "markdown",
   "metadata": {},
   "source": [
    "**3.Retroceder un semana y comparar el modelo matematico vs probabilidad vs reales. Solo cargan los datos para generar los modelos menos 7 dias.**\n",
    "\n",
    "---\n",
    "#### DESARROLLO: "
   ]
  },
  {
   "cell_type": "code",
   "execution_count": 96,
   "metadata": {},
   "outputs": [
    {
     "name": "stdout",
     "output_type": "stream",
     "text": [
      "___________________________________________\n",
      "Media una semana antes: 857.3947368421053\n",
      "___________________________________________\n",
      "Mediana una semana antes: 868.5\n",
      "___________________________________________\n",
      "Predicion una semana antes:  176579\n",
      "PREDICCION 0  X DIA 1 --> 176579 CASOS POSIBLES\n",
      "PREDICCION 1  X DIA 2 --> 177448 CASOS POSIBLES\n",
      "PREDICCION 2  X DIA 3 --> 178316 CASOS POSIBLES\n",
      "PREDICCION 3  X DIA 4 --> 179184 CASOS POSIBLES\n",
      "PREDICCION 4  X DIA 5 --> 180053 CASOS POSIBLES\n",
      "PREDICCION 5  X DIA 6 --> 180922 CASOS POSIBLES\n",
      "PREDICCION 6  X DIA 7 --> 181790 CASOS POSIBLES\n"
     ]
    },
    {
     "data": {
      "text/plain": [
       "<function matplotlib.pyplot.show(*args, **kw)>"
      ]
     },
     "execution_count": 96,
     "metadata": {},
     "output_type": "execute_result"
    },
    {
     "data": {
      "image/png": "[encoded data removed]",
      "text/plain": [
       "<Figure size 432x288 with 1 Axes>"
      ]
     },
     "metadata": {
      "needs_background": "light"
     },
     "output_type": "display_data"
    }
   ],
   "source": [
    "TotalSemanaPasada=df['Ecuador'][241:len(df)-7]\n",
    "y_semanantes = list(df_t.iloc [:, 1]) # Total casos\n",
    "x_semanantes = list(df_t.iloc [:, 0]) # Dias\n",
    "for i in range (7):\n",
    "    y_semanantes.pop(-1)\n",
    "    x_semanantes.pop(-1)\n",
    "#Mediana\n",
    "media_semanantes=TotalSemanaPasada.mean()\n",
    "print('___________________________________________')\n",
    "print('Media una semana antes:', media_semanantes)\n",
    "mediana_semanantes=SemanaAntes.median()\n",
    "print('___________________________________________')\n",
    "print('Mediana una semana antes:', mediana_semanantes)\n",
    "\n",
    "#Realizamos un ejemplo de prediccion\n",
    "prediccion_semana_antes = int(y_semanantes[-1] + mediana_semanantes)\n",
    "print('___________________________________________')\n",
    "print('Predicion una semana antes: ',prediccion_semana_antes)\n",
    "\n",
    "for i in range(x_semanantes[-1], x_semanantes[-1]+7):\n",
    "    x_semanantes.append(i)\n",
    "    y_semanantes.append(int(y_semanantes[-1]+mediana_semanantes))\n",
    "    \n",
    "for i in range(7):\n",
    "    print('PREDICCION',i,' X DIA',i+1,'-->',round(prediccion_semana_antes),'CASOS POSIBLES')\n",
    "    prediccion_semana_antes=prediccion_semana_antes+mediana_semanantes\n",
    "    \n",
    "plt.plot(x_semanantes[241:], y_semanantes[241:])\n",
    "plt.show"
   ]
  },
  {
   "cell_type": "code",
   "execution_count": 103,
   "metadata": {},
   "outputs": [
    {
     "name": "stdout",
     "output_type": "stream",
     "text": [
      "___________________________________________\n",
      "RESULTADO:\n",
      "Predicción una semana antes: 13712.0 contagiados\n"
     ]
    },
    {
     "data": {
      "image/png": "[encoded data removed]",
      "text/plain": [
       "<Figure size 432x288 with 1 Axes>"
      ]
     },
     "metadata": {
      "needs_background": "light"
     },
     "output_type": "display_data"
    }
   ],
   "source": [
    "from sklearn.linear_model import LinearRegression \n",
    "from sklearn.preprocessing import PolynomialFeatures \n",
    "\n",
    "pf = PolynomialFeatures(degree = 4)    # usaremos polinomios de grado 6\n",
    "X = pf.fit_transform(np.array(x_semanantes).reshape(-1, 1))\n",
    "\n",
    "regresion_lineal = LinearRegression()\n",
    "regresion_lineal.fit(X,y_semanantes ) \n",
    "\n",
    "pred_x = list(range(0,max(x_semanantes)+200))\n",
    "puntos = pf.fit_transform(np.array(pred_x).reshape(-1, 1))\n",
    "prediccion_entrenamiento = regresion_lineal.predict(puntos)\n",
    "print('___________________________________________')\n",
    "print('RESULTADO:')\n",
    "print ('Predicción una semana antes:', round(prediccion_entrenamiento[108]), 'contagiados')\n",
    "plt.plot(pred_x, prediccion_entrenamiento, color='green')\n",
    "plt.scatter(x,y,label=\"Datos Reales\",color=\"red\")\n",
    "plt.ylim((-300,max(y_semanantes)*7.9))\n",
    "plt.xlim((min(x_semanantes)*0.9,max(x_semanantes)*1.5))\n",
    "plt.ylabel(\"Total de personas infectadas\")\n",
    "plt.plot(108,prediccion_entrenamiento[108], 'oy')\n",
    "plt.legend()\n",
    "plt.show()"
   ]
  },
  {
   "cell_type": "markdown",
   "metadata": {},
   "source": [
    "----\n",
    "\n",
    "## Analisis\n",
    "Modelo probabilístico o estadístico, describen un conjunto de distribuciones de probabilidad, que son capaces de aproximar de manera adecuada un conjunto de datos, incorporando nuevos predictores elevando el valor de los casos ya existentes a diferentes potencias, por lo que un polinomio de cuarto grado podría capturar mejor la relación entre las variables. \n",
    "\n",
    "## Conclusiones\n",
    "Como conclusion se puede decir que estos modelos matematicos son herramientas que nos ayudan a simular o predecir en un futuro los eventos que pasaran, aunque cabe recalcar que estos modelos son bastante subjetivos, lo que podria no acertar en su totalidad los eventos, pero si nos podria dar una referencia intermedia para poder tener un concepto claro, de como va ha afectarnos o que probabilidades existen de incremento o decremento.\n",
    "\n",
    "## Criterio personal (politico, economico y  social de la situacion)\n",
    "\n",
    "El ambito politico frente al covid juega un papel muy importante, ya que un buen manejo de los recursos del pais, puede dar una pronta respuesta a la pandemia mediante un buen manejo de entidades de salud y una buena planificacion, esto de cierta forma ayudaria a reducir los contagios y a manejar de mejor manera, ya que en pleno rebrote fuimos uno de los paises latinoamericanos mas afectado y con un alto indice de mortalidad como consecuencia del mal manejo y de la descarada corrupcion que existe, en cuanto a lo economico, es una etapa bastante dificil para el pais y su comunidad, debido a que la tasa de subempleo incrementa y tambien existen reduccion en la nomida de empleados, lo que trae consigo como consecuencia, que las personas no tengan dinero para mantenerse, tampoco puden acceder a la canasta basica, que desencadena en varios factores tales como desnutricion, enfermedades, personas sin hogar por la falta de posibilidades economicas, otros buscan obtener ingresos mediante microemprendimientos, para aliviar de cierta forma este problema, y en lo social haciendo referencia a puntos mencionados anteriormente se puede decir que afecta a todas las personas, en distintos ambitos tales como empleo, ingresos, comercios, salud, vivieda."
   ]
  },
  {
   "cell_type": "markdown",
   "metadata": {},
   "source": [
    "# Referencias\n",
    "\n",
    "- https://www.researchgate.net/publication/340092755_Infeccion_del_Covid-19_en_Colombia_Una_comparacion_de_modelos_logisticos_y_exponenciales_aplicados_a_la_infeccion_por_el_virus_en_Colombia\n",
    "\n",
    "- https://www.aprendemachinelearning.com/regresion-lineal-en-espanol-con-python/\n",
    "- https://www.ccg.unam.mx/~vinuesa/R4biosciences/docs/Tema9_regresion.html"
   ]
  }
 ],
 "metadata": {
  "kernelspec": {
   "display_name": "Python 3",
   "language": "python",
   "name": "python3"
  },
  "language_info": {
   "codemirror_mode": {
    "name": "ipython",
    "version": 3
   },
   "file_extension": ".py",
   "mimetype": "text/x-python",
   "name": "python",
   "nbconvert_exporter": "python",
   "pygments_lexer": "ipython3",
   "version": "3.7.6"
  }
 },
 "nbformat": 4,
 "nbformat_minor": 2
}
