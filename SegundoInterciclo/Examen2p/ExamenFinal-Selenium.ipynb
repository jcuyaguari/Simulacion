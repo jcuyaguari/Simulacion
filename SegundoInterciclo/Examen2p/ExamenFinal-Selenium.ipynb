{
 "cells": [
  {
   "cell_type": "markdown",
   "metadata": {},
   "source": [
    "# <div align=\"center\"> ![Logo](https://www.ups.edu.ec/ups_portal-theme/images/ups/home/logo-ups-home.png)\n",
    "### <div align=\"center\"> Examen Simulacion\n",
    "## Docente:\n",
    "### <div align=\"left\"> Ing. Diego Quisi.    \n",
    "## Alumno:\n",
    "### <div align=\"left\"> Juan Carlos Cañar Uyaguari.     \n",
    "<h5><right>07/02/2021 . </right></h5>"
   ]
  },
  {
   "cell_type": "markdown",
   "metadata": {},
   "source": [
    "------"
   ]
  },
  {
   "cell_type": "markdown",
   "metadata": {},
   "source": [
    "##### Enunciado:\n",
    "\n",
    "•\tEn base a ello, diseñe y desarrolle un modelo y/o script que permita realizar marketing digital automatizado del proceso de campaña política para un partido:\n",
    "▪\tGenerar un documento de Excel Online o Google Drive Calc en donde se tenga un listado de las persona para enviar la notificación por email el mismo que constara de: Nombre, Apellido, Email, Estado (Activo/Desactivo).\n",
    "▪\tSe debe generar un flyer (canvas.com) o imagen (PaintOnline), etc. que permitan identificar la fecha de publicación, hora, candidato, partido y cualquier dato de interés adicional.\n",
    "▪\tAdemas, deben de publicar dentro de cualquier red social(facebook, instagram, twitter, etc.) el flyer o imagen para ello pueden utilizar sus cuentas personales o crear una cuenta para esta tarea.\n",
    "▪\tDespués, enviar por email el flyer o imagen generada (los correos se encuentran en el primer archivo).\n",
    "▪\tFinalmente, generar un informe de las personas que visitaron la red social, comentaron o realizaron algún tipo de acción o evento y guardarlo en el GIT o en un documento en Google Drive.\n",
    "\n",
    "Este proceso, se ejecuta diariamente por lo que deben programar al RPA indicando todos los pasos anterior y ejecutarlo desde Python a través de un crontab (Linux) o en cmd para Windows.\n",
    "\n",
    "El partido político y/o candidatos son los mismo del interciclo.\n",
    "\n",
    "Se puede utilizar Automagica o Selenium y solo necesitan publicar al menos en una red social, cualquier característica adicional  se tomara como puntos adicionales.\n",
    "\n",
    "Fecha de Entrega: 07/02/2021 – 23:55.\n"
   ]
  },
  {
   "cell_type": "code",
   "execution_count": 165,
   "metadata": {},
   "outputs": [],
   "source": [
    "import time\n",
    "from selenium import webdriver"
   ]
  },
  {
   "cell_type": "code",
   "execution_count": 167,
   "metadata": {},
   "outputs": [],
   "source": [
    "driver = webdriver.Chrome('C:\\driverChrome\\chromedriver.exe')  # Optional argument, if not specified will search path.\n",
    "driver.get('http://www.google.com/');\n",
    "time.sleep(5) # Let the user actually see something!\n",
    "search_box = driver.find_element_by_name('q')\n",
    "search_box.send_keys('Juan Carlos Canar')\n",
    "search_box.submit()\n",
    "time.sleep(1) # Let the user actually see something!\n",
    "driver.quit()"
   ]
  },
  {
   "cell_type": "code",
   "execution_count": 3,
   "metadata": {},
   "outputs": [],
   "source": [
    "from selenium import webdriver\n",
    "from selenium.webdriver.common.keys import Keys\n",
    "from selenium.webdriver.common.by import By\n",
    "from selenium.webdriver.support.ui import WebDriverWait\n",
    "from selenium.webdriver.support import expected_conditions as EC\n",
    "from selenium.webdriver.chrome.options import Options\n",
    "import time\n",
    "from selenium.webdriver.common.action_chains import ActionChains\n",
    "PATH = 'C:\\driverChrome\\chromedriver.exe'"
   ]
  },
  {
   "cell_type": "markdown",
   "metadata": {},
   "source": [
    "--------\n",
    "#### Postear en Facebook desde GoogleChrome"
   ]
  },
  {
   "cell_type": "code",
   "execution_count": 45,
   "metadata": {},
   "outputs": [
    {
     "name": "stderr",
     "output_type": "stream",
     "text": [
      "C:\\Users\\juan\\anaconda3\\lib\\site-packages\\ipykernel_launcher.py:22: DeprecationWarning: use options instead of chrome_options\n"
     ]
    }
   ],
   "source": [
    "from selenium import webdriver\n",
    "from selenium.webdriver.common.keys import Keys\n",
    "from selenium.webdriver.common.by import By\n",
    "from selenium.webdriver.support.ui import WebDriverWait\n",
    "from selenium.webdriver.support import expected_conditions as EC\n",
    "from selenium.webdriver.chrome.options import Options\n",
    "import time\n",
    "from selenium.webdriver.common.action_chains import ActionChains\n",
    "PATH = 'C:\\driverChrome\\chromedriver.exe'\n",
    "\n",
    "##### Handling of Allow Pop Up In Facebook\n",
    "option = Options()\n",
    "option.add_argument(\"--disable-infobars\")\n",
    "option.add_argument(\"start-maximized\")\n",
    "option.add_argument(\"--disable-extensions\")\n",
    "\n",
    "# Pass the argument 1 to allow and 2 to block\n",
    "option.add_experimental_option(\"prefs\", { \n",
    "    \"profile.default_content_setting_values.notifications\": 2 \n",
    "})\n",
    "\n",
    "driver = webdriver.Chrome(chrome_options=option, executable_path=PATH)\n",
    "driver.maximize_window()\n",
    "driver.get(\"https://www.facebook.com/\")\n",
    "###Login To The Account\n",
    "def login(id,password):\n",
    "    email = driver.find_element_by_id(\"email\")\n",
    "    email.send_keys(id)\n",
    "    time.sleep(3)\n",
    "    Password = driver.find_element_by_id(\"pass\")\n",
    "    Password.send_keys(password)\n",
    "    time.sleep(3)\n",
    "    button = driver.find_element_by_xpath(\"/html/body/div[1]/div[2]/div[1]/div/div/div/div[2]/div/div[1]/form/div[2]/button\").click()\n",
    "    ##button = driver.find_element_by_id(\"u_0_d_Ru\").click()\n",
    "    pass\n",
    "#### Post Content On FaceBook\n",
    "def post_content(post):\n",
    "    #/html/body/div[1]/div/div[1]/div/div[3]/div/div/div[1]/div[1]/div/div[2]/div/div/div[3]/div/div[2]/div/div/div/div[1]/div\n",
    "    time.sleep(5)                          \n",
    "    body =  driver.find_element_by_xpath('/html/body/div[1]/div/div[1]/div/div[3]/div/div/div[1]/div[1]/div/div[2]/div/div/div[3]/div/div[2]/div/div/div/div[1]/div')\n",
    "    body.click()\n",
    "    \n",
    "    time.sleep(3)\n",
    "                                \n",
    "    activepostarea=driver.switch_to.active_element\n",
    "    activepostarea.send_keys(post,Keys.CONTROL, 'v')\n",
    "    time.sleep(5)                        \n",
    "    post = driver.find_element_by_xpath('/html/body/div[1]/div/div[1]/div/div[4]/div/div/div[1]/div/div[2]/div/div/div/form/div/div[1]/div/div/div[3]/div[2]/div')\n",
    "    post.click()\n",
    "    pass\n",
    "  \n",
    "login(\"amarksk_c239k@hexud.com\",\"lasalesiana3000\") \n",
    "time.sleep(1)\t\n",
    "content = \"Campaña Publicitaria \"+\"https://github.com/jcuyaguari/Simulacion/blob/main/SegundoInterciclo/hervas.png\"  ## Demo Content\n",
    "post_content(content)"
   ]
  },
  {
   "cell_type": "markdown",
   "metadata": {},
   "source": [
    "---- "
   ]
  },
  {
   "cell_type": "markdown",
   "metadata": {},
   "source": [
    "### CORREOS"
   ]
  },
  {
   "cell_type": "markdown",
   "metadata": {},
   "source": [
    "###### Se debe generar un flyer (canvas.com) o imagen (PaintOnline), etc. que permitan identificar la fecha de publicación, hora, candidato, partido y cualquier dato de interés adicional."
   ]
  },
  {
   "cell_type": "code",
   "execution_count": 52,
   "metadata": {},
   "outputs": [
    {
     "data": {
      "text/plain": [
       "<matplotlib.image.AxesImage at 0x288d5148208>"
      ]
     },
     "execution_count": 52,
     "metadata": {},
     "output_type": "execute_result"
    },
    {
     "data": {
      "image/png": "[encoded data removed]",
      "text/plain": [
       "<Figure size 432x288 with 1 Axes>"
      ]
     },
     "metadata": {
      "needs_background": "light"
     },
     "output_type": "display_data"
    }
   ],
   "source": [
    "import matplotlib.pyplot as plt\n",
    "%matplotlib inline\n",
    "from skimage import io\n",
    "lena_rgba=io.imread(\"hervas.png\")\n",
    "plt.imshow(lena_rgba)"
   ]
  },
  {
   "cell_type": "code",
   "execution_count": 71,
   "metadata": {
    "scrolled": true
   },
   "outputs": [
    {
     "name": "stdout",
     "output_type": "stream",
     "text": [
      "--> ['obp10406@zwoho.com', 'jua@zwoho.com', 'obp10406@zwoho.com', 'appdisup@gmail.com']\n",
      "obp10406@zwoho.com,jua@zwoho.com,obp10406@zwoho.com,appdisup@gmail.com,\n"
     ]
    }
   ],
   "source": [
    "import time\n",
    "import pandas as pd\n",
    "from selenium import webdriver\n",
    "from selenium.webdriver.common.keys import Keys\n",
    "\n",
    "\n",
    "class ClassExcel():\n",
    "    def setup_method(self):\n",
    "        self.driver = webdriver.Chrome()\n",
    "        self.vars = {}\n",
    "        self.datos = {'nombre': [], 'apellido': [], 'correo': [], 'correo': []}\n",
    "    def escribir(self, body, txt):\n",
    "        body.send_keys(txt)\n",
    "        time.sleep(1)\n",
    "        body.send_keys(Keys.TAB)\n",
    "\n",
    "    def ubicar_celdas(self, txt):\n",
    "        celdas = self.driver.find_element_by_id('t-name-box')\n",
    "        celdas.clear()\n",
    "        celdas.send_keys(txt)\n",
    "        time.sleep(1)\n",
    "        celdas.send_keys(Keys.ENTER)\n",
    "        time.sleep(1)\n",
    "\n",
    "    def teardown_method(self):\n",
    "        self.driver.quit()\n",
    "\n",
    "    def sheets_drive(self):\n",
    "        lista= ['obp10406@zwoho.com', 'jua@zwoho.com', 'obp10406@zwoho.com', 'appdisup@gmail.com','amfre@gmail.com']\n",
    "        lista2= ['Andrea', 'Lorena', 'Juan', 'Carlos']\n",
    "        apellidos = ['Jaramillo','Calle','Canar','Meneses']\n",
    "        estado= ['Inactivo', 'activo', 'activo', 'activo']\n",
    "        self.driver.get(\n",
    "            \"https://docs.google.com/spreadsheets/d/1z5ZtRsAMBY6aX7i_DubQlb6H6P1u3wGCdXEkeFzpcPc/edit#gid=0\")             \n",
    "        self.ubicar_celdas(\"A2:D10\")\n",
    "        cel_del = self.driver.find_element_by_id('waffle-rich-text-editor')\n",
    "        cel_del.send_keys(Keys.DELETE)\n",
    "        time.sleep(1)\n",
    "        self.ubicar_celdas(\"A2\")\n",
    "\n",
    "        body = self.driver.find_element_by_class_name('cell-input')\n",
    "        for j in range(0,1):# escriba una sola vez\n",
    "            for k in zip(lista2,lista,apellidos,estado):\n",
    "                for i in range(0, 4):\n",
    "                    if i==0:\n",
    "                        self.escribir(body,k[0])\n",
    "                    elif i==1:\n",
    "                        self.escribir(body,k[2]+\".\")\n",
    "                    elif i==2:\n",
    "\n",
    "                        self.escribir(body,k[1])\n",
    "                    elif i==3:\n",
    "                        self.escribir(body,k[3])\n",
    "                        body.send_keys(Keys.ENTER)\n",
    "        self.driver.quit()\n",
    "        return lista\n",
    "    def recupera(self,correo):\n",
    "        mailtxt=''\n",
    "        #data = pd.read_csv(\"Correos.csv\",delimiter=',')\n",
    "        #lst = data.iloc[:,2]\n",
    "        lst=correo\n",
    "        for i in (lst):\n",
    "            mailtxt=mailtxt+i+','\n",
    "        return mailtxt\n",
    "    \n",
    "    def send_mail(self,mail):\n",
    "        browser = webdriver.Firefox(executable_path=r'C:\\driverChrome\\mozilla\\geckodriver.exe')\n",
    "        browser.get('https://login.live.com/login.srf?wa=wsignin1.0&rpsnv=13&ct=1612767539&rver=7.0.6737.0&wp=MBI_SSL&wreply=https%3a%2f%2foutlook.live.com%2fmail%2f%3fnlp%3d1%26RpsCsrfState%3d3f400cdd-ce1e-4201-5cae-e3deda81a4b7&id=292841&aadredir=1&CBCXT=out&lw=1&fl=dob%2cflname%2cwld&cobrandid=90015')\n",
    "\n",
    "        time.sleep(6)\n",
    "        emailElem = browser.find_element_by_name('loginfmt')\n",
    "        emailElem.send_keys('appdisup@hotmail.com')\n",
    "        time.sleep(2)\n",
    "\n",
    "        boton = browser.find_element_by_id('idSIButton9')\n",
    "        boton.click()\n",
    "        time.sleep(2)\n",
    "\n",
    "        passwordElem = browser.find_element_by_name('passwd')\n",
    "        passwordElem.send_keys('123UPS45')\n",
    "        boton = browser.find_element_by_id('idSIButton9')\n",
    "        boton.click()\n",
    "        time.sleep(8)\n",
    "                                               \n",
    "        #nuevo = browser.find_element_by_xpath('/html/body/div[2]/div/div[2]/div[1]/div[1]/div/div/div[1]/div[1]/div[2]/button/span')\n",
    "        nuevo = browser.find_element_by_id(\"id__6\")\n",
    "        nuevo.click()\n",
    "        time.sleep(5)\n",
    "                                       \n",
    "        para = browser.find_element_by_xpath('//*[@id=\"ReadingPaneContainerId\"]/div/div/div/div[1]/div[1]/div[1]/div/div[1]/div/div/div/div/div[1]/div/div/input')\n",
    "        para.send_keys(mail)\n",
    "        time.sleep(1)\n",
    "        para.send_keys(Keys.TAB)\n",
    "        time.sleep(2)\n",
    "        asunto = browser.find_element_by_class_name(\"ms-TextField-field\")\n",
    "        asunto.send_keys('Publicidad')\n",
    "        time.sleep(1)\n",
    "        msm = browser.find_element_by_xpath('/html/body/div[2]/div/div[2]/div[1]/div[1]/div/div/div[3]/div[2]/div/div[3]/div[1]/div/div/div/div[1]/div[2]/div[1]')\n",
    "        msm.send_keys('https://github.com/jcuyaguari/Simulacion/blob/main/SegundoInterciclo/hervas.png',Keys.CONTROL, 'v')\n",
    "\n",
    "        time.sleep(5)\n",
    "        send = browser.find_element_by_xpath('/html/body/div[2]/div/div[2]/div[1]/div[1]/div/div/div[3]/div[2]/div/div[3]/div[1]/div/div/div/div[1]/div[3]/div[2]/div[1]/div/span/button[1]/span')\n",
    "        send.click()\n",
    "        time.sleep(8)\n",
    "        browser.quit()\n",
    "t = ClassExcel()\n",
    "t.setup_method()\n",
    "mail=t.sheets_drive()\n",
    "print(\"-->\",mail)\n",
    "correo=t.recupera(mail)\n",
    "t.send_mail(correo)\n",
    "print(correo)\n",
    "t.teardown_method()"
   ]
  },
  {
   "cell_type": "markdown",
   "metadata": {},
   "source": [
    "###### Ademas, deben de publicar dentro de cualquier red social(facebook, instagram, twitter, etc.) el flyer o imagen para ello pueden utilizar sus cuentas personales o crear una cuenta para esta tarea.\n",
    "\n",
    "###### Publica en Facebook"
   ]
  },
  {
   "cell_type": "code",
   "execution_count": 55,
   "metadata": {},
   "outputs": [],
   "source": [
    "from selenium import webdriver\n",
    "from selenium.webdriver.common.keys import Keys\n",
    "import time\n",
    "driver = webdriver.Firefox(executable_path=r'C:\\driverChrome\\mozilla\\geckodriver.exe')\n",
    "class publicarfb():\n",
    "    \n",
    "    def facebook(self):\n",
    "        email = 'amarksk_c239k@hexud.com'\n",
    "        pwd = 'lasalesiana3000'\n",
    "\n",
    "        msg = 'https://github.com/jcuyaguari/Simulacion/blob/main/SegundoInterciclo/hervas.png'\n",
    "\n",
    "        driver.get('https://www.facebook.com/')\n",
    "\n",
    "        user =  driver.find_element_by_id('email')\n",
    "        user.send_keys(email) \n",
    "\n",
    "        password = driver.find_element_by_id('pass')\n",
    "        password.send_keys(pwd) \n",
    "\n",
    "        button = driver.find_element_by_xpath(\"/html/body/div[1]/div[2]/div[1]/div/div/div/div[2]/div/div[1]/form/div[2]/button\")\n",
    "        button.submit()\n",
    "        ##button = driver.find_element_by_id('u_0_b')\n",
    "        ##button.submit()\n",
    "\n",
    "        time.sleep(10) \n",
    "\n",
    "        body =  driver.find_element_by_xpath('/html/body/div[1]/div/div[1]/div/div[3]/div/div/div[1]/div[1]/div/div[2]/div/div/div[3]/div/div[2]/div/div/div/div[1]/div')\n",
    "        body.click()\n",
    "\n",
    "        time.sleep(5)\n",
    "\n",
    "        activepostarea=driver.switch_to.active_element\n",
    "        activepostarea.send_keys(\"HervasPresi\",Keys.CONTROL, 'v')\n",
    "        #activepostarea.send_keys(Keys.CONTROL, 'v')\n",
    "        time.sleep(5)\n",
    "        postbtn=driver.find_elements_by_tag_name('button')\n",
    "\n",
    "        post = driver.find_element_by_xpath('/html/body/div[1]/div/div[1]/div/div[4]/div/div/div[1]/div/div[2]/div/div/div/form/div/div[1]/div/div/div[3]/div[2]/div')\n",
    "        post.click()\n",
    "        #driver.close()\n",
    "    \n",
    "    def comentariosUsr(self):\n",
    "        driver.get('https://www.facebook.com/photo?fbid=101952498601932&set=a.101590771971438')\n",
    "        time.sleep(6)\n",
    "        commentaires = driver.find_elements_by_xpath(\"//div[@style='text-align: start;']\")\n",
    "        \n",
    "        usr = driver.find_elements_by_class_name(\"oajrlxb2 g5ia77u1 qu0x051f esr5mh6w e9989ue4 r7d6kgcz rq0escxv nhd2j8a9 nc684nl6 p7hjln8o kvgmc6g5 cxmmr5t8 oygrvhab hcukyx3x jb3vyjys rz4wbd8a qt6c0cv9 a8nywdso i1ao9s8h esuyzwwr f1sip0of lzcic4wl gmql0nx0 gpro0wi8\")\n",
    "        for us in usr:\n",
    "            print(us.text)\n",
    "        for com in commentaires:\n",
    "            print(com.text)"
   ]
  },
  {
   "cell_type": "code",
   "execution_count": 56,
   "metadata": {},
   "outputs": [
    {
     "name": "stdout",
     "output_type": "stream",
     "text": [
      "Ya es noche\n",
      "like more like\n",
      "YAKU PRESI\n",
      "jajajjaja\n",
      "Erika de que te ries\n"
     ]
    }
   ],
   "source": [
    "p = publicarfb()\n",
    "p.facebook()\n",
    "p.comentariosUsr()"
   ]
  },
  {
   "cell_type": "markdown",
   "metadata": {},
   "source": [
    "##### ▪\tDespués, enviar por email el flyer o imagen generada (los correos se encuentran en el primer archivo).\n",
    "### Email Hotmail"
   ]
  },
  {
   "cell_type": "code",
   "execution_count": 42,
   "metadata": {},
   "outputs": [],
   "source": [
    "import time\n",
    "from selenium import webdriver\n",
    "from selenium.webdriver.common.keys import Keys\n",
    "\n",
    "browser = webdriver.Firefox(executable_path=r'C:\\driverChrome\\mozilla\\geckodriver.exe')\n",
    "browser.get('https://login.live.com/login.srf?wa=wsignin1.0&rpsnv=13&ct=1612767539&rver=7.0.6737.0&wp=MBI_SSL&wreply=https%3a%2f%2foutlook.live.com%2fmail%2f%3fnlp%3d1%26RpsCsrfState%3d3f400cdd-ce1e-4201-5cae-e3deda81a4b7&id=292841&aadredir=1&CBCXT=out&lw=1&fl=dob%2cflname%2cwld&cobrandid=90015')\n",
    "\n",
    "time.sleep(6)\n",
    "emailElem = browser.find_element_by_name('loginfmt')\n",
    "emailElem.send_keys('appdisup@hotmail.com')\n",
    "time.sleep(2)\n",
    "\n",
    "boton = browser.find_element_by_id('idSIButton9')\n",
    "boton.click()\n",
    "time.sleep(2)\n",
    "\n",
    "passwordElem = browser.find_element_by_name('passwd')\n",
    "passwordElem.send_keys('123UPS45')\n",
    "boton = browser.find_element_by_id('idSIButton9')\n",
    "boton.click()\n",
    "time.sleep(6)\n",
    "                                       \n",
    "nuevo = browser.find_element_by_id('id__6')\n",
    "nuevo.click()\n",
    "time.sleep(5)\n",
    "                                       \n",
    "para = browser.find_element_by_xpath('//*[@id=\"ReadingPaneContainerId\"]/div/div/div/div[1]/div[1]/div[1]/div/div[1]/div/div/div/div/div[1]/div/div/input')\n",
    "para.send_keys(mail)\n",
    "time.sleep(1)\n",
    "para.send_keys(Keys.TAB)\n",
    "time.sleep(2)\n",
    "asunto = browser.find_element_by_class_name(\"ms-TextField-field\")\n",
    "asunto.send_keys('Publicidad')\n",
    "time.sleep(1)\n",
    "msm = browser.find_element_by_xpath('/html/body/div[2]/div/div[2]/div[1]/div[1]/div/div/div[3]/div[2]/div/div[3]/div[1]/div/div/div/div[1]/div[2]/div[1]')\n",
    "msm.send_keys('https://github.com/jcuyaguari/Simulacion/blob/main/SegundoInterciclo/hervas.png',Keys.CONTROL, 'v')\n",
    "\n",
    "time.sleep(5)\n",
    "send = browser.find_element_by_xpath('/html/body/div[2]/div/div[2]/div[1]/div[1]/div/div/div[3]/div[2]/div/div[3]/div[1]/div/div/div/div[1]/div[3]/div[2]/div[1]/div/span/button[1]/span')\n",
    "send.click()"
   ]
  },
  {
   "cell_type": "markdown",
   "metadata": {},
   "source": [
    "---\n",
    "## TWITTER\n"
   ]
  },
  {
   "cell_type": "code",
   "execution_count": null,
   "metadata": {
    "scrolled": false
   },
   "outputs": [],
   "source": [
    "from selenium import webdriver\n",
    "from selenium.webdriver.common.keys import Keys\n",
    "from selenium.webdriver.common.by import By\n",
    "from selenium.webdriver.support.ui import WebDriverWait\n",
    "from selenium.webdriver.support import expected_conditions as EC\n",
    "from selenium.webdriver.chrome.options import Options\n",
    "import time\n",
    "from selenium.webdriver.common.action_chains import ActionChains\n",
    "PATH = 'C:\\driverChrome\\chromedriver.exe'\n",
    "\n",
    "##### Handling of Allow Pop Up In Facebook\n",
    "option = Options()\n",
    "option.add_argument(\"--disable-infobars\")\n",
    "option.add_argument(\"start-maximized\")\n",
    "option.add_argument(\"--disable-extensions\")\n",
    "\n",
    "# Pass the argument 1 to allow and 2 to block\n",
    "option.add_experimental_option(\"prefs\", { \n",
    "    \"profile.default_content_setting_values.notifications\": 2 \n",
    "})\n",
    "\n",
    "driver = webdriver.Chrome(chrome_options=option, executable_path=PATH)\n",
    "driver.maximize_window()\n",
    "driver.get(\"https://twitter.com/login\")\n",
    "##driver.set_window_size(789, 812)\n",
    "time.sleep(5)\n",
    "driver.find_element(By.NAME,\"session[username_or_email]\").send_keys(\"appdisup@hotmail.com\")\n",
    "driver.find_element(By.CSS_SELECTOR, \".css-1dbjc4n:nth-child(7) > .css-1dbjc4n .css-1dbjc4n:nth-child(2)\").click()\n",
    "time.sleep(4)\n",
    "driver.find_element(By.NAME, \"session[password]\").send_keys(\"lasalesiana3000\")\n",
    "driver.find_element(By.CSS_SELECTOR, \".css-1dbjc4n:nth-child(2) > form .css-18t94o4 > .css-901oao\").click()\n",
    "time.sleep(4)\n",
    "driver.find_element(By.CSS_SELECTOR, \".public-DraftStyleDefault-block\").click()\n",
    "element = driver.find_element(By.CSS_SELECTOR, \".notranslate\")\n",
    "element.send_keys(\"#PRESI\",Keys.ENTER)\n",
    "time.sleep(3)\n",
    "#driver.find_element(By.CSS_SELECTOR, \"div:nth-child(4) > .css-1dbjc4n > .css-1dbjc4n > .css-1dbjc4n > .css-18t94o4:nth-child(1) > .css-901oao > .r-13gxpu9\").click()\n",
    "driver.find_element(By.CSS_SELECTOR, \".r-8akbif\").send_keys(\"C:\\\\Users\\\\juan\\\\Downloads\\\\hervas.png\")\n",
    "driver.find_element(By.CSS_SELECTOR, \".css-18t94o4:nth-child(4) > .css-901oao > .css-901oao > .css-901oao\").click()\n",
    "element = driver.find_element(By.CSS_SELECTOR, \".r-11wrixw > .css-9pa8cd\")\n",
    "actions = ActionChains(driver)\n",
    "actions.move_to_element(element).perform()\n",
    "time.sleep(4)\n",
    "driver.find_element(By.XPATH,\"/html/body/div/div/div/div[2]/header/div/div/div/div[2]/div/div/div/div/div[2]\").click()\n",
    "time.sleep(2)\n",
    "driver.find_element(By.XPATH,\"/html/body/div/div/div/div[1]/div[2]/div/div/div[2]/div/div[2]/div/div/div/div/div/a[2]/div/div\").click()\n",
    "time.sleep(2)\n",
    "driver.find_element(By.XPATH,\"/html/body/div/div/div/div[1]/div[2]/div/div/div/div/div/div[2]/div[2]/div[3]/div[2]/div\").click()"
   ]
  },
  {
   "cell_type": "code",
   "execution_count": 59,
   "metadata": {
    "scrolled": true
   },
   "outputs": [
    {
     "name": "stdout",
     "output_type": "stream",
     "text": [
      "PUBLICACION EXITOSA EN TWITTER\n"
     ]
    }
   ],
   "source": []
  },
  {
   "cell_type": "markdown",
   "metadata": {},
   "source": [
    "Alumno: Juan Carlos Canar Uyaguari."
   ]
  }
 ],
 "metadata": {
  "kernelspec": {
   "display_name": "Python 3",
   "language": "python",
   "name": "python3"
  },
  "language_info": {
   "codemirror_mode": {
    "name": "ipython",
    "version": 3
   },
   "file_extension": ".py",
   "mimetype": "text/x-python",
   "name": "python",
   "nbconvert_exporter": "python",
   "pygments_lexer": "ipython3",
   "version": "3.7.6"
  }
 },
 "nbformat": 4,
 "nbformat_minor": 4
}
