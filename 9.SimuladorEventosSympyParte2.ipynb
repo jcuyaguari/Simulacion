{
 "cells": [
  {
   "cell_type": "markdown",
   "metadata": {},
   "source": [
    "##### Deber Simpy - Parte 1\n",
    "<h1><center>Entornos de soporte al desarrollo de simulaciones: Simpy - Parte 2</center></h1>\n",
    "<h2><center> Universidad \"Politecnica Salesiana\" </center></h2>\n",
    "<h5><right>Alumno: Juan Cañar. <br> Docente: Ing. Diego Quisi. </right></h5>\n",
    "\n",
    "## Generacion de graficar de atencion. \n",
    "\n",
    "En base a la simulacion anterior generar una grafica de los autos atendidos."
   ]
  },
  {
   "cell_type": "code",
   "execution_count": 15,
   "metadata": {},
   "outputs": [
    {
     "name": "stdout",
     "output_type": "stream",
     "text": [
      "Lavanderia UPS\n",
      "Llega vehiculo: Vehiculo-1 a la hora 0.00.\n",
      "Llega vehiculo: Vehiculo-2 a la hora 0.00.\n",
      "Llega vehiculo: Vehiculo-3 a la hora 0.00.\n",
      "Llega vehiculo: Vehiculo-4 a la hora 0.00.\n",
      "Llega vehiculo: Vehiculo-5 a la hora 0.00.\n",
      "Entra vehiculo a lavarse: Vehiculo-1 a la hora 0.00.\n",
      "Entra vehiculo a lavarse: Vehiculo-2 a la hora 0.00.\n",
      "Entra vehiculo a lavarse: Vehiculo-3 a la hora 0.00.\n",
      "Llega vehiculo: Vehiculo-6 a la hora 2.00.\n",
      "Removido  {76%} suciedad vehiculo => Vehiculo-3 \n",
      "Llega vehiculo: Vehiculo-7 a la hora 7.00.\n",
      "Vehiculo [Vehiculo-3] lavado a las 7.00.\n",
      "Entra vehiculo a lavarse: Vehiculo-4 a la hora 7.00.\n",
      "Llega vehiculo: Vehiculo-8 a la hora 10.00.\n",
      "Llega vehiculo: Vehiculo-9 a la hora 11.00.\n",
      "Removido  {65%} suciedad vehiculo => Vehiculo-1 \n",
      "Removido  {75%} suciedad vehiculo => Vehiculo-2 \n",
      "Vehiculo [Vehiculo-1] lavado a las 12.00.\n",
      "Vehiculo [Vehiculo-2] lavado a las 12.00.\n",
      "Entra vehiculo a lavarse: Vehiculo-5 a la hora 12.00.\n",
      "Entra vehiculo a lavarse: Vehiculo-6 a la hora 12.00.\n",
      "Removido  {41%} suciedad vehiculo => Vehiculo-4 \n",
      "Llega vehiculo: Vehiculo-10 a la hora 15.00.\n",
      "Vehiculo [Vehiculo-4] lavado a las 15.00.\n",
      "Entra vehiculo a lavarse: Vehiculo-7 a la hora 15.00.\n",
      "Removido  {87%} suciedad vehiculo => Vehiculo-6 \n",
      "Vehiculo [Vehiculo-6] lavado a las 17.00.\n",
      "Entra vehiculo a lavarse: Vehiculo-8 a la hora 17.00.\n",
      "Llega vehiculo: Vehiculo-11 a la hora 19.00.\n",
      "Llega vehiculo: Vehiculo-12 a la hora 19.00.\n",
      "Removido  {37%} suciedad vehiculo => Vehiculo-5 \n",
      "Vehiculo [Vehiculo-5] lavado a las 21.00.\n",
      "Entra vehiculo a lavarse: Vehiculo-9 a la hora 21.00.\n",
      "Llega vehiculo: Vehiculo-13 a la hora 22.00.\n",
      "Llega vehiculo: Vehiculo-14 a la hora 23.00.\n",
      "Removido  {89%} suciedad vehiculo => Vehiculo-7 \n",
      "Vehiculo [Vehiculo-7] lavado a las 25.00.\n",
      "Entra vehiculo a lavarse: Vehiculo-10 a la hora 25.00.\n",
      "Diccionario timepo :\n",
      "{'Vehiculo-3': 7, 'Vehiculo-1': 12, 'Vehiculo-2': 12, 'Vehiculo-4': 15, 'Vehiculo-6': 17, 'Vehiculo-5': 21, 'Vehiculo-7': 25}\n"
     ]
    }
   ],
   "source": [
    "import simpy\n",
    "import random\n",
    "import matplotlib.pyplot as pp\n",
    "\n",
    "%matplotlib inline\n",
    "\n",
    "# Maximo de vehiculos que puede recibir el negocio\n",
    "MAX_VEHICULOS = 57\n",
    "# Total de maquinas de lavado con que cuenta el negocio\n",
    "NUM_MAQUINAS = 3\n",
    "# Tiempo que tarda en lavarse un vehiculo (minutos)\n",
    "TIEMPO_LAVADO = 10 \n",
    "# Intervalo de tiempo en que llegan vehiculos (minutos)\n",
    "INTERVALO_LLEGADA = 3\n",
    "# Tiempo de simulación\n",
    "TIEMPO_SIMULACION = 27\n",
    "\n",
    "# Creamos un diccionario para almacenar las horas en que se lavan los vehiculos\n",
    "tiempo={}\n",
    "\n",
    "class Lavanderia(object):\n",
    "    \n",
    "    def __init__(self, environment, num_maquinas, tiempo_lavado):\n",
    "        # Guardamos como variable el entorno de ejecucion\n",
    "        self.env=environment\n",
    "        # Creamos el recurso que representa las maquinas\n",
    "        self.maquinas = simpy.Resource(environment, num_maquinas)\n",
    "        # Variable para el tiempo de lavado\n",
    "        self.tiempo_lavado = tiempo_lavado\n",
    "        \n",
    "    def lavar_vehiculo(self, vehiculo):\n",
    "        # Este metodo representa el proceso de lavado del vehículo.\n",
    "        # Se ingresa el vehículo y se lava\n",
    "        \n",
    "        # Simulamos el tiempo que tarda en lavarse el vehiculo\n",
    "        # Es importante notar que la instruccion \"yield\" es distinta de \"sleep\"\n",
    "        # ya que esta ultima bloquea el hilo de ejecucion durante 't' unidades de tiempo,\n",
    "        # mientras que 'yield' no bloquea el hilo de ejecucion, solo lo suspende mientras\n",
    "        # el evento de 'lavado' se realice\n",
    "        yield self.env.timeout(random.randint(TIEMPO_LAVADO-5, TIEMPO_LAVADO+5))\n",
    "        \n",
    "        # Simulamos que se ha limpiado parte (%) de la suciedad del vehiculo\n",
    "        # Para el % generamos un entero entre 30 y 90\n",
    "        print('Removido  {%d%%} suciedad vehiculo => %s ' % (random.randint(30,90), vehiculo))\n",
    "        \n",
    "    \n",
    "def llegada_vehiculo(env, nombre, lavanderia):\n",
    "    # Usamos el reloj de la simulacion (env.now()) para indicar a la\n",
    "    # hora que llega el vehiculo con el nombre pasado como parametro\n",
    "    print('Llega vehiculo: %s a la hora %.2f.' % (nombre, env.now))\n",
    "    \n",
    "    # Especificamos que vamos a usar un recurso (Resource) que representa\n",
    "    # la maquina de lavado\n",
    "    with lavanderia.maquinas.request() as maquina:\n",
    "        # Ocupamos la maquina de lavado\n",
    "        yield maquina\n",
    "        # Indicamos que vehiculo entra a la lavanderia\n",
    "        print('Entra vehiculo a lavarse: %s a la hora %.2f.' % (nombre, env.now))\n",
    "        # Procesamos la operacion de lavado\n",
    "        yield env.process(lavanderia.lavar_vehiculo(nombre))\n",
    "        # Una vez que termina la llamada con 'yield', se indica que se ha lavado el vehiculo\n",
    "        print('Vehiculo [%s] lavado a las %.2f.' % (nombre, env.now))\n",
    "\n",
    "       \n",
    "        tiempo[nombre]=env.now\n",
    "        \n",
    "    \n",
    "def ejecutar_simulacion(env, num_maquinas, tiempo_lavado, intervalo):\n",
    "    lavanderia=Lavanderia(env, num_maquinas, tiempo_lavado)\n",
    "    # Creamos 5 llegadas de vehiculos iniciales\n",
    "    for i in range(5):\n",
    "        env.process(llegada_vehiculo(env, 'Vehiculo-%d'%(i+1),lavanderia))\n",
    "    \n",
    "    # Ejecutamos la simulacion\n",
    "    while True:\n",
    "        yield env.timeout(random.randint(intervalo-3, intervalo+3))\n",
    "        i+=1\n",
    "        # Mientras se lavan los vehiculos generamos mas vehiculos\n",
    "        env.process(llegada_vehiculo(env,'Vehiculo-%d'%(i+1),lavanderia))\n",
    "\n",
    "print('Lavanderia UPS')\n",
    "\n",
    "# Creamos el entorno de simulacion\n",
    "env=simpy.Environment()\n",
    "env.process(ejecutar_simulacion(env, NUM_MAQUINAS, TIEMPO_LAVADO, INTERVALO_LLEGADA))\n",
    "\n",
    "# Ejecutamos el proceso durante el tiempo de simulacion\n",
    "env.run(until = TIEMPO_SIMULACION)\n",
    "\n",
    "\n",
    "print(\"Diccionario timepo :\")\n",
    "print(tiempo)\n"
   ]
  },
  {
   "cell_type": "code",
   "execution_count": 16,
   "metadata": {},
   "outputs": [
    {
     "data": {
      "image/png": "[encoded data removed]",
      "text/plain": [
       "<Figure size 432x288 with 1 Axes>"
      ]
     },
     "metadata": {
      "needs_background": "light"
     },
     "output_type": "display_data"
    }
   ],
   "source": [
    "# Generamos la grafica\n",
    "datos=sorted(tiempo.items()) # Ordenamos los datos\n",
    "x, y =zip(*datos) # Obtener x(tiempo - clave) y el y(Numero de vehiculos atendidos - valor)\n",
    "pp.plot(x,y,linewidth=2,color='red') #Dibujamos las lineas\n",
    "pp.scatter(x,y,color='blue') # Dibujamos los puntos (x,y)\n",
    "pp.title(\"Vehiculos Atenndidos X Tiempo\")\n",
    "pp.grid(True) #Generamos una cuadricula\n",
    "pp.show() #Mostramos el grafico"
   ]
  },
  {
   "cell_type": "markdown",
   "metadata": {},
   "source": [
    "## Paremetrizando la simulacion\n",
    "\n",
    "* Considerar 3 tipos de vehículos con 3 diferentes tiempos de lavado:\n",
    "    * Bus: 20 minutos\n",
    "    * Automóvil: 7 minutos\n",
    "    * Furgoneta: 12 minutos\n",
    "* Considere que a partir de la entrada del vehículo para ser lavado, deberán tomarse en cuenta los siguientes tiempos correspondientes al proceso de traslado desde la recepción a la máquina de lavado:\n",
    "    * Bus: 4 minutos\n",
    "    * Automóvil: 1 minuto\n",
    "    * Furgoneta: 2 minutos\n",
    "* Realice una gráfica de la simulación con 3 máquinas de lavado"
   ]
  },
  {
   "cell_type": "code",
   "execution_count": null,
   "metadata": {},
   "outputs": [],
   "source": [
    "import simpy\n",
    "import random\n",
    "import matplotlib.pyplot as pp\n",
    "\n",
    "# Maximo de vehiculos que puede recibir el negocio\n",
    "MAX_VEHICULOS = 57 \n",
    "# Total de maquinas de lavado con que cuenta el negocio\n",
    "NUM_MAQUINAS = 3\n",
    "# Tiempo que tarda en trasladarse un vehiculo (minutos)\n",
    "TRASLADO_BUS = 4\n",
    "TRASLADO_AUTOMOVIL= 1\n",
    "TRASLADO_FURGONETA= 2\n",
    "# Tiempo que tarda en lavarse un vehiculo (minutos)\n",
    "TIEMPO_BUS = 20\n",
    "TIEMPO_AUTOMOVIL= 7\n",
    "TIEMPO_FURGONETA= 12\n",
    "# Intervalo de tiempo en que llegan vehiculos (minutos)\n",
    "INTERVALO_LLEGADA = 10\n",
    "# Tiempo de simulación\n",
    "TIEMPO_SIMULACION = 100\n",
    "\n",
    "# Creamos un diccionario para almacenar las horas en que se lavan los vehiculos\n",
    "tiempo={}\n",
    "\n",
    "class Lavanderia(object):\n",
    "    \n",
    "    def __init__(self, environment, num_maquinas,tiempo_bus,tiempo_automovil,\n",
    "                 tiempo_furgoneta,traslado_bus,traslado_automovil,traslado_furgoneta):\n",
    "        # Guardamos como variable el entorno de ejecucion\n",
    "        self.env=environment\n",
    "        # Creamos el recurso que representa las maquinas\n",
    "        self.maquinas = simpy.Resource(environment, num_maquinas)\n",
    "        # Variable para el tiempo de lavado\n",
    "        self.tiempo_bus = tiempo_bus\n",
    "        self.tiempo_automovil = tiempo_automovil\n",
    "        self.tiempo_furgoneta = tiempo_furgoneta\n",
    "        self.traslado_bus = traslado_bus\n",
    "        self.traslado_automovil = traslado_automovil\n",
    "        self.traslado_furgoneta = traslado_furgoneta\n",
    "        \n",
    "    def lavar_vehiculo(self, vehiculo):\n",
    "        automotor=vehiculo.split('-')\n",
    "        if(automotor[0] == 'Bus'):\n",
    "            yield self.env.timeout(TIEMPO_BUS)\n",
    "        if(automotor[0] == 'Automovil'):\n",
    "            yield self.env.timeout(TIEMPO_AUTOMOVIL)\n",
    "        if(automotor[0] == 'Furgoneta'):\n",
    "            yield self.env.timeout(TIEMPO_FURGONETA)\n",
    "        #Solo agregamos al diccionario al momento que termina de lavar el vehiculo.\n",
    "        k=automotor[0]\n",
    "        if k in tiempo:\n",
    "            tiempo[k]=tiempo[k]+1\n",
    "        else:\n",
    "            tiempo[k]=1\n",
    "            \n",
    "        # Simulamos que se ha limpiado parte (%) de la suciedad del vehiculo\n",
    "        # Para el % generamos un entero entre 30 y 90\n",
    "        print('Removido  {%d%%} suciedad vehiculo => %s ' %(random.randint(30,90), vehiculo))\n",
    "        \n",
    "    def trasladar_vehiculo(self, vehiculo):\n",
    "        automotor=vehiculo.split('-')\n",
    "        if(automotor[0] == 'Bus'):\n",
    "            yield self.env.timeout(TRASLADO_BUS)\n",
    "        if(automotor[0] == 'Automovil'):\n",
    "            yield self.env.timeout(TRASLADO_AUTOMOVIL)\n",
    "        if(automotor[0] == 'Furgoneta'):\n",
    "            yield self.env.timeout(TRASLADO_FURGONETA)\n",
    "       \n",
    "    \n",
    "def llegada_vehiculo(env, nombre, lavanderia):\n",
    "    # Usamos el reloj de la simulacion (env.now()) para indicar a la\n",
    "    # hora que llega el vehiculo con el nombre pasado como parametro\n",
    "    print('Llega vehiculo: %s a la hora %.2f.' % (nombre, env.now))\n",
    "    \n",
    "    # Especificamos que vamos a usar un recurso (Resource) que representa\n",
    "    # la maquina de lavado\n",
    "    with lavanderia.maquinas.request() as maquina:\n",
    "        # Ocupamos la maquina de lavado\n",
    "        yield maquina\n",
    "        #Indicamos que el vehiculo se esta trasladando para ser lavado\n",
    "        print('Se traslada vehiculo: %s a la hora %.2f.' % (nombre,env.now))\n",
    "        #Procesamos el traslado del vehiculo\n",
    "        yield env.process(lavanderia.trasladar_vehiculo(nombre))\n",
    "        # Indicamos que vehiculo entra a la lavanderia\n",
    "        print('Entra vehiculo a lavarse: %s a la hora %.2f.' % (nombre, env.now))\n",
    "        # Procesamos la operacion de lavado\n",
    "        yield env.process(lavanderia.lavar_vehiculo(nombre))\n",
    "        # Una vez que termina la llamada con 'yield', se indica que se ha lavado el vehiculo\n",
    "        print('Vehiculo [%s] lavado a las %.2f.' % (nombre, env.now))  \n",
    "        \n",
    "def ejecutar_simulacion(env, num_maquinas, tiempo_bus,tiempo_automovil,\n",
    "                        tiempo_furgoneta,traslado_bus,traslado_automovil,\n",
    "                        traslado_furgoneta, intervalo):\n",
    "    lavanderia=Lavanderia(env, num_maquinas, tiempo_bus,tiempo_automovil,\n",
    "                          tiempo_furgoneta,traslado_bus,traslado_automovil,\n",
    "                          traslado_furgoneta)\n",
    "    # Creamos 5 llegadas de vehiculos iniciales\n",
    "    for i in range(2):\n",
    "        env.process(llegada_vehiculo(env, 'Bus-%d'%(i+1),lavanderia))\n",
    "        env.process(llegada_vehiculo(env, 'Automovil-%d'%(i+1),lavanderia))\n",
    "        env.process(llegada_vehiculo(env, 'Furgoneta-%d'%(i+1),lavanderia))\n",
    "        \n",
    "    # Ejecutamos la simulacion\n",
    "    while True:\n",
    "        yield env.timeout(random.randint(intervalo-3, intervalo+3))\n",
    "        i+=1\n",
    "        # Mientras se lavan los vehiculos generamos mas vehiculos\n",
    "        rnd = random.randint(1,100)\n",
    "        if rnd <= 20: # Bus 20%, Furgoneta 30% y Automovil 50%\n",
    "            env.process(llegada_vehiculo(env,'Bus-%d'%(i+1),lavanderia))\n",
    "        elif rnd <= 50:\n",
    "            env.process(llegada_vehiculo(env,'Furgoneta-%d'%(i+1),lavanderia))\n",
    "        else:\n",
    "            env.process(llegada_vehiculo(env,'Automovil-%d'%(i+1),lavanderia))\n",
    "\n",
    "print('Lavanderia UPS')\n",
    "\n",
    "# Creamos el entorno de simulacion\n",
    "env=simpy.Environment()\n",
    "env.process(ejecutar_simulacion(env, NUM_MAQUINAS, TIEMPO_BUS,TIEMPO_AUTOMOVIL,\n",
    "                                TIEMPO_FURGONETA,TRASLADO_BUS,TRASLADO_AUTOMOVIL,\n",
    "                                TRASLADO_FURGONETA, INTERVALO_LLEGADA))\n",
    "# Ejecutamos el proceso durante el tiempo de simulacion\n",
    "env.run(until = TIEMPO_SIMULACION)\n",
    "\n",
    "# Generamos la grafica\n",
    "datos=sorted(tiempo.items())\n",
    "x, y =zip(*datos)\n",
    "pp.plot(x,y,linewidth=2,color='red')\n",
    "pp.scatter(x,y,color='blue')\n",
    "pp.grid(True)\n",
    "pp.show()"
   ]
  },
  {
   "cell_type": "markdown",
   "metadata": {},
   "source": [
    "## Práctica  Sympy 2\n",
    "<h2><center> PAIS ALBANIA </center></h2>\n",
    "En base a la simulacion, generar una simulacion lo mas apegado a la realidad del Covid-19, para ello obtener informacion del numero de consultorios y camas disponibles en un hospital del Pais de Albania. Parametrizar la simulacion para ingresar el numero de pacientes, el numero de consultorios y el numero de camas y algun otro parametro que considere oportuno.\n",
    "\n",
    "Finalmente generar las siguientes metricas :\n",
    "- Tiempo de espera promedio para cada sala.\n",
    "- Tiempo promedio total que requiere un paciente para ser atendido desde cero.\n",
    "- Cuántos pacientes se atendieron.\n",
    "- Cuántos pacientes se quedaron sin atender y fallecieron.\n",
    "\n",
    "https://github.com/CSSEGISandData/COVID-19"
   ]
  },
  {
   "cell_type": "code",
   "execution_count": 1,
   "metadata": {},
   "outputs": [],
   "source": [
    "import simpy\n",
    "import random\n",
    "import matplotlib.pyplot as pp\n",
    "import numpy as np\n",
    "from time import sleep\n",
    "from progress.bar import Bar\n",
    "%matplotlib inline\n",
    "from tqdm.notebook import trange, tqdm\n",
    "from time import sleep"
   ]
  },
  {
   "cell_type": "code",
   "execution_count": 10,
   "metadata": {
    "scrolled": false
   },
   "outputs": [
    {
     "name": "stdout",
     "output_type": "stream",
     "text": [
      "Inicio Simulacion Covid-19 Albania\n",
      "ESCRIBA VALOR DE CRECIMIENTO: 14\n",
      "Llega un paciente nuevo:  0 Madre Tereza denominado Hospital COVID 1\n",
      "Llega un paciente nuevo:  1 Madre Tereza denominado Hospital COVID 1\n",
      "Llega un paciente nuevo:  2 Madre Tereza denominado Hospital COVID 1\n",
      "Llega un paciente nuevo:  3 Madre Tereza denominado Hospital COVID 1\n",
      "Llega un paciente nuevo:  4 Madre Tereza denominado Hospital COVID 1\n",
      "Llega un paciente nuevo:  5 Madre Tereza denominado Hospital COVID 1\n",
      "Llega un paciente nuevo:  6 Madre Tereza denominado Hospital COVID 1\n",
      "Llega un paciente nuevo:  7 Madre Tereza denominado Hospital COVID 1\n",
      "Llega un paciente nuevo:  8 Madre Tereza denominado Hospital COVID 1\n",
      "Llega un paciente nuevo:  9 Madre Tereza denominado Hospital COVID 1\n",
      "Llega un paciente nuevo:  10 Madre Tereza denominado Hospital COVID 1\n",
      "Llega un paciente nuevo:  11 Madre Tereza denominado Hospital COVID 1\n",
      "Llega un paciente nuevo:  12 Madre Tereza denominado Hospital COVID 1\n",
      "Llega un paciente nuevo:  13 Madre Tereza denominado Hospital COVID 1\n",
      "Llega un paciente nuevo:  14 Madre Tereza denominado Hospital COVID 1\n",
      "Llega un paciente nuevo:  15 Madre Tereza denominado Hospital COVID 1\n",
      "Llega un paciente nuevo:  16 Madre Tereza denominado Hospital COVID 1\n",
      "Llega un paciente nuevo:  17 Madre Tereza denominado Hospital COVID 1\n",
      "Llega un paciente nuevo:  18 Madre Tereza denominado Hospital COVID 1\n",
      "Llega un paciente nuevo:  19 Madre Tereza denominado Hospital COVID 1\n",
      "Llega un paciente nuevo:  20 Madre Tereza denominado Hospital COVID 1\n",
      "Llega un paciente nuevo:  21 Madre Tereza denominado Hospital COVID 1\n",
      "Llega un paciente nuevo:  22 Madre Tereza denominado Hospital COVID 1\n",
      "Llega un paciente nuevo:  23 Madre Tereza denominado Hospital COVID 1\n",
      "Llega un paciente nuevo:  24 Madre Tereza denominado Hospital COVID 1\n",
      "Llega un paciente nuevo:  25 Madre Tereza denominado Hospital COVID 1\n",
      "Llega un paciente nuevo:  26 Madre Tereza denominado Hospital COVID 1\n",
      "Llega un paciente nuevo:  27 Madre Tereza denominado Hospital COVID 1\n",
      "Llega un paciente nuevo:  28 Madre Tereza denominado Hospital COVID 1\n",
      "Llega un paciente nuevo:  29 Madre Tereza denominado Hospital COVID 1\n",
      "Llega un paciente nuevo:  30 Madre Tereza denominado Hospital COVID 1\n",
      "Llega un paciente nuevo:  31 Madre Tereza denominado Hospital COVID 1\n",
      "Llega un paciente nuevo:  32 Madre Tereza denominado Hospital COVID 1\n",
      "Llega un paciente nuevo:  33 Madre Tereza denominado Hospital COVID 1\n",
      "Llega un paciente nuevo:  34 Madre Tereza denominado Hospital COVID 1\n",
      "Llega un paciente nuevo:  35 Madre Tereza denominado Hospital COVID 1\n",
      "Llega un paciente nuevo:  36 Madre Tereza denominado Hospital COVID 1\n",
      "Llega un paciente nuevo:  37 Madre Tereza denominado Hospital COVID 1\n",
      "Llega un paciente nuevo:  38 Madre Tereza denominado Hospital COVID 1\n",
      "Llega un paciente nuevo:  39 Madre Tereza denominado Hospital COVID 1\n",
      "Llega un paciente nuevo:  40 Madre Tereza denominado Hospital COVID 1\n",
      "Llega un paciente nuevo:  41 Madre Tereza denominado Hospital COVID 1\n",
      "Llega un paciente nuevo:  42 Madre Tereza denominado Hospital COVID 1\n",
      "Llega un paciente nuevo:  43 Madre Tereza denominado Hospital COVID 1\n",
      "Llega un paciente nuevo:  44 Madre Tereza denominado Hospital COVID 1\n",
      "Llega un paciente nuevo:  45 Madre Tereza denominado Hospital COVID 1\n",
      "Llega un paciente nuevo:  46 Madre Tereza denominado Hospital COVID 1\n",
      "Llega un paciente nuevo:  47 Madre Tereza denominado Hospital COVID 1\n",
      "Llega un paciente nuevo:  48 Madre Tereza denominado Hospital COVID 1\n",
      "Llega un paciente nuevo:  49 Madre Tereza denominado Hospital COVID 1\n",
      "Llega un paciente nuevo:  50 Madre Tereza denominado Hospital COVID 1\n",
      "Llega un paciente nuevo:  51 Madre Tereza denominado Hospital COVID 1\n",
      "Llega un paciente nuevo:  52 Madre Tereza denominado Hospital COVID 1\n",
      "Llega un paciente nuevo:  53 Madre Tereza denominado Hospital COVID 1\n",
      "Llega un paciente nuevo:  54 Madre Tereza denominado Hospital COVID 1\n",
      "Llega un paciente nuevo:  55 Madre Tereza denominado Hospital COVID 1\n",
      "Llega un paciente nuevo:  56 Madre Tereza denominado Hospital COVID 1\n",
      "Llega un paciente nuevo:  57 Madre Tereza denominado Hospital COVID 1\n",
      "Llega un paciente nuevo:  58 Madre Tereza denominado Hospital COVID 1\n",
      "Llega un paciente nuevo:  59 Madre Tereza denominado Hospital COVID 1\n",
      "Llega un paciente nuevo:  60 Madre Tereza denominado Hospital COVID 1\n",
      "Llega un paciente nuevo:  61 Madre Tereza denominado Hospital COVID 1\n",
      "Llega un paciente nuevo:  62 Madre Tereza denominado Hospital COVID 1\n",
      "Llega un paciente nuevo:  63 Madre Tereza denominado Hospital COVID 1\n",
      "Llega un paciente nuevo:  64 Madre Tereza denominado Hospital COVID 1\n",
      "Llega un paciente nuevo:  65 Madre Tereza denominado Hospital COVID 1\n",
      "Llega un paciente nuevo:  66 Madre Tereza denominado Hospital COVID 1\n",
      "Llega un paciente nuevo:  67 Madre Tereza denominado Hospital COVID 1\n",
      "Llega un paciente nuevo:  68 Madre Tereza denominado Hospital COVID 1\n",
      "Llega un paciente nuevo:  69 Madre Tereza denominado Hospital COVID 1\n",
      "Llega un paciente nuevo:  70 Madre Tereza denominado Hospital COVID 1\n",
      "Llega un paciente nuevo:  71 Madre Tereza denominado Hospital COVID 1\n",
      "Llega un paciente nuevo:  72 Madre Tereza denominado Hospital COVID 1\n",
      "Llega un paciente nuevo:  73 Madre Tereza denominado Hospital COVID 1\n",
      "Llega un paciente nuevo:  74 Madre Tereza denominado Hospital COVID 1\n",
      "Llega un paciente nuevo:  75 Madre Tereza denominado Hospital COVID 1\n",
      "Llega un paciente nuevo:  76 Madre Tereza denominado Hospital COVID 1\n",
      "Llega un paciente nuevo:  77 Madre Tereza denominado Hospital COVID 1\n",
      "Llega un paciente nuevo:  78 Madre Tereza denominado Hospital COVID 1\n",
      "Llega un paciente nuevo:  79 Madre Tereza denominado Hospital COVID 1\n",
      "Llega un paciente nuevo:  80 Madre Tereza denominado Hospital COVID 1\n",
      "Llega un paciente nuevo:  81 Madre Tereza denominado Hospital COVID 1\n",
      "Llega un paciente nuevo:  82 Madre Tereza denominado Hospital COVID 1\n",
      "Llega un paciente nuevo:  83 Madre Tereza denominado Hospital COVID 1\n",
      "Llega un paciente nuevo:  84 Madre Tereza denominado Hospital COVID 1\n",
      "Al paciente:  0 Se le ubica en una sala con cama.\n",
      "Al paciente:  1 Se le ubica en una sala con cama.\n",
      "Al paciente:  2 Se le ubica en una sala con cama.\n",
      "Al paciente:  3 Se le ubica en una sala con cama.\n",
      "Al paciente:  4 Se le ubica en una sala con cama.\n",
      "Al paciente:  5 Se le ubica en una sala con cama.\n",
      "Al paciente:  6 Se le ubica en una sala con cama.\n",
      "Al paciente:  7 Se le ubica en una sala con cama.\n",
      "Al paciente:  8 Se le ubica en una sala con cama.\n",
      "Al paciente:  9 Se le ubica en una sala con cama.\n",
      "Al paciente:  10 Se le ubica en una sala con cama.\n",
      "Al paciente:  11 Se le ubica en una sala con cama.\n",
      "Al paciente:  12 Se le ubica en una sala con cama.\n",
      "Al paciente:  13 Se le ubica en una sala con cama.\n",
      "Al paciente:  14 Se le ubica en una sala con cama.\n",
      "Al paciente:  15 Se le ubica en una sala con cama.\n",
      "Al paciente:  16 Se le ubica en una sala con cama.\n",
      "Al paciente:  17 Se le ubica en una sala con cama.\n",
      "Al paciente:  18 Se le ubica en una sala con cama.\n",
      "Al paciente:  19 Se le ubica en una sala con cama.\n",
      "Llega un paciente nuevo:  86 Madre Tereza denominado Hospital COVID 1\n",
      "Llega un paciente nuevo:  87 Madre Tereza denominado Hospital COVID 1\n",
      "Llega un paciente nuevo:  88 Madre Tereza denominado Hospital COVID 1\n",
      "Llega un paciente nuevo:  89 Madre Tereza denominado Hospital COVID 1\n",
      "Llega un paciente nuevo:  90 Madre Tereza denominado Hospital COVID 1\n",
      "Llega un paciente nuevo:  91 Madre Tereza denominado Hospital COVID 1\n",
      "Llega un paciente nuevo:  92 Madre Tereza denominado Hospital COVID 1\n",
      "Llega un paciente nuevo:  93 Madre Tereza denominado Hospital COVID 1\n",
      "Llega un paciente nuevo:  94 Madre Tereza denominado Hospital COVID 1\n",
      "Llega un paciente nuevo:  95 Madre Tereza denominado Hospital COVID 1\n",
      "Llega un paciente nuevo:  96 Madre Tereza denominado Hospital COVID 1\n",
      "Llega un paciente nuevo:  97 Madre Tereza denominado Hospital COVID 1\n",
      "Llega un paciente nuevo:  98 Madre Tereza denominado Hospital COVID 1\n",
      "Llega un paciente nuevo:  99 Madre Tereza denominado Hospital COVID 1\n",
      "El paciente  21 espero  1  dias y fallece porque no fue atendido\n",
      "El paciente  28 espero  1  dias y fallece porque no fue atendido\n",
      "El paciente  29 espero  1  dias y fallece porque no fue atendido\n",
      "El paciente  30 espero  1  dias y fallece porque no fue atendido\n",
      "El paciente  32 espero  1  dias y fallece porque no fue atendido\n",
      "El paciente  35 espero  1  dias y fallece porque no fue atendido\n",
      "El paciente  36 espero  1  dias y fallece porque no fue atendido\n",
      "El paciente  39 espero  1  dias y fallece porque no fue atendido\n",
      "El paciente  41 espero  1  dias y fallece porque no fue atendido\n",
      "El paciente  46 espero  1  dias y fallece porque no fue atendido\n",
      "El paciente  47 espero  1  dias y fallece porque no fue atendido\n",
      "El paciente  48 espero  1  dias y fallece porque no fue atendido\n",
      "El paciente  50 espero  1  dias y fallece porque no fue atendido\n",
      "El paciente  51 espero  1  dias y fallece porque no fue atendido\n",
      "El paciente  52 espero  1  dias y fallece porque no fue atendido\n",
      "El paciente  57 espero  1  dias y fallece porque no fue atendido\n",
      "El paciente  63 espero  1  dias y fallece porque no fue atendido\n",
      "El paciente  66 espero  1  dias y fallece porque no fue atendido\n",
      "El paciente  68 espero  1  dias y fallece porque no fue atendido\n",
      "El paciente  69 espero  1  dias y fallece porque no fue atendido\n",
      "El paciente  72 espero  1  dias y fallece porque no fue atendido\n",
      "El paciente  76 espero  1  dias y fallece porque no fue atendido\n",
      "El paciente  78 espero  1  dias y fallece porque no fue atendido\n",
      "El paciente  80 espero  1  dias y fallece porque no fue atendido\n",
      "El paciente  81 espero  1  dias y fallece porque no fue atendido\n",
      "Llega un paciente nuevo:  100 Madre Tereza denominado Hospital COVID 1\n",
      "Llega un paciente nuevo:  101 Madre Tereza denominado Hospital COVID 1\n",
      "Llega un paciente nuevo:  102 Madre Tereza denominado Hospital COVID 1\n",
      "Llega un paciente nuevo:  103 Madre Tereza denominado Hospital COVID 1\n",
      "Llega un paciente nuevo:  104 Madre Tereza denominado Hospital COVID 1\n",
      "Llega un paciente nuevo:  105 Madre Tereza denominado Hospital COVID 1\n",
      "Llega un paciente nuevo:  106 Madre Tereza denominado Hospital COVID 1\n",
      "Llega un paciente nuevo:  107 Madre Tereza denominado Hospital COVID 1\n",
      "Llega un paciente nuevo:  108 Madre Tereza denominado Hospital COVID 1\n",
      "Llega un paciente nuevo:  109 Madre Tereza denominado Hospital COVID 1\n",
      "Llega un paciente nuevo:  110 Madre Tereza denominado Hospital COVID 1\n",
      "Llega un paciente nuevo:  111 Madre Tereza denominado Hospital COVID 1\n",
      "Llega un paciente nuevo:  112 Madre Tereza denominado Hospital COVID 1\n",
      "Llega un paciente nuevo:  113 Madre Tereza denominado Hospital COVID 1\n",
      "El paciente  20 espero  2  dias y fallece porque no fue atendido\n",
      "El paciente  26 espero  2  dias y fallece porque no fue atendido\n",
      "El paciente  37 espero  2  dias y fallece porque no fue atendido\n",
      "El paciente  40 espero  2  dias y fallece porque no fue atendido\n",
      "El paciente  42 espero  2  dias y fallece porque no fue atendido\n",
      "El paciente  43 espero  2  dias y fallece porque no fue atendido\n",
      "El paciente  45 espero  2  dias y fallece porque no fue atendido\n",
      "El paciente  54 espero  2  dias y fallece porque no fue atendido\n",
      "El paciente  55 espero  2  dias y fallece porque no fue atendido\n",
      "El paciente  59 espero  2  dias y fallece porque no fue atendido\n",
      "El paciente  60 espero  2  dias y fallece porque no fue atendido\n",
      "El paciente  61 espero  2  dias y fallece porque no fue atendido\n",
      "El paciente  62 espero  2  dias y fallece porque no fue atendido\n",
      "El paciente  64 espero  2  dias y fallece porque no fue atendido\n",
      "El paciente  65 espero  2  dias y fallece porque no fue atendido\n",
      "El paciente  71 espero  2  dias y fallece porque no fue atendido\n",
      "El paciente  74 espero  2  dias y fallece porque no fue atendido\n",
      "El paciente  82 espero  2  dias y fallece porque no fue atendido\n",
      "El paciente  83 espero  2  dias y fallece porque no fue atendido\n",
      "El paciente  87 espero  1  dias y fallece porque no fue atendido\n",
      "El paciente  88 espero  1  dias y fallece porque no fue atendido\n",
      "El paciente  91 espero  1  dias y fallece porque no fue atendido\n",
      "El paciente  93 espero  1  dias y fallece porque no fue atendido\n",
      "El paciente  94 espero  1  dias y fallece porque no fue atendido\n",
      "El paciente  96 espero  1  dias y fallece porque no fue atendido\n",
      "Llega un paciente nuevo:  114 Madre Tereza denominado Hospital COVID 1\n",
      "Llega un paciente nuevo:  115 Madre Tereza denominado Hospital COVID 1\n",
      "Llega un paciente nuevo:  116 Madre Tereza denominado Hospital COVID 1\n",
      "Llega un paciente nuevo:  117 Madre Tereza denominado Hospital COVID 1\n",
      "Llega un paciente nuevo:  118 Madre Tereza denominado Hospital COVID 1\n",
      "Llega un paciente nuevo:  119 Madre Tereza denominado Hospital COVID 1\n",
      "Llega un paciente nuevo:  120 Madre Tereza denominado Hospital COVID 1\n",
      "Llega un paciente nuevo:  121 Madre Tereza denominado Hospital COVID 1\n",
      "Llega un paciente nuevo:  122 Madre Tereza denominado Hospital COVID 1\n",
      "Llega un paciente nuevo:  123 Madre Tereza denominado Hospital COVID 1\n",
      "Llega un paciente nuevo:  124 Madre Tereza denominado Hospital COVID 1\n",
      "Llega un paciente nuevo:  125 Madre Tereza denominado Hospital COVID 1\n",
      "Llega un paciente nuevo:  126 Madre Tereza denominado Hospital COVID 1\n",
      "Llega un paciente nuevo:  127 Madre Tereza denominado Hospital COVID 1\n",
      "El paciente  22 espero  3  dias y fallece porque no fue atendido\n",
      "El paciente  23 espero  3  dias y fallece porque no fue atendido\n",
      "El paciente  24 espero  3  dias y fallece porque no fue atendido\n",
      "El paciente  25 espero  3  dias y fallece porque no fue atendido\n",
      "El paciente  27 espero  3  dias y fallece porque no fue atendido\n",
      "El paciente  31 espero  3  dias y fallece porque no fue atendido\n",
      "El paciente  33 espero  3  dias y fallece porque no fue atendido\n",
      "El paciente  34 espero  3  dias y fallece porque no fue atendido\n",
      "El paciente  38 espero  3  dias y fallece porque no fue atendido\n",
      "El paciente  44 espero  3  dias y fallece porque no fue atendido\n",
      "El paciente  49 espero  3  dias y fallece porque no fue atendido\n",
      "El paciente  53 espero  3  dias y fallece porque no fue atendido\n",
      "El paciente  56 espero  3  dias y fallece porque no fue atendido\n",
      "El paciente  58 espero  3  dias y fallece porque no fue atendido\n",
      "El paciente  67 espero  3  dias y fallece porque no fue atendido\n",
      "El paciente  70 espero  3  dias y fallece porque no fue atendido\n",
      "El paciente  73 espero  3  dias y fallece porque no fue atendido\n",
      "El paciente  75 espero  3  dias y fallece porque no fue atendido\n",
      "El paciente  77 espero  3  dias y fallece porque no fue atendido\n",
      "El paciente  79 espero  3  dias y fallece porque no fue atendido\n",
      "El paciente  84 espero  3  dias y fallece porque no fue atendido\n",
      "El paciente  86 espero  2  dias y fallece porque no fue atendido\n",
      "El paciente  89 espero  2  dias y fallece porque no fue atendido\n",
      "El paciente  92 espero  2  dias y fallece porque no fue atendido\n",
      "El paciente  98 espero  2  dias y fallece porque no fue atendido\n",
      "El paciente  99 espero  2  dias y fallece porque no fue atendido\n",
      "El paciente  101 espero  1  dias y fallece porque no fue atendido\n",
      "El paciente  107 espero  1  dias y fallece porque no fue atendido\n",
      "Llega un paciente nuevo:  128 Madre Tereza denominado Hospital COVID 1\n",
      "Llega un paciente nuevo:  129 Madre Tereza denominado Hospital COVID 1\n",
      "Llega un paciente nuevo:  130 Madre Tereza denominado Hospital COVID 1\n",
      "Llega un paciente nuevo:  131 Madre Tereza denominado Hospital COVID 1\n",
      "Llega un paciente nuevo:  132 Madre Tereza denominado Hospital COVID 1\n",
      "Llega un paciente nuevo:  133 Madre Tereza denominado Hospital COVID 1\n",
      "Llega un paciente nuevo:  134 Madre Tereza denominado Hospital COVID 1\n",
      "Llega un paciente nuevo:  135 Madre Tereza denominado Hospital COVID 1\n",
      "Llega un paciente nuevo:  136 Madre Tereza denominado Hospital COVID 1\n",
      "Llega un paciente nuevo:  137 Madre Tereza denominado Hospital COVID 1\n",
      "Llega un paciente nuevo:  138 Madre Tereza denominado Hospital COVID 1\n",
      "Llega un paciente nuevo:  139 Madre Tereza denominado Hospital COVID 1\n",
      "Llega un paciente nuevo:  140 Madre Tereza denominado Hospital COVID 1\n",
      "Llega un paciente nuevo:  141 Madre Tereza denominado Hospital COVID 1\n",
      "El paciente  90 espero  3  dias y fallece porque no fue atendido\n",
      "El paciente  95 espero  3  dias y fallece porque no fue atendido\n",
      "El paciente  97 espero  3  dias y fallece porque no fue atendido\n",
      "El paciente  100 espero  2  dias y fallece porque no fue atendido\n",
      "El paciente  103 espero  2  dias y fallece porque no fue atendido\n",
      "El paciente  104 espero  2  dias y fallece porque no fue atendido\n",
      "El paciente  105 espero  2  dias y fallece porque no fue atendido\n",
      "El paciente  106 espero  2  dias y fallece porque no fue atendido\n",
      "El paciente  108 espero  2  dias y fallece porque no fue atendido\n",
      "El paciente  110 espero  2  dias y fallece porque no fue atendido\n",
      "El paciente  111 espero  2  dias y fallece porque no fue atendido\n",
      "El paciente  113 espero  2  dias y fallece porque no fue atendido\n",
      "El paciente  115 espero  1  dias y fallece porque no fue atendido\n",
      "El paciente  119 espero  1  dias y fallece porque no fue atendido\n",
      "Llega un paciente nuevo:  142 Madre Tereza denominado Hospital COVID 1\n",
      "Llega un paciente nuevo:  143 Madre Tereza denominado Hospital COVID 1\n",
      "Llega un paciente nuevo:  144 Madre Tereza denominado Hospital COVID 1\n",
      "Llega un paciente nuevo:  145 Madre Tereza denominado Hospital COVID 1\n",
      "Llega un paciente nuevo:  146 Madre Tereza denominado Hospital COVID 1\n",
      "Llega un paciente nuevo:  147 Madre Tereza denominado Hospital COVID 1\n",
      "Llega un paciente nuevo:  148 Madre Tereza denominado Hospital COVID 1\n",
      "Llega un paciente nuevo:  149 Madre Tereza denominado Hospital COVID 1\n",
      "Llega un paciente nuevo:  150 Madre Tereza denominado Hospital COVID 1\n",
      "Llega un paciente nuevo:  151 Madre Tereza denominado Hospital COVID 1\n",
      "Llega un paciente nuevo:  152 Madre Tereza denominado Hospital COVID 1\n",
      "Llega un paciente nuevo:  153 Madre Tereza denominado Hospital COVID 1\n",
      "Llega un paciente nuevo:  154 Madre Tereza denominado Hospital COVID 1\n",
      "Llega un paciente nuevo:  155 Madre Tereza denominado Hospital COVID 1\n",
      "El paciente  102 espero  3  dias y fallece porque no fue atendido\n",
      "El paciente  109 espero  3  dias y fallece porque no fue atendido\n",
      "El paciente  112 espero  3  dias y fallece porque no fue atendido\n",
      "El paciente  116 espero  2  dias y fallece porque no fue atendido\n",
      "El paciente  117 espero  2  dias y fallece porque no fue atendido\n",
      "El paciente  120 espero  2  dias y fallece porque no fue atendido\n",
      "El paciente  123 espero  2  dias y fallece porque no fue atendido\n",
      "El paciente  124 espero  2  dias y fallece porque no fue atendido\n",
      "El paciente  125 espero  2  dias y fallece porque no fue atendido\n",
      "El paciente  127 espero  2  dias y fallece porque no fue atendido\n",
      "El paciente  130 espero  1  dias y fallece porque no fue atendido\n",
      "El paciente  137 espero  1  dias y fallece porque no fue atendido\n",
      "Llega un paciente nuevo:  156 Madre Tereza denominado Hospital COVID 1\n",
      "Llega un paciente nuevo:  157 Madre Tereza denominado Hospital COVID 1\n",
      "Llega un paciente nuevo:  158 Madre Tereza denominado Hospital COVID 1\n",
      "Llega un paciente nuevo:  159 Madre Tereza denominado Hospital COVID 1\n",
      "Llega un paciente nuevo:  160 Madre Tereza denominado Hospital COVID 1\n",
      "Llega un paciente nuevo:  161 Madre Tereza denominado Hospital COVID 1\n",
      "Llega un paciente nuevo:  162 Madre Tereza denominado Hospital COVID 1\n",
      "Llega un paciente nuevo:  163 Madre Tereza denominado Hospital COVID 1\n",
      "Llega un paciente nuevo:  164 Madre Tereza denominado Hospital COVID 1\n",
      "Llega un paciente nuevo:  165 Madre Tereza denominado Hospital COVID 1\n",
      "Llega un paciente nuevo:  166 Madre Tereza denominado Hospital COVID 1\n",
      "Llega un paciente nuevo:  167 Madre Tereza denominado Hospital COVID 1\n",
      "Llega un paciente nuevo:  168 Madre Tereza denominado Hospital COVID 1\n",
      "Llega un paciente nuevo:  169 Madre Tereza denominado Hospital COVID 1\n",
      "El paciente  114 espero  3  dias y fallece porque no fue atendido\n",
      "El paciente  118 espero  3  dias y fallece porque no fue atendido\n",
      "El paciente  121 espero  3  dias y fallece porque no fue atendido\n",
      "El paciente  122 espero  3  dias y fallece porque no fue atendido\n",
      "El paciente  126 espero  3  dias y fallece porque no fue atendido\n",
      "El paciente  128 espero  2  dias y fallece porque no fue atendido\n",
      "El paciente  133 espero  2  dias y fallece porque no fue atendido\n",
      "El paciente  136 espero  2  dias y fallece porque no fue atendido\n",
      "El paciente  140 espero  2  dias y fallece porque no fue atendido\n",
      "El paciente  141 espero  2  dias y fallece porque no fue atendido\n",
      "El paciente  142 espero  1  dias y fallece porque no fue atendido\n",
      "El paciente  144 espero  1  dias y fallece porque no fue atendido\n",
      "El paciente  150 espero  1  dias y fallece porque no fue atendido\n",
      "El paciente  152 espero  1  dias y fallece porque no fue atendido\n",
      "El paciente  154 espero  1  dias y fallece porque no fue atendido\n",
      "El paciente  155 espero  1  dias y fallece porque no fue atendido\n",
      "Llega un paciente nuevo:  170 Madre Tereza denominado Hospital COVID 1\n",
      "Llega un paciente nuevo:  171 Madre Tereza denominado Hospital COVID 1\n",
      "Llega un paciente nuevo:  172 Madre Tereza denominado Hospital COVID 1\n",
      "Llega un paciente nuevo:  173 Madre Tereza denominado Hospital COVID 1\n",
      "Llega un paciente nuevo:  174 Madre Tereza denominado Hospital COVID 1\n",
      "Llega un paciente nuevo:  175 Madre Tereza denominado Hospital COVID 1\n",
      "Llega un paciente nuevo:  176 Madre Tereza denominado Hospital COVID 1\n",
      "Llega un paciente nuevo:  177 Madre Tereza denominado Hospital COVID 1\n",
      "Llega un paciente nuevo:  178 Madre Tereza denominado Hospital COVID 1\n",
      "Llega un paciente nuevo:  179 Madre Tereza denominado Hospital COVID 1\n",
      "Llega un paciente nuevo:  180 Madre Tereza denominado Hospital COVID 1\n",
      "Llega un paciente nuevo:  181 Madre Tereza denominado Hospital COVID 1\n",
      "Llega un paciente nuevo:  182 Madre Tereza denominado Hospital COVID 1\n",
      "Llega un paciente nuevo:  183 Madre Tereza denominado Hospital COVID 1\n",
      "El paciente  129 espero  3  dias y fallece porque no fue atendido\n",
      "El paciente  131 espero  3  dias y fallece porque no fue atendido\n",
      "El paciente  132 espero  3  dias y fallece porque no fue atendido\n",
      "El paciente  134 espero  3  dias y fallece porque no fue atendido\n",
      "El paciente  135 espero  3  dias y fallece porque no fue atendido\n",
      "El paciente  138 espero  3  dias y fallece porque no fue atendido\n",
      "El paciente  139 espero  3  dias y fallece porque no fue atendido\n",
      "El paciente  147 espero  2  dias y fallece porque no fue atendido\n",
      "El paciente  153 espero  2  dias y fallece porque no fue atendido\n",
      "El paciente  160 espero  1  dias y fallece porque no fue atendido\n",
      "El paciente  161 espero  1  dias y fallece porque no fue atendido\n",
      "El paciente  165 espero  1  dias y fallece porque no fue atendido\n",
      "El paciente  166 espero  1  dias y fallece porque no fue atendido\n",
      "El paciente  169 espero  1  dias y fallece porque no fue atendido\n",
      "Llega un paciente nuevo:  184 Madre Tereza denominado Hospital COVID 1\n",
      "Llega un paciente nuevo:  185 Madre Tereza denominado Hospital COVID 1\n",
      "Llega un paciente nuevo:  186 Madre Tereza denominado Hospital COVID 1\n",
      "Llega un paciente nuevo:  187 Madre Tereza denominado Hospital COVID 1\n",
      "Llega un paciente nuevo:  188 Madre Tereza denominado Hospital COVID 1\n",
      "Llega un paciente nuevo:  189 Madre Tereza denominado Hospital COVID 1\n",
      "Llega un paciente nuevo:  190 Madre Tereza denominado Hospital COVID 1\n",
      "Llega un paciente nuevo:  191 Madre Tereza denominado Hospital COVID 1\n",
      "Llega un paciente nuevo:  192 Madre Tereza denominado Hospital COVID 1\n",
      "Llega un paciente nuevo:  193 Madre Tereza denominado Hospital COVID 1\n",
      "Llega un paciente nuevo:  194 Madre Tereza denominado Hospital COVID 1\n",
      "Llega un paciente nuevo:  195 Madre Tereza denominado Hospital COVID 1\n",
      "Llega un paciente nuevo:  196 Madre Tereza denominado Hospital COVID 1\n",
      "Llega un paciente nuevo:  197 Madre Tereza denominado Hospital COVID 1\n",
      "El paciente  143 espero  3  dias y fallece porque no fue atendido\n",
      "El paciente  145 espero  3  dias y fallece porque no fue atendido\n",
      "El paciente  146 espero  3  dias y fallece porque no fue atendido\n",
      "El paciente  148 espero  3  dias y fallece porque no fue atendido\n",
      "El paciente  149 espero  3  dias y fallece porque no fue atendido\n",
      "El paciente  151 espero  3  dias y fallece porque no fue atendido\n",
      "El paciente  156 espero  2  dias y fallece porque no fue atendido\n",
      "El paciente  158 espero  2  dias y fallece porque no fue atendido\n",
      "El paciente  159 espero  2  dias y fallece porque no fue atendido\n",
      "El paciente  178 espero  1  dias y fallece porque no fue atendido\n",
      "El paciente  180 espero  1  dias y fallece porque no fue atendido\n",
      "El paciente  181 espero  1  dias y fallece porque no fue atendido\n",
      "Llega un paciente nuevo:  198 Madre Tereza denominado Hospital COVID 1\n",
      "Llega un paciente nuevo:  199 Madre Tereza denominado Hospital COVID 1\n",
      "Llega un paciente nuevo:  200 Madre Tereza denominado Hospital COVID 1\n",
      "Llega un paciente nuevo:  201 Madre Tereza denominado Hospital COVID 1\n",
      "Llega un paciente nuevo:  202 Madre Tereza denominado Hospital COVID 1\n",
      "Llega un paciente nuevo:  203 Madre Tereza denominado Hospital COVID 1\n",
      "Llega un paciente nuevo:  204 Madre Tereza denominado Hospital COVID 1\n",
      "Llega un paciente nuevo:  205 Madre Tereza denominado Hospital COVID 1\n",
      "Llega un paciente nuevo:  206 Madre Tereza denominado Hospital COVID 1\n",
      "Llega un paciente nuevo:  207 Madre Tereza denominado Hospital COVID 1\n",
      "Llega un paciente nuevo:  208 Madre Tereza denominado Hospital COVID 1\n",
      "Llega un paciente nuevo:  209 Madre Tereza denominado Hospital COVID 1\n",
      "Llega un paciente nuevo:  210 Madre Tereza denominado Hospital COVID 1\n",
      "Llega un paciente nuevo:  211 Madre Tereza denominado Hospital COVID 1\n",
      "El paciente  157 espero  3  dias y fallece porque no fue atendido\n",
      "El paciente  162 espero  3  dias y fallece porque no fue atendido\n",
      "El paciente  163 espero  3  dias y fallece porque no fue atendido\n",
      "El paciente  164 espero  3  dias y fallece porque no fue atendido\n",
      "El paciente  167 espero  3  dias y fallece porque no fue atendido\n",
      "El paciente  168 espero  3  dias y fallece porque no fue atendido\n",
      "El paciente  171 espero  2  dias y fallece porque no fue atendido\n",
      "El paciente  172 espero  2  dias y fallece porque no fue atendido\n",
      "El paciente  173 espero  2  dias y fallece porque no fue atendido\n",
      "El paciente  174 espero  2  dias y fallece porque no fue atendido\n",
      "El paciente  175 espero  2  dias y fallece porque no fue atendido\n",
      "El paciente  176 espero  2  dias y fallece porque no fue atendido\n",
      "El paciente  179 espero  2  dias y fallece porque no fue atendido\n",
      "El paciente  182 espero  2  dias y fallece porque no fue atendido\n",
      "El paciente  183 espero  2  dias y fallece porque no fue atendido\n",
      "El paciente  184 espero  1  dias y fallece porque no fue atendido\n",
      "El paciente  191 espero  1  dias y fallece porque no fue atendido\n",
      "El paciente  195 espero  1  dias y fallece porque no fue atendido\n",
      "El paciente  9  espero 13868 minutos para se atendido\n",
      "Al paciente:  9  se le asigna una cama\n",
      "El paciente  19  espero 13893 minutos para se atendido\n",
      "Al paciente:  19  se le asigna una cama\n",
      "El paciente  0  espero 13959 minutos para se atendido\n",
      "El paciente  0  no tiene COVID-19\n",
      "Al paciente:  170 Se le ubica en una sala con cama.\n",
      "El paciente  1  espero 13987 minutos para se atendido\n",
      "Al paciente:  1  se le asigna una cama\n",
      "El paciente  5  espero 14007 minutos para se atendido\n",
      "Al paciente:  5  se le asigna una cama\n",
      "El paciente  10  espero 14012 minutos para se atendido\n",
      "Al paciente:  10  se le asigna una cama\n",
      "El paciente  3  espero 14051 minutos para se atendido\n",
      "El paciente  3  no tiene COVID-19\n",
      "Al paciente:  177 Se le ubica en una sala con cama.\n",
      "El paciente  16  espero 14245 minutos para se atendido\n",
      "Al paciente:  16  se le asigna una cama\n",
      "El paciente  14  espero 14354 minutos para se atendido\n",
      "El paciente  14  no tiene COVID-19\n",
      "Al paciente:  185 Se le ubica en una sala con cama.\n"
     ]
    },
    {
     "data": {
      "application/vnd.jupyter.widget-view+json": {
       "model_id": "c890c546e9db4a0d9ef03bcfc6b4c4ee",
       "version_major": 2,
       "version_minor": 0
      },
      "text/plain": [
       "HBox(children=(FloatProgress(value=0.0, description='===>', max=14.0, style=ProgressStyle(description_width='i…"
      ]
     },
     "metadata": {},
     "output_type": "display_data"
    },
    {
     "data": {
      "application/vnd.jupyter.widget-view+json": {
       "model_id": "b21820853f27415b944c7f260cf836ac",
       "version_major": 2,
       "version_minor": 0
      },
      "text/plain": [
       "HBox(children=(FloatProgress(value=0.0, description='==>', max=10.0, style=ProgressStyle(description_width='in…"
      ]
     },
     "metadata": {},
     "output_type": "display_data"
    },
    {
     "name": "stdout",
     "output_type": "stream",
     "text": [
      "\n"
     ]
    },
    {
     "data": {
      "application/vnd.jupyter.widget-view+json": {
       "model_id": "1c4bd5815ba445a199dc35a977905ccb",
       "version_major": 2,
       "version_minor": 0
      },
      "text/plain": [
       "HBox(children=(FloatProgress(value=0.0, description='==>', max=10.0, style=ProgressStyle(description_width='in…"
      ]
     },
     "metadata": {},
     "output_type": "display_data"
    },
    {
     "name": "stdout",
     "output_type": "stream",
     "text": [
      "\n"
     ]
    },
    {
     "data": {
      "application/vnd.jupyter.widget-view+json": {
       "model_id": "53a5f9bf3246400783ab011c74983d3e",
       "version_major": 2,
       "version_minor": 0
      },
      "text/plain": [
       "HBox(children=(FloatProgress(value=0.0, description='==>', max=10.0, style=ProgressStyle(description_width='in…"
      ]
     },
     "metadata": {},
     "output_type": "display_data"
    },
    {
     "name": "stdout",
     "output_type": "stream",
     "text": [
      "\n"
     ]
    },
    {
     "data": {
      "application/vnd.jupyter.widget-view+json": {
       "model_id": "0ccfff8ad0214243930b3fbd3d17184a",
       "version_major": 2,
       "version_minor": 0
      },
      "text/plain": [
       "HBox(children=(FloatProgress(value=0.0, description='==>', max=10.0, style=ProgressStyle(description_width='in…"
      ]
     },
     "metadata": {},
     "output_type": "display_data"
    },
    {
     "name": "stdout",
     "output_type": "stream",
     "text": [
      "\n"
     ]
    },
    {
     "data": {
      "application/vnd.jupyter.widget-view+json": {
       "model_id": "7d26576939954078b7f6c2d56b50f8e1",
       "version_major": 2,
       "version_minor": 0
      },
      "text/plain": [
       "HBox(children=(FloatProgress(value=0.0, description='==>', max=10.0, style=ProgressStyle(description_width='in…"
      ]
     },
     "metadata": {},
     "output_type": "display_data"
    },
    {
     "name": "stdout",
     "output_type": "stream",
     "text": [
      "\n"
     ]
    },
    {
     "data": {
      "application/vnd.jupyter.widget-view+json": {
       "model_id": "7b6f159185084eeea91c76f283fa3c4f",
       "version_major": 2,
       "version_minor": 0
      },
      "text/plain": [
       "HBox(children=(FloatProgress(value=0.0, description='==>', max=10.0, style=ProgressStyle(description_width='in…"
      ]
     },
     "metadata": {},
     "output_type": "display_data"
    },
    {
     "name": "stdout",
     "output_type": "stream",
     "text": [
      "\n"
     ]
    },
    {
     "data": {
      "application/vnd.jupyter.widget-view+json": {
       "model_id": "12a47f19a7284e319efe8d3a533ef708",
       "version_major": 2,
       "version_minor": 0
      },
      "text/plain": [
       "HBox(children=(FloatProgress(value=0.0, description='==>', max=10.0, style=ProgressStyle(description_width='in…"
      ]
     },
     "metadata": {},
     "output_type": "display_data"
    },
    {
     "name": "stdout",
     "output_type": "stream",
     "text": [
      "\n"
     ]
    },
    {
     "data": {
      "application/vnd.jupyter.widget-view+json": {
       "model_id": "a0c6af13002142d6bed9f35271b3f634",
       "version_major": 2,
       "version_minor": 0
      },
      "text/plain": [
       "HBox(children=(FloatProgress(value=0.0, description='==>', max=10.0, style=ProgressStyle(description_width='in…"
      ]
     },
     "metadata": {},
     "output_type": "display_data"
    },
    {
     "name": "stdout",
     "output_type": "stream",
     "text": [
      "\n"
     ]
    },
    {
     "data": {
      "application/vnd.jupyter.widget-view+json": {
       "model_id": "edf2bcff20694868907c220e7817f65a",
       "version_major": 2,
       "version_minor": 0
      },
      "text/plain": [
       "HBox(children=(FloatProgress(value=0.0, description='==>', max=10.0, style=ProgressStyle(description_width='in…"
      ]
     },
     "metadata": {},
     "output_type": "display_data"
    },
    {
     "name": "stdout",
     "output_type": "stream",
     "text": [
      "\n"
     ]
    },
    {
     "data": {
      "application/vnd.jupyter.widget-view+json": {
       "model_id": "aa4a5b938c1f43bbbb25cc7d7c2ccc5f",
       "version_major": 2,
       "version_minor": 0
      },
      "text/plain": [
       "HBox(children=(FloatProgress(value=0.0, description='==>', max=10.0, style=ProgressStyle(description_width='in…"
      ]
     },
     "metadata": {},
     "output_type": "display_data"
    },
    {
     "name": "stdout",
     "output_type": "stream",
     "text": [
      "\n"
     ]
    },
    {
     "data": {
      "application/vnd.jupyter.widget-view+json": {
       "model_id": "0089702c2b3d4988ad1a3c295ba2edef",
       "version_major": 2,
       "version_minor": 0
      },
      "text/plain": [
       "HBox(children=(FloatProgress(value=0.0, description='==>', max=10.0, style=ProgressStyle(description_width='in…"
      ]
     },
     "metadata": {},
     "output_type": "display_data"
    },
    {
     "name": "stdout",
     "output_type": "stream",
     "text": [
      "\n"
     ]
    },
    {
     "data": {
      "application/vnd.jupyter.widget-view+json": {
       "model_id": "32529dcd14d54f649af25eb0288e818d",
       "version_major": 2,
       "version_minor": 0
      },
      "text/plain": [
       "HBox(children=(FloatProgress(value=0.0, description='==>', max=10.0, style=ProgressStyle(description_width='in…"
      ]
     },
     "metadata": {},
     "output_type": "display_data"
    },
    {
     "name": "stdout",
     "output_type": "stream",
     "text": [
      "\n"
     ]
    },
    {
     "data": {
      "application/vnd.jupyter.widget-view+json": {
       "model_id": "068413d4259b499e9b6c35d3c3f1b51b",
       "version_major": 2,
       "version_minor": 0
      },
      "text/plain": [
       "HBox(children=(FloatProgress(value=0.0, description='==>', max=10.0, style=ProgressStyle(description_width='in…"
      ]
     },
     "metadata": {},
     "output_type": "display_data"
    },
    {
     "name": "stdout",
     "output_type": "stream",
     "text": [
      "\n"
     ]
    },
    {
     "data": {
      "application/vnd.jupyter.widget-view+json": {
       "model_id": "0900de3058e24133a3485670e5abf7c2",
       "version_major": 2,
       "version_minor": 0
      },
      "text/plain": [
       "HBox(children=(FloatProgress(value=0.0, description='==>', max=10.0, style=ProgressStyle(description_width='in…"
      ]
     },
     "metadata": {},
     "output_type": "display_data"
    },
    {
     "name": "stdout",
     "output_type": "stream",
     "text": [
      "\n",
      "\n",
      "---------------------------------------------- :\n",
      "------------RESULTADOS---------\n",
      "Recuperados: \n",
      "45\n",
      "Fallecidos: \n",
      "0\n"
     ]
    },
    {
     "data": {
      "image/png": "[encoded data removed]",
      "text/plain": [
       "<Figure size 432x288 with 1 Axes>"
      ]
     },
     "metadata": {
      "needs_background": "light"
     },
     "output_type": "display_data"
    }
   ],
   "source": [
    "contagiados = 85\n",
    "tiempoConsulta = 10  \n",
    "internado = 10\n",
    "simulacion = 10\n",
    "\n",
    "#Diccionario para almacenar los resultados\n",
    "recuperados={}\n",
    "muertos={}\n",
    "tConsultas=[]\n",
    "TiempoEsperaConsultorio=[]\n",
    "pacienteMuertosSinAntencionM=[]\n",
    "pacientesAtendidos=[]\n",
    "\n",
    "class SimulacionHospSTereza(object):\n",
    "    #constructor\n",
    "    def __init__(self, env, num_cama,num_consultorios, name):\n",
    "            self.env = env\n",
    "            self.num_cama = num_cama\n",
    "            self.num_consultorios=num_consultorios\n",
    "            self.camas = simpy.Resource(env, num_cama)\n",
    "            self.consultorios=simpy.Resource(env, num_consultorios)\n",
    "            self.name = name\n",
    "    def ingresarConsultorio(self,paciente):\n",
    "        consulta=random.uniform(tiempoConsulta-0.5, tiempoConsulta+0.5)\n",
    "        yield self.env.timeout(consulta)\n",
    "        print(\"El paciente \", paciente, \" espero\", int(consulta*1440), \"minutos para se atendido\")\n",
    "        tConsultas.append(consulta)\n",
    "        \n",
    "    def PacienteCama(self, paciente):\n",
    "        yield self.env.timeout(random.randint(internado-1.0, internado+1.0))\n",
    "        print(\"El paciente \", paciente, \" fue internado el día \", int(self.env.now))\n",
    "\n",
    "def llegada_paciente(env, hospital, paciente):\n",
    "    arrive = env.now\n",
    "    with hospital.consultorios.request() as consultorio:\n",
    "        esperandoConsulta=random.randint(1,3)\n",
    "        TiempoEsperaConsultorio.append(esperandoConsulta)\n",
    "        reque2 = yield consultorio | env.timeout(esperandoConsulta)\n",
    "        espera2 = env.now - arrive\n",
    "        if consultorio in reque2:\n",
    "            print(\"Al paciente: \", paciente, \"Se le ubica en una sala con cama.\")\n",
    "            yield env.process(hospital.ingresarConsultorio(paciente))\n",
    "            estado = random.randint(1,100)\n",
    "            pacientesAtendidos.append(1)\n",
    "            if(estado < 40):\n",
    "                with hospital.camas.request() as cama:\n",
    "                    arrive2 = env.now\n",
    "                    dias_esperando = random.randint(1,5) \n",
    "                    requerimiento = yield cama | env.timeout(dias_esperando) # tiempo de espera\n",
    "                    espera = env.now - arrive2\n",
    "                    if cama in requerimiento:\n",
    "                        print(\"Al paciente: \", paciente, \" se le asigna una cama\")\n",
    "                        yield env.process(hospital.PacienteCama(paciente))\n",
    "                        estado = random.randint(1,100)\n",
    "                        if (estado < 8) :\n",
    "                            muertos[env.now] = muertos[env.now] + 1 if env.now in muertos else  1\n",
    "                        else:\n",
    "                            recuperados[env.now] = recuperados[env.now] + 1 if env.now in recuperados else 1\n",
    "                    else:\n",
    "                        print(\"El paciente \" , paciente, \" espero \", int(espera) , \" dias y fallece por la falta de camas\")\n",
    "                        muertos[env.now] = muertos[env.now] + 1 if env.now in muertos else  1\n",
    "            else :\n",
    "                print(\"El paciente \", paciente, \" no tiene COVID-19\" )\n",
    "        else:\n",
    "            print(\"El paciente \" , paciente, \"espero \", int(espera2) ,\" dias y fallece porque no fue atendido\")\n",
    "            pacienteMuertosSinAntencionM.append(1)\n",
    "            muertos[env.now] = muertos[env.now] + 1 if env.now in muertos else  1\n",
    "def run(env, tasacrecimiento, infectados):\n",
    "    numeroCamas= 42\n",
    "    numeroConsultorios = 20\n",
    "    hospSTereza = SimulacionHospSTereza(env, numeroCamas,numeroConsultorios, \"Madre Tereza denominado Hospital COVID 1\")\n",
    "    for i in range(infectados):\n",
    "        asignar_hospital(env, hospSTereza, i)\n",
    "    paciente = infectados\n",
    "    while True:\n",
    "        yield env.timeout(1)\n",
    "        for i in range(tasacrecimiento):\n",
    "            paciente += 1\n",
    "            asignar_hospital(env, hospSTereza, paciente)\n",
    "                \n",
    "def asignar_hospital(env, hospSTereza, paciente):\n",
    "    hosp_esc = 1\n",
    "    if (hosp_esc == 1):\n",
    "        print(\"Llega un paciente nuevo: \", paciente, \"Madre Tereza denominado Hospital COVID 1\")\n",
    "        env.process(llegada_paciente(env, hospSTereza, paciente))\n",
    "\n",
    "print(\"Inicio Simulacion Covid-19 Albania\")\n",
    "entrada = int(input(\"ESCRIBA VALOR DE CRECIMIENTO: \"))\n",
    "env=simpy.Environment()\n",
    "env.process(run(env,entrada, contagiados))\n",
    "env.run(until=simulacion)\n",
    "for i in trange(entrada, desc='===>'):\n",
    "    for j in tqdm(range(simulacion), desc='==>'):\n",
    "        sleep(0.001)\n",
    "\n",
    "print(\"---------------------------------------------- :\")\n",
    "print('------------RESULTADOS---------')\n",
    "print(\"Recuperados: \")\n",
    "print(round(sum(muertos)))\n",
    "print(\"Fallecidos: \")\n",
    "print(round(sum(recuperados)))\n",
    "\n",
    "datos=sorted(muertos.items())\n",
    "x, y =zip(*datos)\n",
    "pp.plot(x,y,linewidth=2,color='y')\n",
    "pp.scatter(x,y,color='g')\n",
    "pp.title(\"Personas Fallecidas  / dias de hospitalizacion\")\n",
    "pp.grid(True)\n",
    "pp.show()"
   ]
  },
  {
   "cell_type": "code",
   "execution_count": 12,
   "metadata": {},
   "outputs": [
    {
     "name": "stdout",
     "output_type": "stream",
     "text": [
      "Tiempo promedio en la sala de espera\n",
      "351  minutos\n",
      "Tiempo promedio para que una persona sea atendida desde su llegada al hospital\n",
      "3  horas\n",
      "Numero de pacientes atendidos\n",
      "9\n",
      "Pacientes sin atencion medica y fallecieron\n",
      "164\n"
     ]
    }
   ],
   "source": [
    "print(\"Tiempo promedio en la sala de espera\")\n",
    "r= round(int(sum(tConsultas)/len(tConsultas)*3600)/100)\n",
    "print(r, \" minutos\")\n",
    "print(\"Tiempo promedio para que una persona sea atendida desde su llegada al hospital\")\n",
    "s = (int(2*(sum(TiempoEsperaConsultorio)/len(TiempoEsperaConsultorio))))\n",
    "print(s,\" horas\")\n",
    "print(\"Numero de pacientes atendidos\")\n",
    "t = sum(pacientesAtendidos)\n",
    "print(t)\n",
    "print(\"Pacientes sin atencion medica y fallecieron\")\n",
    "print(sum(pacienteMuertosSinAntencionM))\n",
    "#x=[0.1,r,s,t]\n",
    "#y=[t,s,r,0.1] \n",
    "#pp.plot(x,y,\"o\")\n",
    "#pp.show()"
   ]
  },
  {
   "cell_type": "markdown",
   "metadata": {},
   "source": [
    "## Referencias\n",
    "[1] Matloff, N. (2008). Introduction to Discrete-Event Simulation and the SimPy Language.\n",
    "\n",
    "[2] Team Simpy (2017). SimPy Documentation, Release 3.0.10, 2017. URL: https://media.readthedocs.org/pdf/simpy/latest/simpy.pdf "
   ]
  }
 ],
 "metadata": {
  "kernelspec": {
   "display_name": "Python 3",
   "language": "python",
   "name": "python3"
  },
  "language_info": {
   "codemirror_mode": {
    "name": "ipython",
    "version": 3
   },
   "file_extension": ".py",
   "mimetype": "text/x-python",
   "name": "python",
   "nbconvert_exporter": "python",
   "pygments_lexer": "ipython3",
   "version": "3.7.6"
  }
 },
 "nbformat": 4,
 "nbformat_minor": 2
}
