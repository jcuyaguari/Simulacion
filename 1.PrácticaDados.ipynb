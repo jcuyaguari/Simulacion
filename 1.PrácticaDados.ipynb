{
 "cells": [
  {
   "cell_type": "markdown",
   "metadata": {},
   "source": [
    "# Práctica 1: Simulacion\n",
    "<img src=\"https://www.pequeciencia.ups.edu.ec/imgcontenidos/2-3_Logo%20UPS.png\" width=\"400\"   height=\"341\">\n",
    "<h2><center> Universidad \"Politécnica Salesiana\" </center></h2>\n",
    "<h3><center> \"Simulacion\" </center></h3>\n",
    "<h5><right>Alumno: Juan Cañar. <br> Docente: Ing. Diego Quisi. </right></h5>"
   ]
  },
  {
   "cell_type": "code",
   "execution_count": 83,
   "metadata": {
    "scrolled": false
   },
   "outputs": [
    {
     "name": "stdout",
     "output_type": "stream",
     "text": [
      "CALCULO DE DADOS\n",
      "-- -------------'Con valor de 100'------------- ---\n"
     ]
    },
    {
     "data": {
      "image/png": "[encoded data removed]",
      "text/plain": [
       "<Figure size 432x288 with 1 Axes>"
      ]
     },
     "metadata": {
      "needs_background": "light"
     },
     "output_type": "display_data"
    },
    {
     "name": "stdout",
     "output_type": "stream",
     "text": [
      "* Suma 2 Frecuencia 7 Probabilidad 0.19444444444444445\n",
      "* Suma 3 Frecuencia 9 Probabilidad 0.25\n",
      "* Suma 4 Frecuencia 6 Probabilidad 0.16666666666666666\n",
      "* Suma 5 Frecuencia 5 Probabilidad 0.1388888888888889\n",
      "* Suma 6 Frecuencia 10 Probabilidad 0.2777777777777778\n",
      "* Suma 7 Frecuencia 6 Probabilidad 0.16666666666666666\n",
      "* Suma 8 Frecuencia 5 Probabilidad 0.1388888888888889\n",
      "* Suma 9 Frecuencia 10 Probabilidad 0.2777777777777778\n",
      "* Suma 10 Frecuencia 3 Probabilidad 0.08333333333333333\n",
      "* Suma 11 Frecuencia 4 Probabilidad 0.1111111111111111\n",
      "* Suma 12 Frecuencia 9 Probabilidad 0.25\n",
      "\n",
      "-- -------------'Con valor de 1000'------------- ---\n"
     ]
    },
    {
     "data": {
      "image/png": "[encoded data removed]",
      "text/plain": [
       "<Figure size 432x288 with 1 Axes>"
      ]
     },
     "metadata": {
      "needs_background": "light"
     },
     "output_type": "display_data"
    },
    {
     "name": "stdout",
     "output_type": "stream",
     "text": [
      "* Suma 2 Frecuencia 9 Probabilidad 0.19444444444444445\n",
      "* Suma 3 Frecuencia 5 Probabilidad 0.25\n",
      "* Suma 4 Frecuencia 6 Probabilidad 0.16666666666666666\n",
      "* Suma 5 Frecuencia 7 Probabilidad 0.1388888888888889\n",
      "* Suma 6 Frecuencia 10 Probabilidad 0.2777777777777778\n",
      "* Suma 7 Frecuencia 7 Probabilidad 0.16666666666666666\n",
      "* Suma 8 Frecuencia 9 Probabilidad 0.1388888888888889\n",
      "* Suma 9 Frecuencia 7 Probabilidad 0.2777777777777778\n",
      "* Suma 10 Frecuencia 9 Probabilidad 0.08333333333333333\n",
      "* Suma 11 Frecuencia 7 Probabilidad 0.1111111111111111\n",
      "* Suma 12 Frecuencia 3 Probabilidad 0.25\n",
      "\n",
      "-- -------------'Con valor de 10.000'------------- ---\n"
     ]
    },
    {
     "data": {
      "image/png": "[encoded data removed]",
      "text/plain": [
       "<Figure size 432x288 with 1 Axes>"
      ]
     },
     "metadata": {
      "needs_background": "light"
     },
     "output_type": "display_data"
    },
    {
     "name": "stdout",
     "output_type": "stream",
     "text": [
      "* Suma 2 Frecuencia 5 Probabilidad 0.19444444444444445\n",
      "* Suma 3 Frecuencia 10 Probabilidad 0.25\n",
      "* Suma 4 Frecuencia 6 Probabilidad 0.16666666666666666\n",
      "* Suma 5 Frecuencia 10 Probabilidad 0.1388888888888889\n",
      "* Suma 6 Frecuencia 9 Probabilidad 0.2777777777777778\n",
      "* Suma 7 Frecuencia 8 Probabilidad 0.16666666666666666\n",
      "* Suma 8 Frecuencia 8 Probabilidad 0.1388888888888889\n",
      "* Suma 9 Frecuencia 6 Probabilidad 0.2777777777777778\n",
      "* Suma 10 Frecuencia 10 Probabilidad 0.08333333333333333\n",
      "* Suma 11 Frecuencia 7 Probabilidad 0.1111111111111111\n",
      "* Suma 12 Frecuencia 4 Probabilidad 0.25\n",
      "\n"
     ]
    }
   ],
   "source": [
    "import random\n",
    "import pandas as pd\n",
    "import numpy as np\n",
    "import matplotlib.pyplot as plt\n",
    "\n",
    "class calculo_dados:\n",
    "    lados_dados=[2,3,4,5,6,7,8,9,10,11,12]\n",
    "    valor_frecuencia = []\n",
    "    probabilidad = []\n",
    "    mprobabilidad=[]\n",
    "    def metodo_suma(self,ndatos):\n",
    "        \n",
    "        vector_sumas=[]\n",
    "        for i in range(ndatos):\n",
    "            dado1= random.randint(1,6)\n",
    "            dado2= random.randint(1,6)\n",
    "            suma_random= dado1+dado2\n",
    "            vector_sumas.append(suma_random)\n",
    "        self.grafica(vector_sumas) \n",
    "        #print(vector_sumas)\n",
    "        return vector_sumas\n",
    "\n",
    "    def calculo_probabilidad(self,frecuencia):\n",
    "        total=0\n",
    "        for i in frecuencia:\n",
    "            total=i / 36\n",
    "            self.mprobabilidad.append(total)\n",
    "        return self.mprobabilidad\n",
    "    \n",
    "    def resultado(self,cantidad):\n",
    "        sum=self.metodo_suma(cantidad)\n",
    "        frecuencia=(sum)\n",
    "        pro=self.calculo_probabilidad(frecuencia)\n",
    "        for i,j,k in zip(self.lados_dados,frecuencia,pro):\n",
    "            print('*','Suma',i,'Frecuencia',j,'Probabilidad',k)\n",
    "            self.valor_frecuencia.append(i)\n",
    "            \n",
    "            #ps= pd.DataFrame({\"Suma \":self.lados_dados,\"Frecuencia\": self.valor_frecuencia,\"Probabilidad \":self.probabilidad })\n",
    "            #ps = ps.transpose()\n",
    "            #print('this ii',i)\n",
    "    def grafica(self,i):\n",
    "        #print(\"esto------->\",i,j,k)\n",
    "        plt.hist(i,width=0.4,alpha=0.8,edgecolor='black',facecolor='grey')\n",
    "        plt.xlabel('Lados')\n",
    "        plt.ylabel('Probability')\n",
    "        plt.title('GRAFICA')\n",
    "        \n",
    "        plt.show()\n",
    "        \n",
    "if __name__==\"__main__\":\n",
    "    dados = calculo_dados()\n",
    "    #dados.grafica()\n",
    "    print(\"CALCULO DE DADOS\")\n",
    "    print(\"-- -------------'Con valor de 100'------------- ---\")\n",
    "    dados.resultado(100)\n",
    "    print()\n",
    "    print(\"-- -------------'Con valor de 1000'------------- ---\")\n",
    "    dados.resultado(1000)\n",
    "    print()\n",
    "    print(\"-- -------------'Con valor de 10.000'------------- ---\")\n",
    "    dados.resultado(10000)\n",
    "    print()"
   ]
  },
  {
   "cell_type": "markdown",
   "metadata": {},
   "source": [
    "**Conclusiones:**\n",
    "* Mediante el uso de pyplot y de vectores se puede simular el comportamiento de los dados, graficando mediante barras las probabilidades obtenidas.\n",
    "* Se puede ver que realizando varios lanzamientos, las veces solicitadas tales como 100, 1000, 10000 existe mayoritariamente que la suma de la probabilidad de que salga el numero 7 es mas alta.\n"
   ]
  }
 ],
 "metadata": {
  "kernelspec": {
   "display_name": "Python 3",
   "language": "python",
   "name": "python3"
  },
  "language_info": {
   "codemirror_mode": {
    "name": "ipython",
    "version": 3
   },
   "file_extension": ".py",
   "mimetype": "text/x-python",
   "name": "python",
   "nbconvert_exporter": "python",
   "pygments_lexer": "ipython3",
   "version": "3.7.6"
  }
 },
 "nbformat": 4,
 "nbformat_minor": 4
}
